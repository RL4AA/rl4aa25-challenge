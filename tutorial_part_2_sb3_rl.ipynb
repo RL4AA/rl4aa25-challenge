{
 "cells": [
  {
   "cell_type": "code",
   "execution_count": 1,
   "metadata": {},
   "outputs": [],
   "source": [
    "from functools import partial\n",
    "from pathlib import Path\n",
    "\n",
    "import numpy as np\n",
    "import torch.nn as nn\n",
    "from rl_zoo3 import linear_schedule\n",
    "from stable_baselines3 import PPO\n",
    "from stable_baselines3.common.callbacks import EvalCallback\n",
    "from stable_baselines3.common.vec_env import DummyVecEnv, SubprocVecEnv\n",
    "from wandb.integration.sb3 import WandbCallback\n",
    "\n",
    "import wandb\n",
    "from src.eval import Episode, Study\n",
    "from src.eval.eval_rl_v3_sim import evaluate_policy\n",
    "from src.train.ea_ppo import make_env\n",
    "from src.utils import load_config, save_config"
   ]
  },
  {
   "cell_type": "code",
   "execution_count": null,
   "metadata": {},
   "outputs": [],
   "source": [
    "config = {\n",
    "    # Environment\n",
    "    \"action_mode\": \"delta\",\n",
    "    \"max_quad_setting\": 30.0,\n",
    "    \"max_quad_delta\": 30.0,\n",
    "    \"max_steerer_delta\": 6.1782e-3,\n",
    "    \"magnet_init_mode\": np.array([10.0, -10.0, 0.0, 10.0, 0.0]),\n",
    "    \"incoming_mode\": \"random\",\n",
    "    \"misalignment_mode\": \"random\",\n",
    "    \"max_misalignment\": 5e-4,\n",
    "    \"simulate_finite_screen\": False,\n",
    "    \"target_beam_mode\": np.zeros(4),\n",
    "    \"threshold_hold\": 1,\n",
    "    \"clip_magnets\": True,\n",
    "    # Wrappers\n",
    "    \"frame_stack\": 1,  # 1 means no frame stacking\n",
    "    \"normalize_observation\": True,\n",
    "    \"rescale_action\": True,\n",
    "    \"target_threshold\": None,  # 2e-5 m is estimated screen resolution\n",
    "    \"max_episode_steps\": 50,\n",
    "    # RL algorithm\n",
    "    \"batch_size\": 64,\n",
    "    \"learning_rate\": 0.0003,\n",
    "    \"lr_schedule\": \"constant\",  # Can be \"constant\" or \"linear\"\n",
    "    \"gamma\": 0.99,\n",
    "    \"n_envs\": 40,\n",
    "    \"n_steps\": 64,\n",
    "    \"ent_coef\": 0.0,\n",
    "    \"n_epochs\": 10,\n",
    "    \"gae_lambda\": 0.95,\n",
    "    \"clip_range\": 0.2,\n",
    "    \"clip_range_vf\": None,  # None,\n",
    "    \"vf_coef\": 0.5,\n",
    "    \"max_grad_norm\": 0.5,\n",
    "    \"use_sde\": False,\n",
    "    \"sde_sample_freq\": -1,\n",
    "    \"target_kl\": None,\n",
    "    \"total_timesteps\": 500_000,\n",
    "    # Policy\n",
    "    \"net_arch\": \"small\",  # Can be \"small\" or \"medium\"\n",
    "    \"activation_fn\": \"Tanh\",  # Tanh, ReLU, GELU\n",
    "    \"ortho_init\": True,  # True, False\n",
    "    \"log_std_init\": -2.3,\n",
    "    # SB3 config\n",
    "    \"sb3_device\": \"auto\",\n",
    "    \"vec_env\": \"subproc\",\n",
    "}"
   ]
  },
  {
   "cell_type": "code",
   "execution_count": 3,
   "metadata": {},
   "outputs": [
    {
     "name": "stderr",
     "output_type": "stream",
     "text": [
      "\u001b[34m\u001b[1mwandb\u001b[0m: Using wandb-core as the SDK backend.  Please refer to https://wandb.me/wandb-core for more information.\n",
      "\u001b[34m\u001b[1mwandb\u001b[0m: Currently logged in as: \u001b[33mjank324\u001b[0m (\u001b[33mmsk-ipc\u001b[0m) to \u001b[32mhttps://api.wandb.ai\u001b[0m. Use \u001b[1m`wandb login --relogin`\u001b[0m to force relogin\n",
      "\u001b[34m\u001b[1mwandb\u001b[0m: \u001b[33mWARNING\u001b[0m Path .wandb/wandb/ wasn't writable, using system temp directory.\n"
     ]
    },
    {
     "data": {
      "text/html": [
       "Tracking run with wandb version 0.19.8"
      ],
      "text/plain": [
       "<IPython.core.display.HTML object>"
      ]
     },
     "metadata": {},
     "output_type": "display_data"
    },
    {
     "data": {
      "text/html": [
       "Run data is saved locally in <code>/var/folders/z8/vzg_1dr50gg1zchydp1styc00000gn/T/wandb/run-20250320_112810-hdtmf7d9</code>"
      ],
      "text/plain": [
       "<IPython.core.display.HTML object>"
      ]
     },
     "metadata": {},
     "output_type": "display_data"
    },
    {
     "data": {
      "text/html": [
       "Syncing run <strong><a href='https://wandb.ai/msk-ipc/rl4aa-tutorial-2025-dev/runs/hdtmf7d9' target=\"_blank\">splendid-salad-78</a></strong> to <a href='https://wandb.ai/msk-ipc/rl4aa-tutorial-2025-dev' target=\"_blank\">Weights & Biases</a> (<a href='https://wandb.me/developer-guide' target=\"_blank\">docs</a>)<br>"
      ],
      "text/plain": [
       "<IPython.core.display.HTML object>"
      ]
     },
     "metadata": {},
     "output_type": "display_data"
    },
    {
     "data": {
      "text/html": [
       " View project at <a href='https://wandb.ai/msk-ipc/rl4aa-tutorial-2025-dev' target=\"_blank\">https://wandb.ai/msk-ipc/rl4aa-tutorial-2025-dev</a>"
      ],
      "text/plain": [
       "<IPython.core.display.HTML object>"
      ]
     },
     "metadata": {},
     "output_type": "display_data"
    },
    {
     "data": {
      "text/html": [
       " View run at <a href='https://wandb.ai/msk-ipc/rl4aa-tutorial-2025-dev/runs/hdtmf7d9' target=\"_blank\">https://wandb.ai/msk-ipc/rl4aa-tutorial-2025-dev/runs/hdtmf7d9</a>"
      ],
      "text/plain": [
       "<IPython.core.display.HTML object>"
      ]
     },
     "metadata": {},
     "output_type": "display_data"
    },
    {
     "name": "stdout",
     "output_type": "stream",
     "text": [
      "Using cpu device\n",
      "Logging to log/splendid-salad-78/PPO_1\n"
     ]
    },
    {
     "name": "stderr",
     "output_type": "stream",
     "text": [
      "/opt/homebrew/Caskroom/miniforge/base/envs/rl4aa25-tutorial/lib/python3.12/site-packages/stable_baselines3/common/callbacks.py:418: UserWarning: Training and eval env are not of the same type<stable_baselines3.common.vec_env.subproc_vec_env.SubprocVecEnv object at 0x16c2cc5c0> != <stable_baselines3.common.vec_env.dummy_vec_env.DummyVecEnv object at 0x107303470>\n",
      "  warnings.warn(\"Training and eval env are not of the same type\" f\"{self.training_env} != {self.eval_env}\")\n"
     ]
    },
    {
     "name": "stdout",
     "output_type": "stream",
     "text": [
      "---------------------------------\n",
      "| rollout/           |          |\n",
      "|    ep_len_mean     | 50       |\n",
      "|    ep_rew_mean     | -0.314   |\n",
      "| time/              |          |\n",
      "|    fps             | 1099     |\n",
      "|    iterations      | 1        |\n",
      "|    time_elapsed    | 2        |\n",
      "|    total_timesteps | 2560     |\n",
      "---------------------------------\n",
      "-----------------------------------------\n",
      "| rollout/                |             |\n",
      "|    ep_len_mean          | 50          |\n",
      "|    ep_rew_mean          | -0.346      |\n",
      "| time/                   |             |\n",
      "|    fps                  | 1284        |\n",
      "|    iterations           | 2           |\n",
      "|    time_elapsed         | 3           |\n",
      "|    total_timesteps      | 5120        |\n",
      "| train/                  |             |\n",
      "|    approx_kl            | 0.030704523 |\n",
      "|    clip_fraction        | 0.319       |\n",
      "|    clip_range           | 0.2         |\n",
      "|    entropy_loss         | 4.4         |\n",
      "|    explained_variance   | 0.401       |\n",
      "|    learning_rate        | 0.0003      |\n",
      "|    loss                 | 0.0134      |\n",
      "|    n_updates            | 10          |\n",
      "|    policy_gradient_loss | -0.0192     |\n",
      "|    std                  | 0.101       |\n",
      "|    value_loss           | 0.0457      |\n",
      "-----------------------------------------\n"
     ]
    },
    {
     "name": "stderr",
     "output_type": "stream",
     "text": [
      "/opt/homebrew/Caskroom/miniforge/base/envs/rl4aa25-tutorial/lib/python3.12/site-packages/stable_baselines3/common/save_util.py:284: UserWarning: Path 'models/ea/ppo/splendid-salad-78' does not exist. Will create it.\n",
      "  warnings.warn(f\"Path '{path.parent}' does not exist. Will create it.\")\n"
     ]
    }
   ],
   "source": [
    "# Setup wandb\n",
    "wandb.init(\n",
    "    entity=\"msk-ipc\",\n",
    "    project=\"rl4aa-tutorial-2025-dev\",\n",
    "    sync_tensorboard=True,\n",
    "    monitor_gym=True,\n",
    "    config=config,\n",
    "    dir=\".wandb\",\n",
    ")\n",
    "config = dict(wandb.config)\n",
    "config[\"run_name\"] = wandb.run.name\n",
    "\n",
    "# Setup vecorised environments for training and evaluation\n",
    "assert config[\"vec_env\"] in [\"dummy\", \"subproc\"]\n",
    "vec_env = (\n",
    "    DummyVecEnv([partial(make_env, config) for _ in range(config[\"n_envs\"])])\n",
    "    if config[\"vec_env\"] == \"dummy\"\n",
    "    else SubprocVecEnv([partial(make_env, config) for _ in range(config[\"n_envs\"])])\n",
    ")\n",
    "eval_vec_env = DummyVecEnv(\n",
    "    [partial(make_env, config, plot_episode=True, log_task_statistics=True)]\n",
    ")\n",
    "\n",
    "\n",
    "# Setup learning rate schedule if needed\n",
    "if config[\"lr_schedule\"] == \"linear\":\n",
    "    config[\"learning_rate\"] = linear_schedule(config[\"learning_rate\"])\n",
    "\n",
    "# Setup RL training algorithm\n",
    "model = PPO(\n",
    "    \"MlpPolicy\",\n",
    "    vec_env,\n",
    "    learning_rate=config[\"learning_rate\"],\n",
    "    n_steps=config[\"n_steps\"],\n",
    "    batch_size=config[\"batch_size\"],\n",
    "    n_epochs=config[\"n_epochs\"],\n",
    "    gamma=config[\"gamma\"],\n",
    "    gae_lambda=config[\"gae_lambda\"],\n",
    "    clip_range=config[\"clip_range\"],\n",
    "    clip_range_vf=config[\"clip_range_vf\"],\n",
    "    ent_coef=config[\"ent_coef\"],\n",
    "    vf_coef=config[\"vf_coef\"],\n",
    "    max_grad_norm=config[\"max_grad_norm\"],\n",
    "    use_sde=config[\"use_sde\"],\n",
    "    sde_sample_freq=config[\"sde_sample_freq\"],\n",
    "    target_kl=config[\"target_kl\"],\n",
    "    policy_kwargs={\n",
    "        \"activation_fn\": getattr(nn, config[\"activation_fn\"]),\n",
    "        \"net_arch\": {  # From rl_zoo3\n",
    "            \"small\": {\"pi\": [64, 64], \"vf\": [64, 64]},\n",
    "            \"medium\": {\"pi\": [256, 256], \"vf\": [256, 256]},\n",
    "        }[config[\"net_arch\"]],\n",
    "        \"ortho_init\": config[\"ortho_init\"],\n",
    "        \"log_std_init\": config[\"log_std_init\"],\n",
    "    },\n",
    "    device=config[\"sb3_device\"],\n",
    "    tensorboard_log=f\"log/{config['run_name']}\",\n",
    "    verbose=1,\n",
    ")\n",
    "\n",
    "# Setup callbacks for evaluation and logging\n",
    "eval_callback = EvalCallback(eval_vec_env, eval_freq=1_000, n_eval_episodes=5)\n",
    "wandb_callback = WandbCallback()\n",
    "\n",
    "# Train the model\n",
    "model.learn(\n",
    "    total_timesteps=config[\"total_timesteps\"],\n",
    "    callback=[eval_callback, wandb_callback],\n",
    ")\n",
    "\n",
    "# Save the model and associated configuration\n",
    "model.save(f\"models/ea/ppo/{wandb.run.name}/model\")\n",
    "save_config(config, f\"models/ea/ppo/{wandb.run.name}/config\")\n",
    "\n",
    "# Cleanup environments\n",
    "vec_env.close()\n",
    "eval_vec_env.close()"
   ]
  },
  {
   "cell_type": "code",
   "execution_count": 4,
   "metadata": {},
   "outputs": [],
   "source": [
    "model_name = config[\"run_name\"]\n",
    "model_path = Path(\"models\") / \"ea\" / \"ppo\" / model_name\n",
    "model = PPO.load(model_path / \"model\")\n",
    "config = load_config(model_path / \"config\")\n",
    "\n",
    "evaluate_policy(model, config, write_data=True)"
   ]
  },
  {
   "cell_type": "code",
   "execution_count": 5,
   "metadata": {},
   "outputs": [],
   "source": [
    "study = Study.load(f\"data/evaluate_policy/{model_name}\")"
   ]
  },
  {
   "cell_type": "code",
   "execution_count": null,
   "metadata": {},
   "outputs": [
    {
     "name": "stdout",
     "output_type": "stream",
     "text": [
      "Final MAE: 5276 μm\n",
      "Steps to convergence: 1.0\n",
      "Sum of magnet changes: 4.26\n"
     ]
    }
   ],
   "source": [
    "print(f\"Final MAE: {study.median_final_mae() * 1e6:.0f} μm\")\n",
    "print(f\"Steps to convergence: {study.median_steps_to_convergence(threshold=4e-5)}\")\n",
    "print(f\"Sum of magnet changes: {study.median_sum_of_normalized_magnet_changes():.2f}\")"
   ]
  },
  {
   "cell_type": "code",
   "execution_count": 8,
   "metadata": {},
   "outputs": [
    {
     "data": {
      "image/png": "[encoded data removed]",
      "text/plain": [
       "<Figure size 1332.51x380.291 with 6 Axes>"
      ]
     },
     "metadata": {},
     "output_type": "display_data"
    }
   ],
   "source": [
    "_ = study.episodes[2].plot_summary()"
   ]
  },
  {
   "cell_type": "code",
   "execution_count": null,
   "metadata": {},
   "outputs": [],
   "source": []
  }
 ],
 "metadata": {
  "kernelspec": {
   "display_name": "rl4aa25-tutorial",
   "language": "python",
   "name": "python3"
  },
  "language_info": {
   "codemirror_mode": {
    "name": "ipython",
    "version": 3
   },
   "file_extension": ".py",
   "mimetype": "text/x-python",
   "name": "python",
   "nbconvert_exporter": "python",
   "pygments_lexer": "ipython3",
   "version": "3.12.9"
  }
 },
 "nbformat": 4,
 "nbformat_minor": 2
}
