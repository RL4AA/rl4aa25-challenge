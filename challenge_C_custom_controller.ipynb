{
 "cells": [
  {
   "cell_type": "markdown",
   "metadata": {},
   "source": [
    "# **RL4AA'25 Challenge Part 2:** Open (e.g. controller)\n",
    "\n",
    "In this notebook you can solve the RL challenge by not using RL but by choosing any kind of algorithm you like, e.g. a controller, a planner or a heuristic. For example, this notebook is the option you want to choose if you want to solve the challenge using a classical control algorithm.\n",
    "\n",
    "Below you will find a config dictionary, as well as an evaluation function that runs the `gymnasium` environment loop. The latter has a line in it, where an action (i.e. future magnet settings) is computed from a given observation (i.e. current magnet settings, current beam parameter readings and desired beam parameter values). This is the line you should modify to implement your algorithm. In addition, you can modify the config dictionary.\n",
    "\n",
    "**NOTE:** Please only modify the designated code sections.\n"
   ]
  },
  {
   "cell_type": "code",
   "execution_count": 1,
   "metadata": {},
   "outputs": [],
   "source": [
    "import numpy as np\n",
    "from gymnasium.wrappers import TimeLimit\n",
    "\n",
    "from src.environments import ea\n",
    "from src.eval import Study\n",
    "from src.eval.eval_rl_v3_sim import generate_trials\n",
    "from src.trial import Trial\n",
    "from src.wrappers import RecordEpisode"
   ]
  },
  {
   "cell_type": "markdown",
   "metadata": {},
   "source": [
    "You may change the values in the following `config` dictionary to your liking. Further, you may change **ONLY** the designated line in the cell below that. Most of your solutions will map `observation` to `action`, but you are allowed to do fancier things like keeping track of the history of observations and actions.\n",
    "\n",
    "`action` should be a NumPy array 5 magnet settings. `observation` is a dictionary with the following keys\n",
    "\n",
    "- `magnets` : a NumPy array of 5 magnet settings in downstream order\n",
    "- `beam` : a NumPy array of 4 beam parameters (x position, x size, y position, y size)\n",
    "- `target` : a NumPy array of 4 target beam parameters (x position, x size, y position, y size)\n"
   ]
  },
  {
   "cell_type": "code",
   "execution_count": 2,
   "metadata": {},
   "outputs": [],
   "source": [
    "# You may change this config to your liking\n",
    "config = {\n",
    "    # Setting for incoming beam parameters on reset. Can be `\"random\"` to generate\n",
    "    # random parameters or an array of 11 values to set them to a constant value.\n",
    "    \"magnet_init_mode\": np.array([10.0, -10.0, 0.0, 10.0, 0.0]),\n",
    "    # Maximum allowed quadrupole setting. The real quadrupoles can be set from -72 to\n",
    "    # 72. These limits are imposed by the power supplies, but are unreasonably high to\n",
    "    # the task at hand. It might therefore make sense to choose a lower value.\n",
    "    \"max_quad_setting\": 30,\n",
    "}"
   ]
  },
  {
   "cell_type": "code",
   "execution_count": 3,
   "metadata": {},
   "outputs": [],
   "source": [
    "def evaluate_optimizer(\n",
    "    config: dict,\n",
    "    write_data: bool = True,\n",
    "    seed: int | None = None,\n",
    "    evaluation_name: str = \"unnamed\",\n",
    ") -> None:\n",
    "    \"\"\"\n",
    "    Evaluate an optimiser on a set of trials (different incoming beams, quadrupole\n",
    "    misalignments and screen misalignments).\n",
    "\n",
    "    :param config: The configuration dictionary.\n",
    "    :param write_data: Whether to write the episode data to disk.\n",
    "    :param seed: The seed to use for generating the trials.\n",
    "    \"\"\"\n",
    "\n",
    "    trials = generate_trials(num=20, seed=seed)\n",
    "\n",
    "    for i, trial in enumerate(trials):\n",
    "        evaluate_on_trial(i, trial, config, write_data, evaluation_name)\n",
    "\n",
    "\n",
    "def evaluate_on_trial(\n",
    "    trial_index: int,\n",
    "    trial: Trial,\n",
    "    config: dict,\n",
    "    write_data: bool = True,\n",
    "    evaluation_name: str = \"unnamed\",\n",
    ") -> None:\n",
    "    \"\"\"\n",
    "    Evaluate an optimser on a single trial.\n",
    "\n",
    "    :param trial_index: The index of the trial.\n",
    "    :param trial: The trial to evaluate on.\n",
    "    :param model: The policy model to evaluate.\n",
    "    :param config: The configuration dictionary.\n",
    "    :param write_data: Whether to write the episode data to disk.\n",
    "    :param evaluation_name: The name of the evaluation. Used as the directory name\n",
    "        for the evaluation data.\n",
    "    \"\"\"\n",
    "\n",
    "    # Create the environment\n",
    "    env = ea.TransverseTuning(\n",
    "        backend=\"cheetah\",\n",
    "        backend_args={\n",
    "            \"incoming_mode\": trial.incoming_beam,\n",
    "            \"max_misalignment\": 5e-4,\n",
    "            \"misalignment_mode\": trial.misalignments,\n",
    "            \"simulate_finite_screen\": False,\n",
    "        },\n",
    "        action_mode=\"direct\",\n",
    "        magnet_init_mode=config[\"magnet_init_mode\"],\n",
    "        max_quad_setting=config[\"max_quad_setting\"],\n",
    "        target_beam_mode=np.zeros(4),\n",
    "        target_threshold=None,\n",
    "        threshold_hold=5,\n",
    "        clip_magnets=True,\n",
    "    )\n",
    "    env = TimeLimit(env, 150)\n",
    "    if write_data:\n",
    "        env = RecordEpisode(\n",
    "            env,\n",
    "            save_dir=(f\"data/{evaluation_name}/problem_{trial_index:03d}\"),\n",
    "        )\n",
    "\n",
    "    # Actual optimisation\n",
    "    observation, info = env.reset()\n",
    "    done = False\n",
    "    # vvvvvvvvvvvv You may add initialisation code here vvvvvvvvvvvv\n",
    "    ...\n",
    "    # ^^^^^^^^^^^^ You may add initialisation code here ^^^^^^^^^^^^\n",
    "    while not done:\n",
    "        # vvvvvvvvvvvv Only modify the code below vvvvvvvvvvvv\n",
    "\n",
    "        action = observation[\"magnets\"]  # <<<<<<< Implement your controller logic here\n",
    "        # The action should be a 5-dimensional np.array\n",
    "\n",
    "        # ^^^^^^^^^^^^ Only modify the code above ^^^^^^^^^^^^\n",
    "\n",
    "        observation, reward, terminated, truncated, info = env.step(action)\n",
    "        done = terminated or truncated\n",
    "\n",
    "    env.close()"
   ]
  },
  {
   "cell_type": "markdown",
   "metadata": {},
   "source": [
    "## Evaluate your implementation\n",
    "\n",
    "The following code evaluates your implementation. We recommend you give it a useful name. If you fail to do so, some of your old results may be overwritten.\n"
   ]
  },
  {
   "cell_type": "code",
   "execution_count": 4,
   "metadata": {},
   "outputs": [],
   "source": [
    "evaluation_name = \"just_keep_the_settings\"\n",
    "\n",
    "evaluate_optimizer(\n",
    "    config=config,\n",
    "    write_data=True,\n",
    "    seed=42,\n",
    "    evaluation_name=evaluation_name,\n",
    ")"
   ]
  },
  {
   "cell_type": "markdown",
   "metadata": {},
   "source": [
    "Now the results are loaded, shown to you and a CSV file is generated at `data/csvs/[evaluation_name].csv`. This file is the one you need to submit to the challenge.\n"
   ]
  },
  {
   "cell_type": "code",
   "execution_count": 5,
   "metadata": {},
   "outputs": [],
   "source": [
    "study = Study.load(f\"data/{evaluation_name}\", name=evaluation_name)"
   ]
  },
  {
   "cell_type": "code",
   "execution_count": 6,
   "metadata": {},
   "outputs": [
    {
     "name": "stdout",
     "output_type": "stream",
     "text": [
      "Final MAE: 537 μm\n",
      "Steps to convergence: 1.0\n",
      "Sum of magnet changes: 0.00\n",
      "--------------------\n",
      "Score: 0.0067\n"
     ]
    }
   ],
   "source": [
    "study.evaluate_challenge()"
   ]
  },
  {
   "cell_type": "markdown",
   "metadata": {},
   "source": [
    "You can also admire your implementation in action by running the following code:\n"
   ]
  },
  {
   "cell_type": "code",
   "execution_count": 7,
   "metadata": {},
   "outputs": [
    {
     "data": {
      "image/png": "[encoded data removed]",
      "text/plain": [
       "<Figure size 1332.51x380.291 with 6 Axes>"
      ]
     },
     "metadata": {},
     "output_type": "display_data"
    }
   ],
   "source": [
    "_ = study.episodes[2].plot_summary()"
   ]
  },
  {
   "cell_type": "markdown",
   "metadata": {},
   "source": [
    "## 🏆 Upload your results to Kaggle\n",
    "\n",
    "For the chance to win the challenge prize. Go to `data/csvs/` and upload the CSV file via \\_\"Submit Prediction\" to the challenge submission page: https://www.kaggle.com/t/ad56a627d147405fa7b5c8629c8b7cf4\n"
   ]
  },
  {
   "cell_type": "code",
   "execution_count": null,
   "metadata": {},
   "outputs": [],
   "source": []
  }
 ],
 "metadata": {
  "kernelspec": {
   "display_name": "rl4aa25-challenge",
   "language": "python",
   "name": "python3"
  },
  "language_info": {
   "codemirror_mode": {
    "name": "ipython",
    "version": 3
   },
   "file_extension": ".py",
   "mimetype": "text/x-python",
   "name": "python",
   "nbconvert_exporter": "python",
   "pygments_lexer": "ipython3",
   "version": "3.11.11"
  }
 },
 "nbformat": 4,
 "nbformat_minor": 2
}
