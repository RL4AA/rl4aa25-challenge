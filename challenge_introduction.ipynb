{
   "cells": [
      {
         "cell_type": "markdown",
         "metadata": {
            "slideshow": {
               "slide_type": "slide"
            }
         },
         "source": [
            "<h1 style=\"text-align: center; vertical-align: middle;\">\n",
            "    <span style=\"color: #B74F3D;\"> 3rd Reinforcement Learning for Autonomous Accelerators Workshop Hands-On Challenge</span>\n",
            "    <span style=\"color: #666666;\">: Beam Transverse Steering at ARES Linear Accelerator</span>\n",
            "</h1>\n",
            "\n",
            "<div style=\"text-align: center;\">\n",
            "    <img src=\"img/rl4aa_logo.png\" alt=\"RL4AA Logo\" style=\"max-width: 12%; height: auto;\">\n",
            "</div>\n"
         ]
      },
      {
         "cell_type": "markdown",
         "metadata": {
            "slideshow": {
               "slide_type": "slide"
            }
         },
         "source": [
            "<h2 style=\"color: #b51f2a\">Getting started</h2>\n",
            "\n",
            "- You will need **Python 3.12 or higher** to run this code &#x2757;\n",
            "- You will require about **1 GB of free disk space** &#x2757;\n",
            "- Make sure you have Git installed in your terminal &#x2757;\n",
            "\n",
            "Start by cloning locally the repository of the challenge by running this command in your terminal:\n",
            "\n",
            "```bash\n",
            "git clone https://github.com/RL4AA/rl4aa25-challenge.git\n",
            "```\n"
         ]
      },
      {
         "cell_type": "markdown",
         "metadata": {
            "slideshow": {
               "slide_type": "slide"
            }
         },
         "source": [
            "<h2 style=\"color: #b51f2a\">Installing virtual environment</h2>\n",
            "\n",
            "### Using conda-forge\n",
            "\n",
            "- If you don't have conda installed already, you can install the `miniforge` as described in the [GitHub repository](https://github.com/conda-forge/miniforge) or download from the [conda-forge site](https://conda-forge.org/download/). Once `miniforge` is installed, you can use the `conda` commands as usual.\n",
            "- We recommend installing `miniforge` the day beforehand to avoid network overload during the challenge &#x2757; &#x2757;\n",
            "\n",
            "**Note**: If you already have anaconda or miniconda installed, please remove the anaconda channels from the channel list and use `conda-forge` (community version), as the package installation from commercial channels is blocked insde of the DESY network.\n",
            "\n",
            "Once `miniforge` is installed run this command in your terminal:\n",
            "\n",
            "```bash\n",
            "conda env create -f environment.yaml\n",
            "```\n",
            "\n",
            "This should create a virtual environment named `rl4aa25-challenge` and install the necessary packages inside.\n",
            "\n",
            "Afterwards, activate the environment using\n",
            "\n",
            "```bash\n",
            "conda activate rl4aa25-challenge\n",
            "```\n"
         ]
      },
      {
         "cell_type": "markdown",
         "metadata": {
            "slideshow": {
               "slide_type": "slide"
            }
         },
         "source": [
            "<h2 style=\"color: #b51f2a\">Check your installation</h2>\n",
            "If you set up your virtual environment correctly and is activated you should be able to run the next cell without any errors:\n"
         ]
      },
      {
         "cell_type": "code",
         "execution_count": 1,
         "metadata": {
            "slideshow": {
               "slide_type": "subslide"
            }
         },
         "outputs": [
            {
               "name": "stderr",
               "output_type": "stream",
               "text": [
                  "INFO:src.render_3d.beam_server.beam_visualization_wrapper:Loaded .env from /Users/jankaiser/Documents/DESY/rl4aa25-challenge/src/render_3d/.env\n",
                  "INFO:src.render_3d.beam_server.beam_visualization_wrapper:NODE_ENV: development\n",
                  "INFO:src.render_3d.beam_server.beam_visualization_wrapper:VITE_FRONTEND_PORT: 5173\n"
               ]
            }
         ],
         "source": [
            "import asyncio\n",
            "import logging\n",
            "\n",
            "from IPython.display import IFrame, display\n",
            "\n",
            "from src.environments import ea\n",
            "from src.visualization import restart_manual_tuning, visualization_main\n",
            "from src.wrappers import PlotEpisode"
         ]
      },
      {
         "cell_type": "markdown",
         "metadata": {
            "slideshow": {
               "slide_type": "slide"
            }
         },
         "source": [
            "<h2 style=\"color: #b51f2a\"> ARES (Accelerator Research Experiment at SINBAD)</h2>\n",
            "\n",
            "<p>ARES is an S-band radio frequency linac at the DESY Hamburg site equipped with a photoinjector and two independently driven traveling wave accelerating structures. The main research focus is the generation and characterization of sub-femtosecond electron bunches at relativistic particle energy. The generation of short electron bunches is of high interest for radiation generation, i.e. by free electron lasers.</p>\n",
            "\n",
            "<img src=\"img/ARES_layout.png\" style=\"width:100%; margin:auto;\"/>\n",
            "\n",
            "- **Final energy**: 100-155 MeV\n",
            "- **Bunch charge**: 0.01-200 pC\n",
            "- **Bunch length**: 30 fs - 1 ps\n",
            "- **Pulse repetition rate**: 1-50 Hz!\n"
         ]
      },
      {
         "cell_type": "markdown",
         "metadata": {
            "slideshow": {
               "slide_type": "slide"
            }
         },
         "source": [
            "<h2 style=\"color: #b51f2a\">The accelerator problem we want to solve</h2>\n",
            "\n",
            "<p>We would like to focus and center the electron beam on a diagnostic screen using corrector and quadrupole magnets</p>\n",
            "\n",
            "<img src=\"img/ares_magnets.png\" style=\"width:60%; margin:auto;\"/>\n"
         ]
      },
      {
         "cell_type": "markdown",
         "metadata": {
            "slideshow": {
               "slide_type": "slide"
            }
         },
         "source": [
            "<h2 style=\"color: #b51f2a\">Formulating the RL problem</h2>\n",
            "\n",
            "<h3>Overview of our study case</h3>\n",
            "\n",
            "<img src=\"img/ares_rl_problem.png\" style=\"width:70%; margin:auto;\"/>\n"
         ]
      },
      {
         "cell_type": "markdown",
         "metadata": {
            "slideshow": {
               "slide_type": "slide"
            }
         },
         "source": [
            "<h3>Actions</h3>\n",
            "\n",
            "<div class=\"row\">\n",
            "    <div class=\"column\" style=\"width:60%;float:left\">\n",
            "        <p>In the ARES transverse tuning task we have 3 quadrupoles and 2 corrector magnets</p>\n",
            "        <p>The actions are:\n",
            "            <ul>\n",
            "            <li><b>Quadrupole magnet strength</b> $k_{1,2,3}$ $[1/m^2]$</li>\n",
            "            <li><b>Corrector deflection angle</b> $\\theta_\\mathrm{v, h}$ $[mrad]$ (vertical and horizontal</li>\n",
            "            </ul>\n",
            "        </p>\n",
            "        <p>In our control system we can set these derived values directly according the beam energy</p>\n",
            "        <p>$\\implies$ <code>actions</code> $=[k_{\\mathrm{Q1}},k_{\\mathrm{Q2}},\\theta_\\mathrm{CV},k_{\\mathrm{Q3}},\\theta_\\mathrm{CH}]$</p>\n",
            "            <p>is a 5-dimensional array</p>\n",
            "    </div>\n",
            "    <div class=\"column\" style=\"width:40%;float:right\">\n",
            "        <img src=\"img/dipole.png\" style=\"width:50%; margin:auto;\"/>\n",
            "        <img src=\"img/quads.png\" style=\"width:35%; margin:auto;\"/>\n",
            "    </div>\n",
            "</div>\n"
         ]
      },
      {
         "cell_type": "markdown",
         "metadata": {
            "slideshow": {
               "slide_type": "slide"
            }
         },
         "source": [
            "<h3>Observation / state</h3>\n",
            "\n",
            "<div class=\"row\">\n",
            "    <div class=\"column\" style=\"width:50%;float:left\">\n",
            "        <p>Observation is the information an agent receives about the current state of the environment</p>\n",
            "        <p>It should provide enough information so that the agent can solve this problem.</p>\n",
            "        <p>The observation does not necessarily cover the entire (internal) state of the environment.</p>\n",
            "    </div>\n",
            "    <div class=\"column\" style=\"width:50%;float:right\">\n",
            "      <img src=\"img/screen_2.png\" style=\"width:30%; margin:auto;\"/>\n",
            "      <p style=\"clear:both; font-size: small; text-align: center; margin-top:1em;\">\n",
            "          Scintillator screen to image the electrons</p>\n",
            "      <img src=\"img/screen_1.png\" style=\"width:30%; margin:auto;\"/>\n",
            "      <p style=\"clear:both; font-size: small; text-align: center; margin-top:1em;\">The camera films the screen</p>\n",
            "    </div>\n",
            "</div>\n"
         ]
      },
      {
         "cell_type": "markdown",
         "metadata": {
            "slideshow": {
               "slide_type": "slide"
            }
         },
         "source": [
            "<h3> The environment's state (continued)</h3>\n",
            "\n",
            "The `state` of the EA environment can be fully described by four components:\n",
            "\n",
            "- The **target beam**: the beam we want to achieve, our goal\n",
            "  - as a 4-dimensional array $b^\\mathrm{(t)}=[\\mu_x^{(\\mathrm{t})},\\sigma_x^{(\\mathrm{t})},\\mu_y^{(\\mathrm{t})},\\sigma_y^{(\\mathrm{t})}]$, where $\\mu$ denotes the position on the screen, $\\sigma$ denotes the beam size, and $t$ stands for \"target\".\n",
            "- The **incoming beam**: the beam that enters the EA upstream\n",
            "  - $I = [\\mu_x^{(\\mathrm{i})},\\sigma_x^{(\\mathrm{i})},\\mu_y^{(\\mathrm{i})},\\sigma_y^{(\\mathrm{i})},\\mu_{xp}^{(\\mathrm{i})},\\sigma_{xp}^{(\\mathrm{i})},\\mu_{yp}^{(\\mathrm{i})},\\sigma_{yp}^{(\\mathrm{i})},\\mu_s^{(\\mathrm{i})},\\sigma_s^{(\\mathrm{i})}]$, where $i$ stands for \"incoming\"\n",
            "- The **magnet strengths** and **deflection angles**\n",
            "  - $[k_{\\mathrm{Q1}},k_{\\mathrm{Q2}},\\theta_\\mathrm{CV},k_{\\mathrm{Q3}},\\theta_\\mathrm{CH}]$\n",
            "- The **transverse misalignments** of **quadrupoles** and the **diagnostic screen**\n",
            "  - $[m_{\\mathrm{Q1}}^{(\\mathrm{x})},m_{\\mathrm{Q1}}^{(\\mathrm{y})},m_{\\mathrm{Q2}}^{(\\mathrm{x})},m_{\\mathrm{Q2}}^{(\\mathrm{y})},m_{\\mathrm{Q3}}^{(\\mathrm{x})},m_{\\mathrm{Q3}}^{(\\mathrm{y})},m_{\\mathrm{S}}^{(\\mathrm{x})},m_{\\mathrm{S}}^{(\\mathrm{y})}]$\n"
         ]
      },
      {
         "cell_type": "markdown",
         "metadata": {
            "slideshow": {
               "slide_type": "slide"
            }
         },
         "source": [
            "<h3> Our definition of observation</h3>\n",
            "\n",
            "The `observation` for this task consists of three components:\n",
            "\n",
            "- The **target beam**: The desired beam, or the goal we aim to achieve.\n",
            "  - as a 4-dimensional array $b^\\mathrm{(t)}=[\\mu_x^{(\\mathrm{t})},\\sigma_x^{(\\mathrm{t})},\\mu_y^{(\\mathrm{t})},\\sigma_y^{(\\mathrm{t})}]$, where $\\mu$ represents the position on the screen, $\\sigma$ denotes the beam size, and $t$ refers to the \"target\".\n",
            "- The **current beam**: The beam currently in place.\n",
            "  - $b^\\mathrm{(c)}=[\\mu_x^{(\\mathrm{c})},\\sigma_x^{(\\mathrm{c})},\\mu_y^{(\\mathrm{c})},\\sigma_y^{(\\mathrm{c})}]$, where $c$ represents \"current\".\n",
            "- Magnet settings: The **magnet strengths** and **deflection angles**\n",
            "  - $[k_{\\mathrm{Q1}},k_{\\mathrm{Q2}},\\theta_\\mathrm{CV},k_{\\mathrm{Q3}},\\theta_\\mathrm{CH}]$\n"
         ]
      },
      {
         "cell_type": "markdown",
         "metadata": {
            "slideshow": {
               "slide_type": "slide"
            }
         },
         "source": [
            "<h3>RL Goal and Reward</h3>\n",
            "\n",
            "Our goal is divided into two tasks:\n",
            "\n",
            "1. **Steering** the beam to the desired position.\n",
            "2. **Focusing** the beam to the desired size.\n",
            "\n",
            "This is included in the calculation of a scalar `reward` signal. The RL agent is tasked to maximize the cumulative reward by choosing the best actions.\n"
         ]
      },
      {
         "cell_type": "markdown",
         "metadata": {
            "slideshow": {
               "slide_type": "slide"
            }
         },
         "source": [
            "<h2 style=\"color: #b51f2a\">About libraries for RL</h2>\n",
            "\n",
            "<p>There are several libraries that provide pre-implemented RL algorithms and frameworks for creating environments. In this notebook, we use:</p>\n",
            "\n",
            "- [Gymnasium](https://gymnasium.farama.org/) for the environment\n",
            "- [Stable-Baselines3](https://stable-baselines3.readthedocs.io/) for the RL algorithms\n",
            "\n",
            "<img src=\"img/rl_libraries.png\"  style=\"width:60%; margin:auto;\"/>\n",
            "\n",
            "<p style=\"clear:both; font-size: small; text-align: center; margin-top:1em;\">More info <a href=\"https://neptune.ai/blog/the-best-tools-for-reinforcement-learning-in-python\">here</a></p>\n",
            "\n",
            "**Note**:\n",
            "\n",
            "- Gymnasium is the successor of the [OpenAI Gym](https://www.gymlibrary.dev/).\n",
            "- Stable-baselines3 now has an early-stage JAX implementation [sbx](https://github.com/araffin/sbx).\n"
         ]
      },
      {
         "cell_type": "markdown",
         "metadata": {
            "slideshow": {
               "slide_type": "slide"
            }
         },
         "source": [
            "<h2 style=\"color: #b51f2a\">A Gymnasium Environment</h2>\n",
            "\n",
            "We take all the elements of the RL problem we previously defined and represent the tuning task as a `gym`-based environment, a standard library for RL tasks.\n",
            "\n",
            "A custom `gym.Env` consists of the following components:\n",
            "\n",
            "- **Initialization**: Sets up the environment and defines the `observation_space` and `action_space`\n",
            "- `reset` **method**: Resets the environment for a new episode and returns a 2-tuple `(observation, info)`\n",
            "- `step` **method**: Contains the core logic. It accepts an action, updates the environment state, generates a new observation, computes the reward, and returns a 5-tuple `(observation, reward, terminated, truncated, info)`.\n",
            "  - `terminated` Determines whether the episode should end based on the underlying MDP (e.g., goal reached, threshold exceeded)\n",
            "  - `truncated` Checks if the episode should be truncated due to conditions outside the MDP (e.g., time limits).\n",
            "- `render` **method**: Provides a visual representation of the environment (e.g., video or plots).\n"
         ]
      },
      {
         "cell_type": "markdown",
         "metadata": {
            "slideshow": {
               "slide_type": "slide"
            }
         },
         "source": [
            "<h2 style=\"color: #b51f2a\">The ARES Experimental Area (ARES-EA) Environment</h2>\n",
            "\n",
            "- We formulated the ARES-EA task as a `gym` environment, allowing our algorithm to easily interface with both the simulation and real machine backends.\n",
            "- In this section, you will become familiar with the environment for beam focusing and positioning at the ARES accelerator.\n",
            "\n",
            "Important APIs to interact with the environment:\n",
            "\n",
            "- `reset`: Resets the magnets to their initial values. In the simulation, it also (optionally) regenerates the incoming beam and the magnet misalignments.\n",
            "- `step`: Takes a given action, adjusts the magnets to new settings and observes the beam (either by running a simulation or observing the screen image in the real world).\n"
         ]
      },
      {
         "cell_type": "markdown",
         "metadata": {},
         "source": [
            "<h2>Interacting with the ARES-EA Environment</h2>\n",
            "\n",
            "First, let's see how the ARES-EA environment works by interacting with it.\n",
            "\n",
            "You can run the following section to render the envrionment in 3D and see the ARES-EA reacting to your changes live.\n",
            "\n",
            "Otherwise, you can jump directly to the next section: [Try manual tuning](#try-manual-tuning) which implements a 2D visualization of the beam screen.\n"
         ]
      },
      {
         "cell_type": "markdown",
         "metadata": {
            "slideshow": {
               "slide_type": "slide"
            }
         },
         "source": [
            "### Interacting live with 3D Rendering\n",
            "\n",
            "The visualization is built using WebGL and JavaScript to create an immersive and responsive experience.\n"
         ]
      },
      {
         "cell_type": "markdown",
         "metadata": {
            "slideshow": {
               "slide_type": "slide"
            }
         },
         "source": [
            "### Starting the 3D rendering\n",
            "\n",
            "The cell below starts the main loop, and establish a connection to show the visualization using a Websocket.\n"
         ]
      },
      {
         "cell_type": "code",
         "execution_count": null,
         "metadata": {},
         "outputs": [
            {
               "name": "stderr",
               "output_type": "stream",
               "text": [
                  "INFO:src.render_3d.beam_server.websocket_wrapper:WebSocket server thread started on ws://0.0.0.0:8081\n",
                  "INFO:src.render_3d.beam_server.beam_visualization_wrapper:JavaScript web application setup initiated on http://0.0.0.0:5173\n",
                  "INFO:src.render_3d.beam_server.beam_visualization_wrapper:Running in mode: production\n",
                  "WARNING:src.render_3d.beam_server.segment_3d_builder:Element type Marker not recognized.\n",
                  "INFO:src.render_3d.beam_server.beam_visualization_wrapper:Starting Express server (server.js) on http://0.0.0.0:5173\n",
                  "WARNING:src.render_3d.beam_server.segment_3d_builder:Element type Drift not recognized.\n",
                  "INFO:websockets.server:server listening on 0.0.0.0:8081\n",
                  "INFO:src.render_3d.beam_server.websocket_wrapper:WebSocket server running on ws://0.0.0.0:8081\n",
                  "INFO:src.render_3d.beam_server.segment_3d_builder:Added Quadrupole: AREAMQZM1 at position 0.17504000663757324\n",
                  "WARNING:src.render_3d.beam_server.segment_3d_builder:Element type Drift not recognized.\n",
                  "INFO:src.render_3d.beam_server.segment_3d_builder:Added Quadrupole: AREAMQZM2 at position 0.7250400111079216\n",
                  "WARNING:src.render_3d.beam_server.segment_3d_builder:Element type Drift not recognized.\n",
                  "INFO:src.render_3d.beam_server.segment_3d_builder:Added VerticalCorrector: AREAMCVM1 at position 1.0510400086641312\n",
                  "WARNING:src.render_3d.beam_server.segment_3d_builder:Element type Drift not recognized.\n",
                  "INFO:src.render_3d.beam_server.segment_3d_builder:Added Quadrupole: AREAMQZM3 at position 1.275040004402399\n",
                  "WARNING:src.render_3d.beam_server.segment_3d_builder:Element type Drift not recognized.\n",
                  "INFO:src.render_3d.beam_server.segment_3d_builder:Added HorizontalCorrector: AREAMCHM1 at position 1.5760400108993053\n",
                  "WARNING:src.render_3d.beam_server.segment_3d_builder:Element type Drift not recognized.\n",
                  "INFO:src.render_3d.beam_server.segment_3d_builder:Added Screen: AREABSCR1 at position 2.0460399985313416\n",
                  "INFO:src.render_3d.beam_server.segment_3d_builder:Final lattice segment length: 2.0460399985313416\n"
               ]
            },
            {
               "name": "stdout",
               "output_type": "stream",
               "text": [
                  "Waiting for WebSocket client to connect...\n"
               ]
            },
            {
               "name": "stderr",
               "output_type": "stream",
               "text": [
                  "ERROR:src.render_3d.beam_server.beam_visualization_wrapper:Vite stderr: node:internal/modules/esm/resolve:857\n",
                  "ERROR:src.render_3d.beam_server.beam_visualization_wrapper:Vite stderr: throw new ERR_MODULE_NOT_FOUND(packageName, fileURLToPath(base), null);\n",
                  "ERROR:src.render_3d.beam_server.beam_visualization_wrapper:Vite stderr: ^\n",
                  "ERROR:src.render_3d.beam_server.beam_visualization_wrapper:Vite stderr: \n",
                  "ERROR:src.render_3d.beam_server.beam_visualization_wrapper:Vite stderr: Error [ERR_MODULE_NOT_FOUND]: Cannot find package 'express' imported from /Users/jankaiser/Documents/DESY/rl4aa25-challenge/src/render_3d/server.js\n",
                  "ERROR:src.render_3d.beam_server.beam_visualization_wrapper:Vite stderr: \u001b[90m    at packageResolve (node:internal/modules/esm/resolve:857:9)\u001b[39m\n",
                  "ERROR:src.render_3d.beam_server.beam_visualization_wrapper:Vite stderr: \u001b[90m    at moduleResolve (node:internal/modules/esm/resolve:926:18)\u001b[39m\n",
                  "ERROR:src.render_3d.beam_server.beam_visualization_wrapper:Vite stderr: \u001b[90m    at defaultResolve (node:internal/modules/esm/resolve:1056:11)\u001b[39m\n",
                  "ERROR:src.render_3d.beam_server.beam_visualization_wrapper:Vite stderr: \u001b[90m    at ModuleLoader.defaultResolve (node:internal/modules/esm/loader:654:12)\u001b[39m\n",
                  "ERROR:src.render_3d.beam_server.beam_visualization_wrapper:Vite stderr: \u001b[90m    at #cachedDefaultResolve (node:internal/modules/esm/loader:603:25)\u001b[39m\n",
                  "ERROR:src.render_3d.beam_server.beam_visualization_wrapper:Vite stderr: \u001b[90m    at ModuleLoader.resolve (node:internal/modules/esm/loader:586:38)\u001b[39m\n",
                  "ERROR:src.render_3d.beam_server.beam_visualization_wrapper:Vite stderr: \u001b[90m    at ModuleLoader.getModuleJobForImport (node:internal/modules/esm/loader:242:38)\u001b[39m\n",
                  "ERROR:src.render_3d.beam_server.beam_visualization_wrapper:Vite stderr: \u001b[90m    at ModuleJob._link (node:internal/modules/esm/module_job:135:49)\u001b[39m {\n",
                  "ERROR:src.render_3d.beam_server.beam_visualization_wrapper:Vite stderr: code: \u001b[32m'ERR_MODULE_NOT_FOUND'\u001b[39m\n",
                  "ERROR:src.render_3d.beam_server.beam_visualization_wrapper:Vite stderr: }\n",
                  "ERROR:src.render_3d.beam_server.beam_visualization_wrapper:Vite stderr: \n",
                  "ERROR:src.render_3d.beam_server.beam_visualization_wrapper:Vite stderr: Node.js v22.13.0\n"
               ]
            },
            {
               "name": "stdout",
               "output_type": "stream",
               "text": [
                  "Simulation is running in the background. You can now run other cells.\n"
               ]
            },
            {
               "name": "stdout",
               "output_type": "stream",
               "text": [
                  "\n",
                  "--- Starting simulation loop ---\n"
               ]
            },
            {
               "name": "stderr",
               "output_type": "stream",
               "text": [
                  "INFO:__main__:Step 1: Action = [0. 0. 0. 0. 0.], Reward = 1.0, Observation = {'beam': array([ 5.2613555e-05,  3.4052122e-04, -9.4386283e-05,  2.1554634e-04],\n",
                  "      dtype=float32), 'magnets': array([0., 0., 0., 0., 0.], dtype=float32), 'target': array([ 0.00078388,  0.00124267, -0.00019619,  0.00077792], dtype=float32)}\n"
               ]
            },
            {
               "name": "stdout",
               "output_type": "stream",
               "text": [
                  "New action received: [0. 0. 0. 0. 0.]\n"
               ]
            },
            {
               "name": "stderr",
               "output_type": "stream",
               "text": [
                  "INFO:__main__:Step 2: Action = [0. 0. 0. 0. 0.], Reward = 1.0, Observation = {'beam': array([ 5.2613555e-05,  3.4052122e-04, -9.4386283e-05,  2.1554634e-04],\n",
                  "      dtype=float32), 'magnets': array([0., 0., 0., 0., 0.], dtype=float32), 'target': array([ 0.00078388,  0.00124267, -0.00019619,  0.00077792], dtype=float32)}\n",
                  "INFO:__main__:Step 3: Action = [0. 0. 0. 0. 0.], Reward = 1.0, Observation = {'beam': array([ 5.2613555e-05,  3.4052122e-04, -9.4386283e-05,  2.1554634e-04],\n",
                  "      dtype=float32), 'magnets': array([0., 0., 0., 0., 0.], dtype=float32), 'target': array([ 0.00078388,  0.00124267, -0.00019619,  0.00077792], dtype=float32)}\n",
                  "INFO:__main__:Step 4: Action = [0. 0. 0. 0. 0.], Reward = 1.0, Observation = {'beam': array([ 5.2613555e-05,  3.4052122e-04, -9.4386283e-05,  2.1554634e-04],\n",
                  "      dtype=float32), 'magnets': array([0., 0., 0., 0., 0.], dtype=float32), 'target': array([ 0.00078388,  0.00124267, -0.00019619,  0.00077792], dtype=float32)}\n",
                  "INFO:__main__:Step 5: Action = [0. 0. 0. 0. 0.], Reward = 1.0, Observation = {'beam': array([ 5.2613555e-05,  3.4052122e-04, -9.4386283e-05,  2.1554634e-04],\n",
                  "      dtype=float32), 'magnets': array([0., 0., 0., 0., 0.], dtype=float32), 'target': array([ 0.00078388,  0.00124267, -0.00019619,  0.00077792], dtype=float32)}\n",
                  "INFO:__main__:Step 6: Action = [0. 0. 0. 0. 0.], Reward = 1.0, Observation = {'beam': array([ 5.2613555e-05,  3.4052122e-04, -9.4386283e-05,  2.1554634e-04],\n",
                  "      dtype=float32), 'magnets': array([0., 0., 0., 0., 0.], dtype=float32), 'target': array([ 0.00078388,  0.00124267, -0.00019619,  0.00077792], dtype=float32)}\n",
                  "INFO:__main__:Step 7: Action = [0. 0. 0. 0. 0.], Reward = 1.0, Observation = {'beam': array([ 5.2613555e-05,  3.4052122e-04, -9.4386283e-05,  2.1554634e-04],\n",
                  "      dtype=float32), 'magnets': array([0., 0., 0., 0., 0.], dtype=float32), 'target': array([ 0.00078388,  0.00124267, -0.00019619,  0.00077792], dtype=float32)}\n",
                  "INFO:__main__:Step 8: Action = [0. 0. 0. 0. 0.], Reward = 1.0, Observation = {'beam': array([ 5.2613555e-05,  3.4052122e-04, -9.4386283e-05,  2.1554634e-04],\n",
                  "      dtype=float32), 'magnets': array([0., 0., 0., 0., 0.], dtype=float32), 'target': array([ 0.00078388,  0.00124267, -0.00019619,  0.00077792], dtype=float32)}\n",
                  "INFO:__main__:Step 9: Action = [0. 0. 0. 0. 0.], Reward = 1.0, Observation = {'beam': array([ 5.2613555e-05,  3.4052122e-04, -9.4386283e-05,  2.1554634e-04],\n",
                  "      dtype=float32), 'magnets': array([0., 0., 0., 0., 0.], dtype=float32), 'target': array([ 0.00078388,  0.00124267, -0.00019619,  0.00077792], dtype=float32)}\n",
                  "INFO:__main__:Step 10: Action = [0. 0. 0. 0. 0.], Reward = 1.0, Observation = {'beam': array([ 5.2613555e-05,  3.4052122e-04, -9.4386283e-05,  2.1554634e-04],\n",
                  "      dtype=float32), 'magnets': array([0., 0., 0., 0., 0.], dtype=float32), 'target': array([ 0.00078388,  0.00124267, -0.00019619,  0.00077792], dtype=float32)}\n",
                  "INFO:__main__:Step 11: Action = [0. 0. 0. 0. 0.], Reward = 1.0, Observation = {'beam': array([ 5.2613555e-05,  3.4052122e-04, -9.4386283e-05,  2.1554634e-04],\n",
                  "      dtype=float32), 'magnets': array([0., 0., 0., 0., 0.], dtype=float32), 'target': array([ 0.00078388,  0.00124267, -0.00019619,  0.00077792], dtype=float32)}\n",
                  "INFO:__main__:Step 12: Action = [0. 0. 0. 0. 0.], Reward = 1.0, Observation = {'beam': array([ 5.2613555e-05,  3.4052122e-04, -9.4386283e-05,  2.1554634e-04],\n",
                  "      dtype=float32), 'magnets': array([0., 0., 0., 0., 0.], dtype=float32), 'target': array([ 0.00078388,  0.00124267, -0.00019619,  0.00077792], dtype=float32)}\n",
                  "INFO:__main__:Step 13: Action = [0. 0. 0. 0. 0.], Reward = 1.0, Observation = {'beam': array([ 5.2613555e-05,  3.4052122e-04, -9.4386283e-05,  2.1554634e-04],\n",
                  "      dtype=float32), 'magnets': array([0., 0., 0., 0., 0.], dtype=float32), 'target': array([ 0.00078388,  0.00124267, -0.00019619,  0.00077792], dtype=float32)}\n",
                  "INFO:__main__:Step 14: Action = [0. 0. 0. 0. 0.], Reward = 1.0, Observation = {'beam': array([ 5.2613555e-05,  3.4052122e-04, -9.4386283e-05,  2.1554634e-04],\n",
                  "      dtype=float32), 'magnets': array([0., 0., 0., 0., 0.], dtype=float32), 'target': array([ 0.00078388,  0.00124267, -0.00019619,  0.00077792], dtype=float32)}\n",
                  "INFO:__main__:Step 15: Action = [0. 0. 0. 0. 0.], Reward = 1.0, Observation = {'beam': array([ 5.2613555e-05,  3.4052122e-04, -9.4386283e-05,  2.1554634e-04],\n",
                  "      dtype=float32), 'magnets': array([0., 0., 0., 0., 0.], dtype=float32), 'target': array([ 0.00078388,  0.00124267, -0.00019619,  0.00077792], dtype=float32)}\n",
                  "INFO:__main__:Step 16: Action = [0. 0. 0. 0. 0.], Reward = 1.0, Observation = {'beam': array([ 5.2613555e-05,  3.4052122e-04, -9.4386283e-05,  2.1554634e-04],\n",
                  "      dtype=float32), 'magnets': array([0., 0., 0., 0., 0.], dtype=float32), 'target': array([ 0.00078388,  0.00124267, -0.00019619,  0.00077792], dtype=float32)}\n",
                  "INFO:__main__:Step 17: Action = [0. 0. 0. 0. 0.], Reward = 1.0, Observation = {'beam': array([ 5.2613555e-05,  3.4052122e-04, -9.4386283e-05,  2.1554634e-04],\n",
                  "      dtype=float32), 'magnets': array([0., 0., 0., 0., 0.], dtype=float32), 'target': array([ 0.00078388,  0.00124267, -0.00019619,  0.00077792], dtype=float32)}\n",
                  "INFO:__main__:Step 18: Action = [0. 0. 0. 0. 0.], Reward = 1.0, Observation = {'beam': array([ 5.2613555e-05,  3.4052122e-04, -9.4386283e-05,  2.1554634e-04],\n",
                  "      dtype=float32), 'magnets': array([0., 0., 0., 0., 0.], dtype=float32), 'target': array([ 0.00078388,  0.00124267, -0.00019619,  0.00077792], dtype=float32)}\n",
                  "INFO:__main__:Step 19: Action = [0. 0. 0. 0. 0.], Reward = 1.0, Observation = {'beam': array([ 5.2613555e-05,  3.4052122e-04, -9.4386283e-05,  2.1554634e-04],\n",
                  "      dtype=float32), 'magnets': array([0., 0., 0., 0., 0.], dtype=float32), 'target': array([ 0.00078388,  0.00124267, -0.00019619,  0.00077792], dtype=float32)}\n",
                  "INFO:__main__:Step 20: Action = [0. 0. 0. 0. 0.], Reward = 1.0, Observation = {'beam': array([ 5.2613555e-05,  3.4052122e-04, -9.4386283e-05,  2.1554634e-04],\n",
                  "      dtype=float32), 'magnets': array([0., 0., 0., 0., 0.], dtype=float32), 'target': array([ 0.00078388,  0.00124267, -0.00019619,  0.00077792], dtype=float32)}\n",
                  "INFO:__main__:Step 21: Action = [0. 0. 0. 0. 0.], Reward = 1.0, Observation = {'beam': array([ 5.2613555e-05,  3.4052122e-04, -9.4386283e-05,  2.1554634e-04],\n",
                  "      dtype=float32), 'magnets': array([0., 0., 0., 0., 0.], dtype=float32), 'target': array([ 0.00078388,  0.00124267, -0.00019619,  0.00077792], dtype=float32)}\n",
                  "INFO:__main__:Step 22: Action = [0. 0. 0. 0. 0.], Reward = 1.0, Observation = {'beam': array([ 5.2613555e-05,  3.4052122e-04, -9.4386283e-05,  2.1554634e-04],\n",
                  "      dtype=float32), 'magnets': array([0., 0., 0., 0., 0.], dtype=float32), 'target': array([ 0.00078388,  0.00124267, -0.00019619,  0.00077792], dtype=float32)}\n"
               ]
            }
         ],
         "source": [
            "# Configure logging\n",
            "logging.basicConfig(\n",
            "    level=logging.INFO, format=\"%(asctime)s [%(levelname)s] %(message)s\"\n",
            ")\n",
            "logger = logging.getLogger(__name__)\n",
            "\n",
            "# Create a background task for the simulation\n",
            "simulation_task = asyncio.create_task(visualization_main(logger=logger))\n",
            "\n",
            "# Add a small delay to allow the web server and WebSocket to start\n",
            "await asyncio.sleep(2.0)  # Adjust delay as needed\n",
            "\n",
            "print(\"Simulation is running in the background. You can now run other cells.\")"
         ]
      },
      {
         "cell_type": "markdown",
         "metadata": {
            "slideshow": {
               "slide_type": "slide"
            }
         },
         "source": [
            "Now, the web application can be displayed below in an iFrame.\n",
            "\n",
            "You can change the magnet settings to steer the beam trajectory.\n",
            "\n",
            "The scatter plot indicates the beam distribution on the diagnostic screen in real-time.\n"
         ]
      },
      {
         "cell_type": "code",
         "execution_count": 7,
         "metadata": {},
         "outputs": [
            {
               "data": {
                  "text/html": [
                     "\n",
                     "        <iframe\n",
                     "            width=\"1000\"\n",
                     "            height=\"600\"\n",
                     "            src=\"http://localhost:5173/\"\n",
                     "            frameborder=\"0\"\n",
                     "            allowfullscreen\n",
                     "            \n",
                     "        ></iframe>\n",
                     "        "
                  ],
                  "text/plain": [
                     "<IPython.lib.display.IFrame at 0x1214f4fc0>"
                  ]
               },
               "metadata": {},
               "output_type": "display_data"
            }
         ],
         "source": [
            "# Define the iframe as a string\n",
            "display(IFrame(src=\"http://localhost:5173/\", width=1000, height=600))"
         ]
      },
      {
         "cell_type": "markdown",
         "metadata": {
            "slideshow": {
               "slide_type": "slide"
            }
         },
         "source": [
            "You can close the visualization task when finished:\n"
         ]
      },
      {
         "cell_type": "code",
         "execution_count": 8,
         "metadata": {},
         "outputs": [
            {
               "data": {
                  "text/plain": [
                     "True"
                  ]
               },
               "execution_count": 8,
               "metadata": {},
               "output_type": "execute_result"
            }
         ],
         "source": [
            "simulation_task.cancel()"
         ]
      },
      {
         "cell_type": "markdown",
         "metadata": {},
         "source": [
            "---\n"
         ]
      },
      {
         "cell_type": "markdown",
         "metadata": {
            "slideshow": {
               "slide_type": "slide"
            }
         },
         "source": [
            "### Try Manual Tuning\n",
            "\n",
            "In this part, you can interact with the ARES-EA manually, as an operator sitting in the control room.\n",
            "\n",
            "First, let's create the environment and wrap it in `PlotEpisode` for saving the progress.\n"
         ]
      },
      {
         "cell_type": "code",
         "execution_count": 9,
         "metadata": {
            "slideshow": {
               "slide_type": "fragment"
            }
         },
         "outputs": [],
         "source": [
            "env = ea.TransverseTuning(\n",
            "    backend=\"cheetah\",\n",
            "    action_mode=\"direct\",\n",
            "    magnet_init_mode=None,\n",
            "    render_mode=\"rgb_array\",\n",
            "    backend_args={\"generate_screen_images\": True},\n",
            ")\n",
            "env = PlotEpisode(env, save_dir=\"plots\", episode_trigger=lambda _: True)"
         ]
      },
      {
         "cell_type": "markdown",
         "metadata": {},
         "source": [
            "Run the cell below to start the manual tuning.\n",
            "\n",
            "You will see the rendered diagnostic screen rendered, with\n",
            "\n",
            "- a blue ellipse representing the **target beam**\n",
            "- a red ellipse representing the **current beam**\n",
            "\n",
            "You can change the magnet settings by explicitly setting the values or clicking increase/decrease.\n",
            "\n",
            "The magnet limits are $\\pm 72$ 1/m for quadrupoles and $\\pm 6.17$ mrad for the correctors. These are the real settings in the ARES accelerator.\n",
            "\n",
            "Click on `Done` after you are finished, it will show a history of the actions performed by you and the beam parameters.\n"
         ]
      },
      {
         "cell_type": "code",
         "execution_count": 10,
         "metadata": {},
         "outputs": [
            {
               "data": {
                  "application/vnd.jupyter.widget-view+json": {
                     "model_id": "2f2ffeb4c7c1474f9f62352d69f844ca",
                     "version_major": 2,
                     "version_minor": 0
                  },
                  "text/plain": [
                     "BoundedFloatText(value=0.0, description='Q1', max=72.0, min=-72.0)"
                  ]
               },
               "metadata": {},
               "output_type": "display_data"
            },
            {
               "data": {
                  "application/vnd.jupyter.widget-view+json": {
                     "model_id": "dee9cb5418a4464b80e79daf5226fa06",
                     "version_major": 2,
                     "version_minor": 0
                  },
                  "text/plain": [
                     "BoundedFloatText(value=0.0, description='Q2', max=72.0, min=-72.0)"
                  ]
               },
               "metadata": {},
               "output_type": "display_data"
            },
            {
               "data": {
                  "application/vnd.jupyter.widget-view+json": {
                     "model_id": "5ef8902325074d7baeb04b57ddad153a",
                     "version_major": 2,
                     "version_minor": 0
                  },
                  "text/plain": [
                     "BoundedFloatText(value=0.0, description='Cor_V', max=6.178199768066406, min=-6.178199768066406)"
                  ]
               },
               "metadata": {},
               "output_type": "display_data"
            },
            {
               "data": {
                  "application/vnd.jupyter.widget-view+json": {
                     "model_id": "80561b0c5bb5470cb9695861a7904303",
                     "version_major": 2,
                     "version_minor": 0
                  },
                  "text/plain": [
                     "BoundedFloatText(value=0.0, description='Q3', max=72.0, min=-72.0)"
                  ]
               },
               "metadata": {},
               "output_type": "display_data"
            },
            {
               "data": {
                  "application/vnd.jupyter.widget-view+json": {
                     "model_id": "5c3d1c0d70f947d9ae02d1f81efc942c",
                     "version_major": 2,
                     "version_minor": 0
                  },
                  "text/plain": [
                     "BoundedFloatText(value=0.0, description='Cor_H', max=6.178199768066406, min=-6.178199768066406)"
                  ]
               },
               "metadata": {},
               "output_type": "display_data"
            },
            {
               "data": {
                  "application/vnd.jupyter.widget-view+json": {
                     "model_id": "71d03697cb4448ce93ec4740574a617b",
                     "version_major": 2,
                     "version_minor": 0
                  },
                  "text/plain": [
                     "Image(value=b'\\x89PNG\\r\\n\\x1a\\n\\x00\\x00\\x00\\rIHDR\\x00\\x00\\x03d\\x00\\x00\\x01\\xfe\\x08\\x02\\x00\\x00\\x00|\\xe8Z\\x93\\x…"
                  ]
               },
               "metadata": {},
               "output_type": "display_data"
            },
            {
               "data": {
                  "application/vnd.jupyter.widget-view+json": {
                     "model_id": "9e3c2c44acc94242b1dd5f271c04ca63",
                     "version_major": 2,
                     "version_minor": 0
                  },
                  "text/plain": [
                     "Button(description='Done!', style=ButtonStyle())"
                  ]
               },
               "metadata": {},
               "output_type": "display_data"
            },
            {
               "data": {
                  "image/png": "[encoded data removed]",
                  "text/plain": [
                     "<Figure size 1332.51x380.291 with 6 Axes>"
                  ]
               },
               "metadata": {},
               "output_type": "display_data"
            }
         ],
         "source": [
            "restart_manual_tuning(env)"
         ]
      },
      {
         "cell_type": "markdown",
         "metadata": {},
         "source": [
            "---\n"
         ]
      },
      {
         "cell_type": "markdown",
         "metadata": {
            "slideshow": {
               "slide_type": "slide"
            }
         },
         "source": [
            "<h2>What to do next?</h2>\n",
            "\n",
            "After getting to know the ARES-EA environment, you can move on to design methods to control it!\n",
            "\n",
            "In this challenge, we provide three options with baseline solutions to get you started.\n",
            "These are:\n",
            "\n",
            "- try training an RL agent. We have provided a baseline training routine with PPO. C.f. `challenge_A_rl_training.ipynb`\n",
            "- try solving the ARES-EA task using an optimizer. We provided a basic solution using the scipy Nelder-Mead, c.f. `challenge_B_custom_optimizer.ipynb`\n",
            "- try developing your own controller or other heuristic, c.f. `challenge_C_custom_controller.ipynb`\n",
            "\n",
            "In all these options, your developed method will be evaluated on different ARES-EA trials. The final result will be recorded in a file, and you can upload it to Kaggle for competing with other teams, more details can be found in the individual notebooks.\n"
         ]
      },
      {
         "cell_type": "markdown",
         "metadata": {
            "slideshow": {
               "slide_type": "slide"
            }
         },
         "source": [
            "<h3 style=\"color: #b51f2a\">Code Directory Structure in RL4AA-2025 Repository</h2>\n",
            "\n",
            "<p> This repository contains all the necessary code and configurations for running experiments using reinforcement learning (RL) and other numerical optimizers for the ARES-EA transverse tuning task. Below is an overview of the directories to help you navigate the code contents:</p>\n",
            "\n",
            "- `src` Contains the source code for the RL environment and the GP-MPC controller\n",
            "  - `src/environments/ea` contains the gymnasium environment for the ARES-EA transverse tuning task\n",
            "  - `src/wrappers` contains custom wrappers for the EA environment\n",
            "  - `src/train` contains scripts to train a default PPO agent to solve the task (can be used as a benchmark for evaluating MPC controller)\n"
         ]
      },
      {
         "cell_type": "code",
         "execution_count": null,
         "metadata": {},
         "outputs": [],
         "source": []
      }
   ],
   "metadata": {
      "kernelspec": {
         "display_name": "rl4aa25-challenge",
         "language": "python",
         "name": "python3"
      },
      "language_info": {
         "codemirror_mode": {
            "name": "ipython",
            "version": 3
         },
         "file_extension": ".py",
         "mimetype": "text/x-python",
         "name": "python",
         "nbconvert_exporter": "python",
         "pygments_lexer": "ipython3",
         "version": "3.13.2"
      }
   },
   "nbformat": 4,
   "nbformat_minor": 4
}
