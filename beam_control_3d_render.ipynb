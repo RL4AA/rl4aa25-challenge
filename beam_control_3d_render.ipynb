{
 "cells": [
  {
   "cell_type": "markdown",
   "id": "865429fc-84be-4265-8109-1a5eebf4005f",
   "metadata": {},
   "source": [
    "# Beam Control 3D Render\n",
    "\n",
    "Welcome to this interactive Jupyter notebook, designed to showcase the simulation and real-time 3D visualization of a particle beam control system. This notebook provides a comprehensive workflow for setting up and running the beam control system, visualizing it, and integrating 3D rendering with simulation data. This notebook is designed to help you visualize beam dynamics, adjust control parameters, and observe real-time system changes.\n",
    "\n",
    "The visualization is built using WebGL and JavaScript to create an immersive and responsive experience. By the end of this notebook, you will have a fully operational beam control simulation environment, with the ability to visualize and interact with the beam dynamics in real-time.\n",
    "\n",
    "## What to Expect from This Notebook\n",
    "\n",
    "In this notebook, you will:\n",
    "\n",
    "- **Explore the Setup Process:** Learn how to initialize the simulation environment by importing necessary Python modules, configuring logging, and setting up the project structure. The notebook ensures that the environment is ready for both simulation and visualization tasks.\n",
    "- **Understand the Simulation Loop:** Dive into the core simulation logic, where the beam control environment is stepped through time, processing control actions, updating observations, and computing rewards. Detailed logging provides insights into the simulation's progress.\n",
    "- **Interact with the Visualization System:** Experience real-time 3D visualization of the beamline through a web-based interface. The notebook integrates a WebSocket-based visualization wrapper, allowing dynamic updates of the beam trajectory and particle distribution as control actions are applied.\n",
    "- **Run Simulations Asynchronously:** Learn how to run the simulation in the background without blocking the notebook, enabling you to interact with other cells while the simulation progresses.\n",
    "- **Visualize Results in Real-Time:** Use an embedded iframe to access a web application that displays a 3D visualization of the beamline, complete with a control panel for adjusting magnet strengths and steering angles, and a scatter plot of particle positions.\n"
   ]
  },
  {
   "cell_type": "markdown",
   "id": "80a0ebda",
   "metadata": {},
   "source": [
    "The cell bellow imports necessary modules for the simulation, including asyncio for asynchronous execution, yaml for configuration management,\n",
    "and logging for debugging. It also adds the project root to the Python path to ensure module imports work correctly.\n"
   ]
  },
  {
   "cell_type": "code",
   "execution_count": 1,
   "id": "014e4496-fcdb-405b-bf55-fd4668c5a9be",
   "metadata": {},
   "outputs": [],
   "source": [
    "import asyncio\n",
    "import logging\n",
    "import os\n",
    "import sys\n",
    "from pathlib import Path\n",
    "\n",
    "import yaml\n",
    "from IPython.display import HTML, display\n",
    "\n",
    "from beam_3d_visualizer.beam_server.beam_visualization_wrapper import (\n",
    "    BeamVisualizationWrapper,\n",
    ")\n",
    "from src.environments import ea\n",
    "\n",
    "# Configure logging\n",
    "logging.basicConfig(\n",
    "    level=logging.INFO, format=\"%(asctime)s [%(levelname)s] %(message)s\"\n",
    ")\n",
    "logger = logging.getLogger(__name__)"
   ]
  },
  {
   "cell_type": "markdown",
   "id": "7c8b5851",
   "metadata": {},
   "source": [
    "## Setup Simulation Run-loop\n",
    "\n",
    "Setupthe main simulation loop: initializing the environment, updating visuals, processing control inputs, and logging step-wise data until completion.\n",
    "\n",
    "**Expected Output:**\n",
    "\n",
    "- Console messages indicating the start of the simulation and step-by-step log information such as received actions, computed rewards, and updated observations.\n",
    "- If a WebSocket client is connected, visualization updates will be sent accordingly.\n"
   ]
  },
  {
   "cell_type": "code",
   "execution_count": 2,
   "id": "a186cdf5",
   "metadata": {},
   "outputs": [],
   "source": [
    "async def run_simulation(env: ea.TransverseTuning):\n",
    "    \"\"\"Run the simulation loop, stepping the environment with control actions.\"\"\"\n",
    "    print(\"\\n--- Starting simulation loop ---\")\n",
    "\n",
    "    step_count = 0\n",
    "    done = False\n",
    "\n",
    "    # Reset the environment\n",
    "    observation, _ = env.reset()\n",
    "\n",
    "    while not done:\n",
    "        # Render and broadcast data to clients\n",
    "        # Calls BeamVisualizationWrapper.render(),\n",
    "        # which delegates to WebSocketWrapper.render()\n",
    "        await env.render()\n",
    "\n",
    "        # Check if we have a new control action from WebSocket\n",
    "        if env.control_action is not None:\n",
    "            print(f\"New action received: {env.control_action}\")\n",
    "            env.last_action = env.control_action  # Update last_action with new action\n",
    "            env.control_action = None  # Clear after use\n",
    "\n",
    "        # Step through the environment with the last action\n",
    "        # Note: last_action persists and is reused if no new action is received\n",
    "        observation, reward, terminated, truncated, info = env.step(env.last_action)\n",
    "\n",
    "        # Update step count\n",
    "        step_count += 1\n",
    "\n",
    "        logger.info(\n",
    "            \"Step %d: Action = %s, Reward = %s, Observation = %s\",\n",
    "            step_count,\n",
    "            env.last_action,\n",
    "            reward,\n",
    "            observation,\n",
    "        )\n",
    "\n",
    "        done = truncated  # or terminated\n",
    "\n",
    "    env.close()\n",
    "    print(\"Simulation completed.\")"
   ]
  },
  {
   "cell_type": "markdown",
   "id": "61aae063",
   "metadata": {},
   "source": [
    "The main function below sets up the beam control environment by loading the AREAS Transverse Tunning environment, which handles initializing the simulation environment. It ensures the WebSocket-based visualization wrapper is correctly set up before running the simulation.\n",
    "\n",
    "**Expected Output:**\n",
    "\n",
    "- A message indicating that the WebSocket server is waiting for a client connection.\n",
    "- Logging messages showing WebSocket and visualization wrapper initialization.\n",
    "- A confirmation message once the simulation starts.\n"
   ]
  },
  {
   "cell_type": "code",
   "execution_count": 3,
   "id": "1415f429",
   "metadata": {},
   "outputs": [],
   "source": [
    "async def main():\n",
    "    \"\"\"Main entry point to set up the environment and start the simulation.\"\"\"\n",
    "    # Initialize the environment and wrap it with BeamVisualizationWrapper\n",
    "    env = ea.TransverseTuning(\n",
    "        backend=\"cheetah\",\n",
    "        action_mode=\"direct\",\n",
    "        magnet_init_mode=None,\n",
    "        render_mode=\"rgb_array\",  # \"human\",\n",
    "        backend_args={\"generate_screen_images\": True},\n",
    "    )\n",
    "    env = BeamVisualizationWrapper(env)\n",
    "\n",
    "    if not env.env.connected:\n",
    "        print(\"Waiting for WebSocket client to connect...\")\n",
    "        await asyncio.sleep(5.0)  # Small delay to prevent CPU overload\n",
    "\n",
    "    # Run the simulation\n",
    "    await run_simulation(env)\n",
    "\n",
    "    print(\"Simulation shutdown completed.\")"
   ]
  },
  {
   "cell_type": "markdown",
   "id": "f3f2c65a",
   "metadata": {},
   "source": [
    "## Start Simulation Run\n",
    "\n",
    "This cell asynchronously starts the simulation in the background and allows users to run other cells without blocking execution. A short delay is added to ensure WebSocket services are properly started.\n",
    "\n",
    "**Expected Output:**\n",
    "\n",
    "- Log messages confirming WebSocket server startup and connection establishment.\n",
    "\n",
    "- If successful, the WebSocket client (JavaScript-based visualization) connects, and the event display (3D visualization of the beamline) updates accordingly.\n"
   ]
  },
  {
   "cell_type": "code",
   "execution_count": 4,
   "id": "bd72f45d-210b-4299-8b8f-e4b3f4f67352",
   "metadata": {},
   "outputs": [
    {
     "name": "stderr",
     "output_type": "stream",
     "text": [
      "INFO:beam_3d_visualizer.beam_server.websocket_wrapper:WebSocket server thread started on ws://localhost:8081\n",
      "INFO:beam_3d_visualizer.beam_server.beam_visualization_wrapper:Started JavaScript web application on http://localhost:5173\n",
      "WARNING:beam_3d_visualizer.beam_server.segment_3d_builder:Element type Marker not recognized.\n",
      "WARNING:beam_3d_visualizer.beam_server.segment_3d_builder:Element type Drift not recognized.\n",
      "ERROR:beam_3d_visualizer.beam_server.segment_3d_builder:Failed to load mesh for asset key {<class 'cheetah.accelerator.vertical_corrector.VerticalCorrector'>: 'vertical_corrector.glb', <class 'cheetah.accelerator.horizontal_corrector.HorizontalCorrector'>: 'horizontal_corrector.glb', <class 'cheetah.accelerator.quadrupole.Quadrupole'>: 'quadrupole.glb', <class 'cheetah.accelerator.screen.Screen'>: 'screen.glb', <class 'cheetah.accelerator.cavity.Cavity'>: 'cavity.glb', <class 'cheetah.accelerator.undulator.Undulator'>: 'undulator.glb'}: name '_assets' is not defined\n",
      "INFO:websockets.server:server listening on 127.0.0.1:8081\n",
      "INFO:websockets.server:server listening on [::1]:8081\n",
      "INFO:beam_3d_visualizer.beam_server.websocket_wrapper:WebSocket server running on ws://localhost:8081\n",
      "INFO:beam_3d_visualizer.beam_server.beam_visualization_wrapper:Vite stdout: \n",
      "INFO:beam_3d_visualizer.beam_server.beam_visualization_wrapper:Vite stdout: \u001b[32m\u001b[1mVITE\u001b[22m v6.2.2\u001b[39m  \u001b[2mready in \u001b[0m\u001b[1m415\u001b[22m\u001b[2m\u001b[0m ms\u001b[22m\n",
      "INFO:beam_3d_visualizer.beam_server.beam_visualization_wrapper:Vite stdout: \n",
      "INFO:beam_3d_visualizer.beam_server.beam_visualization_wrapper:Vite stdout: \u001b[32m➜\u001b[39m  \u001b[1mLocal\u001b[22m:   \u001b[36mhttp://localhost:\u001b[1m5173\u001b[22m/asdf/\u001b[39m\n"
     ]
    },
    {
     "name": "stdout",
     "output_type": "stream",
     "text": [
      "Simulation is running in the background. You can now run other cells.\n"
     ]
    },
    {
     "name": "stderr",
     "output_type": "stream",
     "text": [
      "INFO:websockets.server:connection open\n",
      "INFO:beam_3d_visualizer.beam_server.websocket_wrapper:WebSocket connection established.\n",
      "INFO:beam_3d_visualizer.beam_server.beam_visualization_wrapper:Vite stdout: \u001b[2m4:58:27 PM\u001b[22m \u001b[36m\u001b[1m[vite]\u001b[22m\u001b[39m \u001b[32m.env changed, restarting server...\u001b[39m\n",
      "INFO:beam_3d_visualizer.beam_server.beam_visualization_wrapper:Vite stdout: \u001b[2m4:58:27 PM\u001b[22m \u001b[36m\u001b[1m[vite]\u001b[22m\u001b[39m server restarted.\n",
      "INFO:beam_3d_visualizer.beam_server.beam_visualization_wrapper:Vite stdout: \n",
      "INFO:beam_3d_visualizer.beam_server.beam_visualization_wrapper:Vite stdout: \u001b[32m➜\u001b[39m  \u001b[1mLocal\u001b[22m:   \u001b[36mhttp://localhost:\u001b[1m5173\u001b[22m/\u001b[39m\n",
      "INFO:beam_3d_visualizer.beam_server.beam_visualization_wrapper:Vite stdout: \u001b[2m4:58:30 PM\u001b[22m \u001b[36m\u001b[1m[vite]\u001b[22m\u001b[39m \u001b[32m.env changed, restarting server...\u001b[39m\n",
      "INFO:beam_3d_visualizer.beam_server.beam_visualization_wrapper:Vite stdout: \u001b[2m4:58:30 PM\u001b[22m \u001b[36m\u001b[1m[vite]\u001b[22m\u001b[39m \u001b[32m.env changed, restarting server...\u001b[39m\n",
      "INFO:beam_3d_visualizer.beam_server.beam_visualization_wrapper:Vite stdout: \u001b[2m4:58:30 PM\u001b[22m \u001b[36m\u001b[1m[vite]\u001b[22m\u001b[39m \u001b[90m\u001b[2m(client)\u001b[22m\u001b[39m \u001b[32mpage reload \u001b[39m\u001b[2mindex.html\u001b[22m\n",
      "INFO:beam_3d_visualizer.beam_server.beam_visualization_wrapper:Vite stdout: \u001b[2m4:58:30 PM\u001b[22m \u001b[36m\u001b[1m[vite]\u001b[22m\u001b[39m server restarted.\n",
      "INFO:beam_3d_visualizer.beam_server.beam_visualization_wrapper:Vite stdout: \n",
      "INFO:beam_3d_visualizer.beam_server.beam_visualization_wrapper:Vite stdout: \u001b[32m➜\u001b[39m  \u001b[1mLocal\u001b[22m:   \u001b[36mhttp://localhost:\u001b[1m5173\u001b[22m/asdf/\u001b[39m\n",
      "INFO:beam_3d_visualizer.beam_server.beam_visualization_wrapper:Vite stdout: \n",
      "INFO:beam_3d_visualizer.beam_server.beam_visualization_wrapper:Vite stdout: \u001b[32m➜\u001b[39m  \u001b[1mLocal\u001b[22m:   \u001b[36mhttp://localhost:\u001b[1m5173\u001b[22m/asdf/\u001b[39m\n",
      "INFO:beam_3d_visualizer.beam_server.websocket_wrapper:Client cleanup completed.\n",
      "INFO:websockets.server:connection open\n",
      "INFO:beam_3d_visualizer.beam_server.websocket_wrapper:WebSocket connection established.\n",
      "INFO:websockets.server:connection open\n",
      "INFO:beam_3d_visualizer.beam_server.websocket_wrapper:WebSocket connection established.\n",
      "INFO:beam_3d_visualizer.beam_server.websocket_wrapper:Client cleanup completed.\n"
     ]
    }
   ],
   "source": [
    "# Create a background task for the simulation\n",
    "simulation_task = asyncio.create_task(main())\n",
    "\n",
    "# Add a small delay to allow the web server and WebSocket to start\n",
    "await asyncio.sleep(2.0)  # Adjust delay as needed\n",
    "\n",
    "print(\"Simulation is running in the background. You can now run other cells.\")"
   ]
  },
  {
   "cell_type": "markdown",
   "id": "b2ac2e7e",
   "metadata": {},
   "source": [
    "## Beam Trajectory Visualization\n",
    "\n",
    "Expected Visualization Output\n",
    "\n",
    "- A real-time 3D visualization of the beamline appears in the web application.\n",
    "- A control panel enables users to adjust magnet strengths and steering angles, updating the particle beam trajectory dynamically.\n",
    "- A scatter plot of particle positions is displayed, showing the beam’s distribution in real-time.\n"
   ]
  },
  {
   "cell_type": "markdown",
   "id": "4f27340b",
   "metadata": {},
   "source": [
    "<iframe src=\"http://localhost:5173\" title=\"3D Lattice Visualization\" height=\"600\" width=\"1000\"/>\n"
   ]
  },
  {
   "cell_type": "code",
   "execution_count": null,
   "id": "64dfbd1a-0068-4df7-adf7-9283e6362e88",
   "metadata": {},
   "outputs": [],
   "source": []
  }
 ],
 "metadata": {
  "kernelspec": {
   "display_name": "rl4aa25-tutorial",
   "language": "python",
   "name": "python3"
  },
  "language_info": {
   "codemirror_mode": {
    "name": "ipython",
    "version": 3
   },
   "file_extension": ".py",
   "mimetype": "text/x-python",
   "name": "python",
   "nbconvert_exporter": "python",
   "pygments_lexer": "ipython3",
   "version": "3.12.9"
  }
 },
 "nbformat": 4,
 "nbformat_minor": 5
}
