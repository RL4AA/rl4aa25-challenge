{
 "cells": [
  {
   "cell_type": "markdown",
   "metadata": {
    "slideshow": {
     "slide_type": "slide"
    }
   },
   "source": [
    "<h1 style=\"text-align: center; vertical-align: middle;\">\n",
    "    <span style=\"color: #B74F3D;\"> 3rd Reinforcement Learning for Autonomous Accelerators Workshop Hands-On Challenge</span>\n",
    "    <span style=\"color: #666666;\">: Beam Transverse Steering at ARES Linear Accelerator</span>\n",
    "</h1>\n",
    "\n",
    "<div style=\"text-align: center;\">\n",
    "    <img src=\"img/rl4aa_logo.png\" alt=\"RL4AA Logo\" style=\"max-width: 12%; height: auto;\">\n",
    "</div>\n"
   ]
  },
  {
   "cell_type": "markdown",
   "metadata": {
    "slideshow": {
     "slide_type": "slide"
    }
   },
   "source": [
    "<h2 style=\"color: #b51f2a\">Getting started</h2>\n",
    "\n",
    "- You will need **Python 3.12 or higher** to run this code &#x2757;\n",
    "- You will require about **1 GB of free disk space** &#x2757;\n",
    "- Make sure you have Git installed in your terminal &#x2757;\n",
    "\n",
    "Start by cloning locally the repository of the challenge by running this command in your terminal:\n",
    "\n",
    "```bash\n",
    "git clone https://github.com/RL4AA/rl4aa25-challenge.git\n",
    "```\n"
   ]
  },
  {
   "cell_type": "markdown",
   "metadata": {
    "slideshow": {
     "slide_type": "slide"
    }
   },
   "source": [
    "<h2 style=\"color: #b51f2a\">Installing virtual environment</h2>\n",
    "\n",
    "### Using Conda\n",
    "\n",
    "- If you don't have conda installed already, you can install the `miniconda` as [described here](https://docs.conda.io/projects/miniconda/en/latest/miniconda-install.html).\n",
    "- We recommend to install `miniconda` the day beforehand to avoid network overload during the challenge &#x2757; &#x2757;\n",
    "\n",
    "Once `miniconda` is installed run this command in your terminal:\n",
    "\n",
    "```bash\n",
    "conda env create -f environment.yaml\n",
    "```\n",
    "\n",
    "This should create a virtual environment named `rl4aa25-challenge` and install the necessary packages inside.\n",
    "\n",
    "Afterwards, activate the environment using\n",
    "\n",
    "```bash\n",
    "conda activate rl4aa25-challenge\n",
    "```\n"
   ]
  },
  {
   "cell_type": "markdown",
   "metadata": {
    "slideshow": {
     "slide_type": "slide"
    }
   },
   "source": [
    "<h2 style=\"color: #b51f2a\">Installing virtual environment</h2>\n",
    "\n",
    "### Using venv\n",
    "\n",
    "_If you don't have conda installed:_\n",
    "\n",
    "Alternatively, you can create the virtual env with\n",
    "\n",
    "```bash\n",
    "python3 -m venv rl4aa25-challenge\n",
    "```\n",
    "\n",
    "and activate the env with `$ source <venv>/bin/activate` (bash) or `C:> <venv>/Scripts/activate.bat` (Windows)\n",
    "\n",
    "Then, install the packages with `pip` within the activated environment\n",
    "\n",
    "```bash\n",
    "python -m pip install -r requirements.txt\n",
    "```\n",
    "\n",
    "Afterwards, you should be able to run the provided scripts.\n"
   ]
  },
  {
   "cell_type": "markdown",
   "metadata": {
    "slideshow": {
     "slide_type": "slide"
    }
   },
   "source": [
    "<h2 style=\"color: #b51f2a\">Check your installation</h2>\n",
    "If you set up your virtual environment correctly and is activated you should be able to run the next cell without any errors:\n"
   ]
  },
  {
   "cell_type": "code",
   "execution_count": 1,
   "metadata": {
    "slideshow": {
     "slide_type": "subslide"
    }
   },
   "outputs": [
    {
     "ename": "ModuleNotFoundError",
     "evalue": "No module named 'cheetah.utils.segment_3d_builder'",
     "output_type": "error",
     "traceback": [
      "\u001b[31m---------------------------------------------------------------------------\u001b[39m",
      "\u001b[31mModuleNotFoundError\u001b[39m                       Traceback (most recent call last)",
      "\u001b[36mCell\u001b[39m\u001b[36m \u001b[39m\u001b[32mIn[1]\u001b[39m\u001b[32m, line 9\u001b[39m\n\u001b[32m      6\u001b[39m \u001b[38;5;28;01mfrom\u001b[39;00m\u001b[38;5;250m \u001b[39m\u001b[34;01mIPython\u001b[39;00m\u001b[34;01m.\u001b[39;00m\u001b[34;01mdisplay\u001b[39;00m\u001b[38;5;250m \u001b[39m\u001b[38;5;28;01mimport\u001b[39;00m IFrame, display\n\u001b[32m      8\u001b[39m \u001b[38;5;28;01mfrom\u001b[39;00m\u001b[38;5;250m \u001b[39m\u001b[34;01msrc\u001b[39;00m\u001b[34;01m.\u001b[39;00m\u001b[34;01menvironments\u001b[39;00m\u001b[38;5;250m \u001b[39m\u001b[38;5;28;01mimport\u001b[39;00m ea\n\u001b[32m----> \u001b[39m\u001b[32m9\u001b[39m \u001b[38;5;28;01mfrom\u001b[39;00m\u001b[38;5;250m \u001b[39m\u001b[34;01msrc\u001b[39;00m\u001b[34;01m.\u001b[39;00m\u001b[34;01mvisualization\u001b[39;00m\u001b[38;5;250m \u001b[39m\u001b[38;5;28;01mimport\u001b[39;00m restart_manual_tuning, visualization_main\n\u001b[32m     10\u001b[39m \u001b[38;5;28;01mfrom\u001b[39;00m\u001b[38;5;250m \u001b[39m\u001b[34;01msrc\u001b[39;00m\u001b[34;01m.\u001b[39;00m\u001b[34;01mwrappers\u001b[39;00m\u001b[38;5;250m \u001b[39m\u001b[38;5;28;01mimport\u001b[39;00m PlotEpisode\n",
      "\u001b[36mFile \u001b[39m\u001b[32m~/Documents/DESY/rl4aa25-tutorial/src/visualization.py:10\u001b[39m\n\u001b[32m      7\u001b[39m \u001b[38;5;28;01mimport\u001b[39;00m\u001b[38;5;250m \u001b[39m\u001b[34;01mmatplotlib\u001b[39;00m\u001b[34;01m.\u001b[39;00m\u001b[34;01mpyplot\u001b[39;00m\u001b[38;5;250m \u001b[39m\u001b[38;5;28;01mas\u001b[39;00m\u001b[38;5;250m \u001b[39m\u001b[34;01mplt\u001b[39;00m\n\u001b[32m      8\u001b[39m \u001b[38;5;28;01mfrom\u001b[39;00m\u001b[38;5;250m \u001b[39m\u001b[34;01mIPython\u001b[39;00m\u001b[34;01m.\u001b[39;00m\u001b[34;01mdisplay\u001b[39;00m\u001b[38;5;250m \u001b[39m\u001b[38;5;28;01mimport\u001b[39;00m display\n\u001b[32m---> \u001b[39m\u001b[32m10\u001b[39m \u001b[38;5;28;01mfrom\u001b[39;00m\u001b[38;5;250m \u001b[39m\u001b[34;01mbeam_3d_visualizer\u001b[39;00m\u001b[34;01m.\u001b[39;00m\u001b[34;01mbeam_server\u001b[39;00m\u001b[34;01m.\u001b[39;00m\u001b[34;01mbeam_visualization_wrapper\u001b[39;00m\u001b[38;5;250m \u001b[39m\u001b[38;5;28;01mimport\u001b[39;00m (\n\u001b[32m     11\u001b[39m     BeamVisualizationWrapper,\n\u001b[32m     12\u001b[39m )\n\u001b[32m     13\u001b[39m \u001b[38;5;28;01mfrom\u001b[39;00m\u001b[38;5;250m \u001b[39m\u001b[34;01msrc\u001b[39;00m\u001b[34;01m.\u001b[39;00m\u001b[34;01menvironments\u001b[39;00m\u001b[38;5;250m \u001b[39m\u001b[38;5;28;01mimport\u001b[39;00m ea\n\u001b[32m     16\u001b[39m \u001b[38;5;28;01masync\u001b[39;00m \u001b[38;5;28;01mdef\u001b[39;00m\u001b[38;5;250m \u001b[39m\u001b[34mrun_simulation_async\u001b[39m(env: ea.TransverseTuning, logger: logging.Logger):\n",
      "\u001b[36mFile \u001b[39m\u001b[32m~/Documents/DESY/rl4aa25-tutorial/beam_3d_visualizer/beam_server/beam_visualization_wrapper.py:12\u001b[39m\n\u001b[32m     10\u001b[39m \u001b[38;5;28;01mimport\u001b[39;00m\u001b[38;5;250m \u001b[39m\u001b[34;01mnumpy\u001b[39;00m\u001b[38;5;250m \u001b[39m\u001b[38;5;28;01mas\u001b[39;00m\u001b[38;5;250m \u001b[39m\u001b[34;01mnp\u001b[39;00m\n\u001b[32m     11\u001b[39m \u001b[38;5;28;01mimport\u001b[39;00m\u001b[38;5;250m \u001b[39m\u001b[34;01mtorch\u001b[39;00m\n\u001b[32m---> \u001b[39m\u001b[32m12\u001b[39m \u001b[38;5;28;01mfrom\u001b[39;00m\u001b[38;5;250m \u001b[39m\u001b[34;01mcheetah\u001b[39;00m\u001b[34;01m.\u001b[39;00m\u001b[34;01mutils\u001b[39;00m\u001b[34;01m.\u001b[39;00m\u001b[34;01msegment_3d_builder\u001b[39;00m\u001b[38;5;250m \u001b[39m\u001b[38;5;28;01mimport\u001b[39;00m Segment3DBuilder\n\u001b[32m     13\u001b[39m \u001b[38;5;28;01mfrom\u001b[39;00m\u001b[38;5;250m \u001b[39m\u001b[34;01mgymnasium\u001b[39;00m\u001b[38;5;250m \u001b[39m\u001b[38;5;28;01mimport\u001b[39;00m Wrapper\n\u001b[32m     15\u001b[39m \u001b[38;5;28;01mfrom\u001b[39;00m\u001b[38;5;250m \u001b[39m\u001b[34;01mbeam_3d_visualizer\u001b[39;00m\u001b[34;01m.\u001b[39;00m\u001b[34;01mbeam_server\u001b[39;00m\u001b[34;01m.\u001b[39;00m\u001b[34;01mwebsocket_wrapper\u001b[39;00m\u001b[38;5;250m \u001b[39m\u001b[38;5;28;01mimport\u001b[39;00m WebSocketWrapper\n",
      "\u001b[31mModuleNotFoundError\u001b[39m: No module named 'cheetah.utils.segment_3d_builder'"
     ]
    }
   ],
   "source": [
    "import asyncio\n",
    "import logging\n",
    "from pathlib import Path\n",
    "\n",
    "import numpy as np\n",
    "from IPython.display import IFrame, display\n",
    "\n",
    "from src.environments import ea\n",
    "from src.visualization import restart_manual_tuning, visualization_main\n",
    "from src.wrappers import PlotEpisode"
   ]
  },
  {
   "cell_type": "markdown",
   "metadata": {
    "slideshow": {
     "slide_type": "slide"
    }
   },
   "source": [
    "<h2 style=\"color: #b51f2a\"> ARES (Accelerator Research Experiment at SINBAD)</h2>\n",
    "\n",
    "<p>ARES is an S-band radio frequency linac at the DESY Hamburg site equipped with a photoinjector and two independently driven traveling wave accelerating structures. The main research focus is the generation and characterization of sub-femtosecond electron bunches at relativistic particle energy. The generation of short electron bunches is of high interest for radiation generation, i.e. by free electron lasers.</p>\n",
    "\n",
    "<img src=\"img/ARES_layout.png\" style=\"width:100%; margin:auto;\"/>\n",
    "\n",
    "- **Final energy**: 100-155 MeV\n",
    "- **Bunch charge**: 0.01-200 pC\n",
    "- **Bunch length**: 30 fs - 1 ps\n",
    "- **Pulse repetition rate**: 1-50 Hz!\n"
   ]
  },
  {
   "cell_type": "markdown",
   "metadata": {
    "slideshow": {
     "slide_type": "slide"
    }
   },
   "source": [
    "<h2 style=\"color: #b51f2a\">The accelerator problem we want to solve</h2>\n",
    "\n",
    "<p>We would like to focus and center the electron beam on a diagnostic screen using corrector and quadrupole magnets</p>\n",
    "\n",
    "<img src=\"img/ares_magnets.png\" style=\"width:60%; margin:auto;\"/>\n"
   ]
  },
  {
   "cell_type": "markdown",
   "metadata": {
    "slideshow": {
     "slide_type": "slide"
    }
   },
   "source": [
    "<h2 style=\"color: #b51f2a\">Formulating the RL problem</h2>\n",
    "\n",
    "<h3>Overview of our study case</h3>\n",
    "\n",
    "<img src=\"img/ares_rl_problem.png\" style=\"width:70%; margin:auto;\"/>\n"
   ]
  },
  {
   "cell_type": "markdown",
   "metadata": {
    "slideshow": {
     "slide_type": "slide"
    }
   },
   "source": [
    "<h3>Actions</h3>\n",
    "\n",
    "<div class=\"row\">\n",
    "    <div class=\"column\" style=\"width:60%;float:left\">\n",
    "        <p>In the ARES transverse tuning task we have 3 quadrupoles and 2 corrector magnets</p>\n",
    "        <p>The actions are:\n",
    "            <ul>\n",
    "            <li><b>Quadrupole magnet strength</b> $k_{1,2,3}$ $[1/m^2]$</li>\n",
    "            <li><b>Corrector deflection angle</b> $\\theta_\\mathrm{v, h}$ $[mrad]$ (vertical and horizontal</li>\n",
    "            </ul>\n",
    "        </p>\n",
    "        <p>In our control system we can set these derived values directly according the beam energy</p>\n",
    "        <p>$\\implies$ <code>actions</code> $=[k_{\\mathrm{Q1}},k_{\\mathrm{Q2}},\\theta_\\mathrm{CV},k_{\\mathrm{Q3}},\\theta_\\mathrm{CH}]$</p>\n",
    "            <p>is a 5-dimensional array</p>\n",
    "    </div>\n",
    "    <div class=\"column\" style=\"width:40%;float:right\">\n",
    "        <img src=\"img/dipole.png\" style=\"width:50%; margin:auto;\"/>\n",
    "        <img src=\"img/quads.png\" style=\"width:35%; margin:auto;\"/>\n",
    "    </div>\n",
    "</div>\n"
   ]
  },
  {
   "cell_type": "markdown",
   "metadata": {
    "slideshow": {
     "slide_type": "slide"
    }
   },
   "source": [
    "<h3>Observation / state</h3>\n",
    "\n",
    "<div class=\"row\">\n",
    "    <div class=\"column\" style=\"width:50%;float:left\">\n",
    "        <p>Observation is the information an agent receives about the current state of the environment</p>\n",
    "        <p>It should provide enough information so that the agent can solve this problem.</p>\n",
    "        <p>The observation does not necessarily cover the entire (internal) state of the environment.</p>\n",
    "    </div>\n",
    "    <div class=\"column\" style=\"width:50%;float:right\">\n",
    "      <img src=\"img/screen_2.png\" style=\"width:30%; margin:auto;\"/>\n",
    "      <p style=\"clear:both; font-size: small; text-align: center; margin-top:1em;\">\n",
    "          Scintillator screen to image the electrons</p>\n",
    "      <img src=\"img/screen_1.png\" style=\"width:30%; margin:auto;\"/>\n",
    "      <p style=\"clear:both; font-size: small; text-align: center; margin-top:1em;\">The camera films the screen</p>\n",
    "    </div>\n",
    "</div>\n"
   ]
  },
  {
   "cell_type": "markdown",
   "metadata": {
    "slideshow": {
     "slide_type": "slide"
    }
   },
   "source": [
    "<h3> The environment's state (continued)</h3>\n",
    "\n",
    "The `state` of the EA environment can be fully described by four components:\n",
    "\n",
    "- The **target beam**: the beam we want to achieve, our goal\n",
    "  - as a 4-dimensional array $b^\\mathrm{(t)}=[\\mu_x^{(\\mathrm{t})},\\sigma_x^{(\\mathrm{t})},\\mu_y^{(\\mathrm{t})},\\sigma_y^{(\\mathrm{t})}]$, where $\\mu$ denotes the position on the screen, $\\sigma$ denotes the beam size, and $t$ stands for \"target\".\n",
    "- The **incoming beam**: the beam that enters the EA upstream\n",
    "  - $I = [\\mu_x^{(\\mathrm{i})},\\sigma_x^{(\\mathrm{i})},\\mu_y^{(\\mathrm{i})},\\sigma_y^{(\\mathrm{i})},\\mu_{xp}^{(\\mathrm{i})},\\sigma_{xp}^{(\\mathrm{i})},\\mu_{yp}^{(\\mathrm{i})},\\sigma_{yp}^{(\\mathrm{i})},\\mu_s^{(\\mathrm{i})},\\sigma_s^{(\\mathrm{i})}]$, where $i$ stands for \"incoming\"\n",
    "- The **magnet strengths** and **deflection angles**\n",
    "  - $[k_{\\mathrm{Q1}},k_{\\mathrm{Q2}},\\theta_\\mathrm{CV},k_{\\mathrm{Q3}},\\theta_\\mathrm{CH}]$\n",
    "- The **transverse misalignments** of **quadrupoles** and the **diagnostic screen**\n",
    "  - $[m_{\\mathrm{Q1}}^{(\\mathrm{x})},m_{\\mathrm{Q1}}^{(\\mathrm{y})},m_{\\mathrm{Q2}}^{(\\mathrm{x})},m_{\\mathrm{Q2}}^{(\\mathrm{y})},m_{\\mathrm{Q3}}^{(\\mathrm{x})},m_{\\mathrm{Q3}}^{(\\mathrm{y})},m_{\\mathrm{S}}^{(\\mathrm{x})},m_{\\mathrm{S}}^{(\\mathrm{y})}]$\n"
   ]
  },
  {
   "cell_type": "markdown",
   "metadata": {
    "slideshow": {
     "slide_type": "slide"
    }
   },
   "source": [
    "<h3> Our definition of observation</h3>\n",
    "\n",
    "The `observation` for this task consists of three components:\n",
    "\n",
    "- The **target beam**: The desired beam, or the goal we aim to achieve.\n",
    "  - as a 4-dimensional array $b^\\mathrm{(t)}=[\\mu_x^{(\\mathrm{t})},\\sigma_x^{(\\mathrm{t})},\\mu_y^{(\\mathrm{t})},\\sigma_y^{(\\mathrm{t})}]$, where $\\mu$ represents the position on the screen, $\\sigma$ denotes the beam size, and $t$ refers to the \"target\".\n",
    "- The **current beam**: The beam currently in place.\n",
    "  - $b^\\mathrm{(c)}=[\\mu_x^{(\\mathrm{c})},\\sigma_x^{(\\mathrm{c})},\\mu_y^{(\\mathrm{c})},\\sigma_y^{(\\mathrm{c})}]$, where $c$ represents \"current\".\n",
    "- Magnet settings: The **magnet strengths** and **deflection angles**\n",
    "  - $[k_{\\mathrm{Q1}},k_{\\mathrm{Q2}},\\theta_\\mathrm{CV},k_{\\mathrm{Q3}},\\theta_\\mathrm{CH}]$\n"
   ]
  },
  {
   "cell_type": "markdown",
   "metadata": {
    "slideshow": {
     "slide_type": "slide"
    }
   },
   "source": [
    "<h3>RL Goal and Reward</h3>\n",
    "\n",
    "Our goal is divided into two tasks:\n",
    "\n",
    "1. **Steering** the beam to the desired position.\n",
    "2. **Focusing** the beam to the desired size.\n",
    "\n",
    "This is included in the calculation of a scalar `reward` signal.\n"
   ]
  },
  {
   "cell_type": "markdown",
   "metadata": {
    "slideshow": {
     "slide_type": "slide"
    }
   },
   "source": [
    "<h2 style=\"color: #b51f2a\">About libraries for RL</h2>\n",
    "\n",
    "<p>There are several libraries that provide pre-implemented RL algorithms and frameworks for creating environments. In this notebook, we use:</p>\n",
    "\n",
    "- [Gymnasium](https://gymnasium.farama.org/) for the environment\n",
    "- [Stable-Baselines3](https://stable-baselines3.readthedocs.io/) for the RL algorithms\n",
    "\n",
    "<img src=\"img/rl_libraries.png\"  style=\"width:60%; margin:auto;\"/>\n",
    "\n",
    "<p style=\"clear:both; font-size: small; text-align: center; margin-top:1em;\">More info <a href=\"https://neptune.ai/blog/the-best-tools-for-reinforcement-learning-in-python\">here</a></p>\n",
    "\n",
    "**Note**:\n",
    "\n",
    "- Gymnasium is the successor of the [OpenAI Gym](https://www.gymlibrary.dev/).\n",
    "- Stable-baselines3 now has an early-stage JAX implementation [sbx](https://github.com/araffin/sbx).\n"
   ]
  },
  {
   "cell_type": "markdown",
   "metadata": {
    "slideshow": {
     "slide_type": "slide"
    }
   },
   "source": [
    "<h2 style=\"color: #b51f2a\">A Gymnasium Environment</h2>\n",
    "\n",
    "We take all the elements of the RL problem we previously defined and represent the tuning task as a `gym`-based environment, a standard library for RL tasks.\n",
    "\n",
    "A custom `gym.Env` consists of the following components:\n",
    "\n",
    "- **Initialization**: Sets up the environment and defines the `observation_space` and `action_space`\n",
    "- `reset` **method**: Resets the environment for a new episode and returns a 2-tuple `(observation, info)`\n",
    "- `step` **method**: Contains the core logic. It accepts an action, updates the environment state, generates a new observation, computes the reward, and returns a 5-tuple `(observation, reward, terminated, truncated, info)`.\n",
    "  - `terminated` Determines whether the episode should end based on the underlying MDP (e.g., goal reached, threshold exceeded)\n",
    "  - `truncated` Checks if the episode should be truncated due to conditions outside the MDP (e.g., time limits).\n",
    "- `render` **method**: Provides a visual representation of the environment (e.g., video or plots).\n"
   ]
  },
  {
   "cell_type": "markdown",
   "metadata": {
    "slideshow": {
     "slide_type": "slide"
    }
   },
   "source": [
    "<h2 style=\"color: #b51f2a\">The ARES Experimental Area (ARES-EA) Environment</h2>\n",
    "\n",
    "- We formulated the ARES-EA task as a `gym` environment, allowing our algorithm to easily interface with both the simulation and real machine backends as shown before.\n",
    "- In this section, you will become familiar with the environment for beam focusing and positioning at the ARES accelerator.\n",
    "\n",
    "Important APIs to interact with the environment:\n",
    "\n",
    "- `reset`: Resets the magnets to their initial values in both real and simulation cases. In the simulation, it also regenerates the incoming beam and (optionally) resets magnet misalignments.\n",
    "- `step`: Adjusts the magnets to new settings and observes the beam (either by running a simulation or observing the screen image in the real world).\n"
   ]
  },
  {
   "cell_type": "markdown",
   "metadata": {},
   "source": [
    "<h2>Interacting with the ARES-EA Environment</h2>\n",
    "\n",
    "First, let's see how the ARES-EA environment works by interacting with it.\n",
    "\n",
    "If you already have `npm` installed and have a performant laptop, you can go through the following section to render the envrionment in 3D and enjoy live interaction.\n",
    "\n",
    "Otherwise, you can jump directly to the next section: [Try manual tuning](#try-manual-tuning) which implements a 2D visualization of the beam screen.\n"
   ]
  },
  {
   "cell_type": "markdown",
   "metadata": {
    "slideshow": {
     "slide_type": "slide"
    }
   },
   "source": [
    "### Interacting live with 3D Rendering\n",
    "\n",
    "#### Getting Started\n",
    "\n",
    "First, you would need to install the Javascript dependencies. To do that, navigate to the JavaScript project directory (e.g., `beam_3d_visualizer/`) and install the necessary dependencies:\n"
   ]
  },
  {
   "cell_type": "code",
   "execution_count": null,
   "metadata": {},
   "outputs": [
    {
     "name": "stdout",
     "output_type": "stream",
     "text": [
      "\n",
      "up to date, audited 232 packages in 687ms\n",
      "\n",
      "32 packages are looking for funding\n",
      "  run `npm fund` for details\n",
      "\n",
      "found 0 vulnerabilities\n",
      "\n",
      "up to date, audited 232 packages in 778ms\n",
      "\n",
      "32 packages are looking for funding\n",
      "  run `npm fund` for details\n",
      "\n",
      "found 0 vulnerabilities\n"
     ]
    }
   ],
   "source": [
    "%%bash \n",
    "\n",
    "cd beam_3d_visualizer/\n",
    "npm install\n",
    "npm audit fix"
   ]
  },
  {
   "cell_type": "markdown",
   "metadata": {
    "slideshow": {
     "slide_type": "slide"
    }
   },
   "source": [
    "#### Necessay Imports\n",
    "\n",
    "The cell bellow imports necessary modules for the simulation, including asyncio for asynchronous execution, yaml for configuration management,\n",
    "and logging for debugging.\n"
   ]
  },
  {
   "cell_type": "code",
   "execution_count": null,
   "metadata": {},
   "outputs": [],
   "source": [
    "# Configure logging\n",
    "logging.basicConfig(\n",
    "    level=logging.INFO, format=\"%(asctime)s [%(levelname)s] %(message)s\"\n",
    ")\n",
    "logger = logging.getLogger(__name__)"
   ]
  },
  {
   "cell_type": "markdown",
   "metadata": {
    "slideshow": {
     "slide_type": "slide"
    }
   },
   "source": [
    "The cell below starts the main loop, and establish a connection to show the visualization using a Websocket\n"
   ]
  },
  {
   "cell_type": "code",
   "execution_count": null,
   "metadata": {},
   "outputs": [],
   "source": [
    "# Create a background task for the simulation\n",
    "simulation_task = asyncio.create_task(visualization_main(logger=logger))\n",
    "\n",
    "# Add a small delay to allow the web server and WebSocket to start\n",
    "await asyncio.sleep(2.0)  # Adjust delay as needed\n",
    "\n",
    "print(\"Simulation is running in the background. You can now run other cells.\")"
   ]
  },
  {
   "cell_type": "markdown",
   "metadata": {
    "slideshow": {
     "slide_type": "slide"
    }
   },
   "source": [
    "Now, the web application can be displayed below in an iFrame.\n",
    "\n",
    "You can change the magnet settings to steer the beam trajectory\n",
    "\n",
    "The scatter plot indicates the beam distribution on the diagnostic screen in real-time.\n"
   ]
  },
  {
   "cell_type": "code",
   "execution_count": null,
   "metadata": {},
   "outputs": [
    {
     "data": {
      "text/html": [
       "\n",
       "        <iframe\n",
       "            width=\"1000\"\n",
       "            height=\"600\"\n",
       "            src=\"http://localhost:5173/\"\n",
       "            frameborder=\"0\"\n",
       "            allowfullscreen\n",
       "            \n",
       "        ></iframe>\n",
       "        "
      ],
      "text/plain": [
       "<IPython.lib.display.IFrame at 0x169d9f380>"
      ]
     },
     "metadata": {},
     "output_type": "display_data"
    }
   ],
   "source": [
    "# Define the iframe as a string\n",
    "display(IFrame(src=\"http://localhost:5173/\", width=1000, height=600))"
   ]
  },
  {
   "cell_type": "markdown",
   "metadata": {
    "slideshow": {
     "slide_type": "slide"
    }
   },
   "source": [
    "You can close the visualization task when finished:\n"
   ]
  },
  {
   "cell_type": "code",
   "execution_count": null,
   "metadata": {},
   "outputs": [
    {
     "data": {
      "text/plain": [
       "True"
      ]
     },
     "execution_count": 5,
     "metadata": {},
     "output_type": "execute_result"
    }
   ],
   "source": [
    "simulation_task.cancel()"
   ]
  },
  {
   "cell_type": "markdown",
   "metadata": {
    "slideshow": {
     "slide_type": "slide"
    }
   },
   "source": [
    "### Try Manual Tuning\n",
    "\n",
    "In this part, you can interact with the ARES-EA manually, as an operator sitting in the control room.\n",
    "\n",
    "First, let's create the environment and wrap it in `PlotEpisode` for saving the progress.\n"
   ]
  },
  {
   "cell_type": "code",
   "execution_count": null,
   "metadata": {
    "slideshow": {
     "slide_type": "fragment"
    }
   },
   "outputs": [],
   "source": [
    "env = ea.TransverseTuning(\n",
    "    backend=\"cheetah\",\n",
    "    action_mode=\"direct\",\n",
    "    magnet_init_mode=None,\n",
    "    render_mode=\"rgb_array\",\n",
    "    backend_args={\"generate_screen_images\": True},\n",
    ")\n",
    "env = PlotEpisode(env, save_dir=\"plots\", episode_trigger=lambda _: True)"
   ]
  },
  {
   "cell_type": "markdown",
   "metadata": {},
   "source": [
    "Run the cell below to start the manual tuning.\n",
    "\n",
    "You will see the rendered diagnostic screen rendered, with\n",
    "\n",
    "- a blue ellipse representing the **target beam**\n",
    "- a red ellipse representing the **current beam**\n",
    "\n",
    "You can change the magnet settings by explicitly setting the values or clicking increase/decrease.\n",
    "\n",
    "The magnet limits are $\\pm 72$ 1/m for quadrupoles and $\\pm 6.17$ mrad for the correctors. These are the real settings in the ARES accelerator.\n",
    "\n",
    "Click on `Done` after you are finished, it will show a history of the actions performed by you and the beam parameters.\n"
   ]
  },
  {
   "cell_type": "code",
   "execution_count": null,
   "metadata": {},
   "outputs": [
    {
     "data": {
      "application/vnd.jupyter.widget-view+json": {
       "model_id": "1adf4d8ee3704606b215eb83a4da4dd6",
       "version_major": 2,
       "version_minor": 0
      },
      "text/plain": [
       "BoundedFloatText(value=0.0, description='AREAMQZM1', max=72.0, min=-72.0)"
      ]
     },
     "metadata": {},
     "output_type": "display_data"
    },
    {
     "data": {
      "application/vnd.jupyter.widget-view+json": {
       "model_id": "63f03615e61447ad925d541e2b088812",
       "version_major": 2,
       "version_minor": 0
      },
      "text/plain": [
       "BoundedFloatText(value=0.0, description='AREAMQZM2', max=72.0, min=-72.0)"
      ]
     },
     "metadata": {},
     "output_type": "display_data"
    },
    {
     "data": {
      "application/vnd.jupyter.widget-view+json": {
       "model_id": "1a398140393f43cd86170d5ce664f8b9",
       "version_major": 2,
       "version_minor": 0
      },
      "text/plain": [
       "BoundedFloatText(value=0.0, description='AREAMCVM1', max=6178.19970703125, min=-6178.19970703125)"
      ]
     },
     "metadata": {},
     "output_type": "display_data"
    },
    {
     "data": {
      "application/vnd.jupyter.widget-view+json": {
       "model_id": "f96b545eff214501ba7d9291d08b087c",
       "version_major": 2,
       "version_minor": 0
      },
      "text/plain": [
       "BoundedFloatText(value=0.0, description='AREAMQZM3', max=72.0, min=-72.0)"
      ]
     },
     "metadata": {},
     "output_type": "display_data"
    },
    {
     "data": {
      "application/vnd.jupyter.widget-view+json": {
       "model_id": "8bf43e3cc2dd470e8960635511a236d4",
       "version_major": 2,
       "version_minor": 0
      },
      "text/plain": [
       "BoundedFloatText(value=0.0, description='AREAMCHM1', max=6178.19970703125, min=-6178.19970703125)"
      ]
     },
     "metadata": {},
     "output_type": "display_data"
    },
    {
     "data": {
      "application/vnd.jupyter.widget-view+json": {
       "model_id": "817790fe88a34dd2bde99658edb2321b",
       "version_major": 2,
       "version_minor": 0
      },
      "text/plain": [
       "Image(value=b'\\x89PNG\\r\\n\\x1a\\n\\x00\\x00\\x00\\rIHDR\\x00\\x00\\x03d\\x00\\x00\\x01\\xfe\\x08\\x02\\x00\\x00\\x00|\\xe8Z\\x93\\x…"
      ]
     },
     "metadata": {},
     "output_type": "display_data"
    },
    {
     "data": {
      "application/vnd.jupyter.widget-view+json": {
       "model_id": "0b0465edeb5b4cb5acbe5cda335470fb",
       "version_major": 2,
       "version_minor": 0
      },
      "text/plain": [
       "Button(description='Done!', style=ButtonStyle())"
      ]
     },
     "metadata": {},
     "output_type": "display_data"
    },
    {
     "data": {
      "image/png": "[encoded data removed]",
      "text/plain": [
       "<Figure size 1332.51x380.291 with 6 Axes>"
      ]
     },
     "metadata": {},
     "output_type": "display_data"
    }
   ],
   "source": [
    "restart_manual_tuning(env)"
   ]
  },
  {
   "cell_type": "markdown",
   "metadata": {},
   "source": [
    "<h2>What to do next?</h2>\n",
    "\n",
    "To participate in the challenge, you can\n",
    "\n",
    "- try training an RL agent. We have provided a baseline training routine with PPO. C.f. `Challenge_A_RLTraining.ipynb`\n",
    "- try developing your own optimizer or controller, c.f. `Challenge_B_CustomOptimizer.ipynb`\n"
   ]
  },
  {
   "cell_type": "markdown",
   "metadata": {},
   "source": [
    "<h3 style=\"color: #b51f2a\">Code Directory Structure in RL4AA-2025 Repository</h2>\n",
    "\n",
    "<p> This repository contains all the necessary code and configurations for running experiments using reinforcement learning (RL) and other numerical optimizers for the ARES-EA transverse tuning task. Below is an overview of the directories to help you navigate the code contents:</p>\n",
    "\n",
    "- `src` Contains the source code for the RL environment and the GP-MPC controller\n",
    "  - `src/environments/ea` contains the gymnasium environment for the ARES-EA transverse tuning task\n",
    "  - `src/wrappers` contains custom wrappers for the EA environment\n",
    "  - `src/train` contains scripts to train a default PPO agent to solve the task (can be used as a benchmark for evaluating MPC controller)\n",
    "- `data/trial.yaml` contains the pre-selected task configurations for evaluation\n"
   ]
  },
  {
   "cell_type": "markdown",
   "metadata": {},
   "source": []
  }
 ],
 "metadata": {
  "kernelspec": {
   "display_name": "rl4aa25-tutorial",
   "language": "python",
   "name": "python3"
  },
  "language_info": {
   "codemirror_mode": {
    "name": "ipython",
    "version": 3
   },
   "file_extension": ".py",
   "mimetype": "text/x-python",
   "name": "python",
   "nbconvert_exporter": "python",
   "pygments_lexer": "ipython3",
   "version": "3.12.9"
  }
 },
 "nbformat": 4,
 "nbformat_minor": 4
}
