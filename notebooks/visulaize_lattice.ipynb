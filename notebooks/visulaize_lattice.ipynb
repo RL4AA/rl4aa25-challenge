{
 "cells": [
  {
   "cell_type": "code",
   "execution_count": null,
   "id": "014e4496-fcdb-405b-bf55-fd4668c5a9be",
   "metadata": {},
   "outputs": [],
   "source": [
    "import subprocess\n",
    "from IPython.display import HTML, display, IFrame\n",
    "import time"
   ]
  },
  {
   "cell_type": "code",
   "execution_count": null,
   "id": "2cc5c162-1270-4daf-8421-e33c7b22673b",
   "metadata": {
    "scrolled": true
   },
   "outputs": [],
   "source": [
    "# Start npm run start in the background\n",
    "# If npm run start requires a shell environment (e.g., for scripts defined in package.json), \n",
    "# set shell=True, but this is less secure\n",
    "process = subprocess.Popen(['npm', 'run', 'start', '--prefix', '../3d-model-ares'], shell=False)"
   ]
  },
  {
   "cell_type": "code",
   "execution_count": null,
   "id": "30b6fe19-5067-4710-a75f-6ec2f8bf658a",
   "metadata": {},
   "outputs": [],
   "source": [
    "# Give the server a moment to start\n",
    "time.sleep(2)"
   ]
  },
  {
   "cell_type": "code",
   "execution_count": null,
   "id": "04f36d56-dcaa-4c6e-8137-6c9a4e0552eb",
   "metadata": {},
   "outputs": [],
   "source": [
    "# Define the iframe as a string\n",
    "iframe = '<iframe src=\"http://localhost:5173/\" title=\"3D Lattice Visualization\" height=\"600\" width=\"1000\"></iframe>'"
   ]
  },
  {
   "cell_type": "code",
   "execution_count": null,
   "id": "f3c8bd7d-aa00-4e46-98ff-9020647af962",
   "metadata": {},
   "outputs": [],
   "source": [
    "# Display the iframe\n",
    "display(HTML(iframe))"
   ]
  },
  {
   "cell_type": "markdown",
   "id": "d77856e9-4394-4d54-b1e6-f150270c4d2a",
   "metadata": {},
   "source": [
    "<iframe src=\"http://localhost:5174/\" title=\"3D Lattice Visualization\" height=\"600\" width=\"1000\"></iframe>"
   ]
  },
  {
   "cell_type": "code",
   "execution_count": null,
   "id": "4c72191e-40b1-44e8-a576-63e1b89fe0db",
   "metadata": {},
   "outputs": [],
   "source": [
    "process.terminate()  # Graceful shutdown\n",
    "# process.kill()     # Forceful shutdown if terminate fails"
   ]
  },
  {
   "cell_type": "code",
   "execution_count": null,
   "id": "ee5b49bd-c392-4ab0-b6d3-48eaf2ef2cdc",
   "metadata": {},
   "outputs": [],
   "source": [
    "!ps u # view system processes"
   ]
  },
  {
   "cell_type": "code",
   "execution_count": null,
   "id": "f50dfdb9-fa6e-45e4-9bea-97ae301fcd32",
   "metadata": {},
   "outputs": [],
   "source": []
  }
 ],
 "metadata": {
  "kernelspec": {
   "display_name": "Python 3 (ipykernel)",
   "language": "python",
   "name": "python3"
  },
  "language_info": {
   "codemirror_mode": {
    "name": "ipython",
    "version": 3
   },
   "file_extension": ".py",
   "mimetype": "text/x-python",
   "name": "python",
   "nbconvert_exporter": "python",
   "pygments_lexer": "ipython3",
   "version": "3.11.11"
  }
 },
 "nbformat": 4,
 "nbformat_minor": 5
}
