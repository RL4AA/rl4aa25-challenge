{
 "cells": [
  {
   "cell_type": "markdown",
   "id": "80a0ebda",
   "metadata": {},
   "source": [
    "This cell imports necessary modules for the simulation, including asyncio for asynchronous execution, yaml for configuration management, and logging for debugging. It also adds the project root to the Python path to ensure module imports work correctly.\n"
   ]
  },
  {
   "cell_type": "code",
   "execution_count": 6,
   "id": "014e4496-fcdb-405b-bf55-fd4668c5a9be",
   "metadata": {},
   "outputs": [],
   "source": [
    "import asyncio\n",
    "import logging\n",
    "import os\n",
    "import sys\n",
    "from pathlib import Path\n",
    "\n",
    "import yaml\n",
    "\n",
    "sys.path.append(os.path.abspath(\"..\"))\n",
    "# Add the project root to sys.path\n",
    "\n",
    "from beam_3d_visualizer.beam_server.beam_visualization_wrapper import (\n",
    "    BeamVisualizationWrapper,\n",
    ")\n",
    "from envs.beam_control_env import BeamControlEnv\n",
    "\n",
    "from IPython.display import HTML, display\n",
    "\n",
    "# Configure logging\n",
    "logging.basicConfig(\n",
    "    level=logging.INFO, format=\"%(asctime)s [%(levelname)s] %(message)s\"\n",
    ")\n",
    "logger = logging.getLogger(__name__)"
   ]
  },
  {
   "cell_type": "markdown",
   "id": "7c8b5851",
   "metadata": {},
   "source": [
    "This function handles the main simulation loop. It initializes the environment, continuously updates the visualization, checks for new control actions, and logs step-wise simulation data. The loop runs until the simulation is complete.\n",
    "\n",
    "**Expected Output:**\n",
    "\n",
    "- Console messages indicating the start of the simulation and step-by-step log information such as received actions, computed rewards, and updated observations.\n",
    "- If a WebSocket client is connected, visualization updates will be sent accordingly.\n"
   ]
  },
  {
   "cell_type": "code",
   "execution_count": 2,
   "id": "a186cdf5",
   "metadata": {},
   "outputs": [],
   "source": [
    "async def run_simulation(env: BeamControlEnv):\n",
    "    \"\"\"Run the simulation loop, stepping the environment with control actions.\"\"\"\n",
    "    print(\"\\n--- Starting simulation loop ---\")\n",
    "\n",
    "    step_count = 0\n",
    "    done = False\n",
    "\n",
    "    # Reset the environment\n",
    "    observation, _ = env.reset()\n",
    "\n",
    "    while not done:\n",
    "        # Render and broadcast data to clients\n",
    "        # Calls BeamVisualizationWrapper.render(),\n",
    "        # which delegates to WebSocketWrapper.render()\n",
    "        await env.render()\n",
    "\n",
    "        # Check if we have a new control action from WebSocket\n",
    "        if env.control_action is not None:\n",
    "            print(f\"New action received: {env.control_action}\")\n",
    "            env.last_action = env.control_action  # Update last_action with new action\n",
    "            env.control_action = None  # Clear after use\n",
    "\n",
    "        # Step through the environment with the last action\n",
    "        # Note: last_action persists and is reused if no new action is received\n",
    "        observation, reward, terminated, truncated, info = env.step(env.last_action)\n",
    "\n",
    "        # Update step count\n",
    "        step_count += 1\n",
    "\n",
    "        logger.info(\n",
    "            \"Step %d: Action = %s, Reward = %s, Observation = %s\",\n",
    "            step_count,\n",
    "            env.last_action,\n",
    "            reward,\n",
    "            observation,\n",
    "        )\n",
    "\n",
    "        done = truncated  # or terminated\n",
    "\n",
    "    env.close()\n",
    "    print(\"Simulation completed.\")"
   ]
  },
  {
   "cell_type": "markdown",
   "id": "61aae063",
   "metadata": {},
   "source": [
    "This function sets up the beam control environment by loading the configuration file (env_configs.yml) and initializing the simulation environment. It ensures the WebSocket-based visualization wrapper is correctly set up before running the simulation.\n",
    "\n",
    "**Expected Output:**\n",
    "\n",
    "- A message indicating that the WebSocket server is waiting for a client connection.\n",
    "- Logging messages showing WebSocket and visualization wrapper initialization.\n",
    "- A confirmation message once the simulation starts.\n"
   ]
  },
  {
   "cell_type": "code",
   "execution_count": 3,
   "id": "1415f429",
   "metadata": {},
   "outputs": [],
   "source": [
    "async def main():\n",
    "    \"\"\"Main entry point to set up the environment and start the simulation.\"\"\"\n",
    "\n",
    "    # Load configuration\n",
    "    config_path = Path.home() / \"Desktop\" / \"rl4aa25-tutorial\" / \"env_configs.yml\"\n",
    "\n",
    "    with config_path.open(\"r\") as file:\n",
    "        config = yaml.safe_load(file)\n",
    "\n",
    "    # Initialize the environment and wrap it with WebSocketWrapper\n",
    "    env = BeamControlEnv(config=config)\n",
    "    env = BeamVisualizationWrapper(env)\n",
    "\n",
    "    if not env.env.connected:\n",
    "        print(\"Waiting for WebSocket client to connect...\")\n",
    "        await asyncio.sleep(5.0)  # Small delay to prevent CPU overload\n",
    "\n",
    "    # Run the simulation\n",
    "    await run_simulation(env)\n",
    "\n",
    "    print(\"Simulation shutdown completed.\")"
   ]
  },
  {
   "cell_type": "markdown",
   "id": "f3f2c65a",
   "metadata": {},
   "source": [
    "This cell asynchronously starts the simulation in the background and allows users to run other cells without blocking execution. A short delay is added to ensure WebSocket services are properly started.\n",
    "\n",
    "**Expected Output:**\n",
    "\n",
    "- Log messages confirming WebSocket server startup and connection establishment.\n",
    "\n",
    "- If successful, the WebSocket client (JavaScript-based visualization) connects, and the event display (3D visualization of the beamline) updates accordingly.\n"
   ]
  },
  {
   "cell_type": "code",
   "execution_count": null,
   "id": "bd72f45d-210b-4299-8b8f-e4b3f4f67352",
   "metadata": {},
   "outputs": [],
   "source": [
    "# Create a background task for the simulation\n",
    "simulation_task = asyncio.create_task(main())\n",
    "\n",
    "# Add a small delay to allow the web server and WebSocket to start\n",
    "await asyncio.sleep(2.0)  # Adjust delay as needed\n",
    "\n",
    "print(\"Simulation is running in the background. You can now run other cells.\")"
   ]
  },
  {
   "cell_type": "markdown",
   "id": "b2ac2e7e",
   "metadata": {},
   "source": [
    "## Expected Visualization Output\n",
    "\n",
    "- A real-time 3D visualization of the beamline appears in the web application.\n",
    "- A control panel enables users to adjust magnet strengths and steering angles, updating the particle beam trajectory dynamically.\n",
    "- A scatter plot of particle positions is displayed, showing the beam’s distribution in real-time.\n"
   ]
  },
  {
   "cell_type": "code",
   "execution_count": 5,
   "id": "f3c8bd7d-aa00-4e46-98ff-9020647af962",
   "metadata": {},
   "outputs": [
    {
     "name": "stderr",
     "output_type": "stream",
     "text": [
      "/Users/christiancontrerascampana/anaconda3/envs/rlaa2025/lib/python3.11/site-packages/IPython/core/display.py:447: UserWarning: Consider using IPython.display.IFrame instead\n",
      "  warnings.warn(\"Consider using IPython.display.IFrame instead\")\n"
     ]
    },
    {
     "data": {
      "text/html": [
       "<iframe src=\"http://localhost:5173/\" title=\"3D Lattice Visualization\" height=\"600\" width=\"1000\"></iframe>"
      ],
      "text/plain": [
       "<IPython.core.display.HTML object>"
      ]
     },
     "metadata": {},
     "output_type": "display_data"
    }
   ],
   "source": [
    "# Define the iframe as a string\n",
    "iframe = '<iframe src=\"http://localhost:5173/\" title=\"3D Lattice Visualization\" height=\"600\" width=\"1000\"></iframe>'\n",
    "\n",
    "display(HTML(iframe))"
   ]
  },
  {
   "cell_type": "code",
   "execution_count": null,
   "id": "64dfbd1a-0068-4df7-adf7-9283e6362e88",
   "metadata": {},
   "outputs": [],
   "source": []
  }
 ],
 "metadata": {
  "kernelspec": {
   "display_name": "Python 3 (ipykernel)",
   "language": "python",
   "name": "python3"
  },
  "language_info": {
   "codemirror_mode": {
    "name": "ipython",
    "version": 3
   },
   "file_extension": ".py",
   "mimetype": "text/x-python",
   "name": "python",
   "nbconvert_exporter": "python",
   "pygments_lexer": "ipython3",
   "version": "3.11.11"
  }
 },
 "nbformat": 4,
 "nbformat_minor": 5
}
