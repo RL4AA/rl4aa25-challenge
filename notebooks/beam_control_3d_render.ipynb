{
 "cells": [
  {
   "cell_type": "code",
   "execution_count": 1,
   "id": "014e4496-fcdb-405b-bf55-fd4668c5a9be",
   "metadata": {},
   "outputs": [
    {
     "name": "stdout",
     "output_type": "stream",
     "text": [
      "initializing ocelot...\n"
     ]
    }
   ],
   "source": [
    "import sys\n",
    "\n",
    "sys.path.append(\n",
    "    \"/Users/christiancontrerascampana/Desktop/hoo_project/rl4aa25-tutorial/\"\n",
    ")\n",
    "\n",
    "import yaml\n",
    "import asyncio\n",
    "import numpy as np\n",
    "\n",
    "from stable_baselines3.common.utils import set_random_seed\n",
    "\n",
    "from beam_control_env import BeamControlEnv\n",
    "from beam_3d_visualizer.simulation_controller.beam_visualization_wrapper import (\n",
    "    BeamVisualizationWrapper,\n",
    ")\n",
    "\n",
    "from IPython.display import HTML, display, IFrame"
   ]
  },
  {
   "cell_type": "code",
   "execution_count": 2,
   "id": "f50dfdb9-fa6e-45e4-9bea-97ae301fcd32",
   "metadata": {},
   "outputs": [],
   "source": [
    "async def run_simulation(env: BeamControlEnv):\n",
    "    \"\"\"Run the simulation loop, stepping the environment with control actions.\"\"\"\n",
    "    print(\"\\n--- Starting simulation loop ---\")\n",
    "\n",
    "    step_count = 0\n",
    "    done = False\n",
    "\n",
    "    # Initialize last_action with zeros\n",
    "    last_action = np.array([0, 0, 0, 0, 0], dtype=np.float32)\n",
    "\n",
    "    # Reset the environment\n",
    "    observation, _ = env.reset()\n",
    "\n",
    "    while not done:\n",
    "        # Render and broadcast data to clients\n",
    "        await env.render()  # Calls BeamVisualizationWrapper.render(), which delegates to WebSocketWrapper.render()\n",
    "\n",
    "        # Check if we have a new control action from WebSocket\n",
    "        if env.control_action is not None:\n",
    "            print(f\"New action received: {env.control_action}\")\n",
    "            env.last_action = env.control_action  # Update last_action with new action\n",
    "            env.control_action = None  # Clear after use\n",
    "\n",
    "        # Step through the environment with the last action\n",
    "        # Note: last_action persists and is reused if no new action is received\n",
    "        observation, reward, terminated, truncated, info = env.step(env.last_action)\n",
    "\n",
    "        # Update step count\n",
    "        step_count += 1\n",
    "\n",
    "        print(\n",
    "            \"Step %d: Action = %s, Reward = %s, Observation = %s\",\n",
    "            step_count,\n",
    "            env.last_action,\n",
    "            reward,\n",
    "            observation,\n",
    "        )\n",
    "\n",
    "        done = truncated  # or terminated\n",
    "\n",
    "    env.close()\n",
    "    print(\"Simulation completed.\")"
   ]
  },
  {
   "cell_type": "code",
   "execution_count": 3,
   "id": "a2e7d444-e476-4eb9-acda-44886eaceeae",
   "metadata": {},
   "outputs": [],
   "source": [
    "async def main():\n",
    "    \"\"\"Main entry point to set up the environment and start the simulation.\"\"\"\n",
    "\n",
    "    # Load configuration\n",
    "    with open(\n",
    "        \"/Users/christiancontrerascampana/Desktop/hoo_project/rl4aa25-tutorial/env_configs.yml\",\n",
    "        \"r\",\n",
    "    ) as file:\n",
    "        config = yaml.safe_load(file)\n",
    "\n",
    "    # Set random seed if provided\n",
    "    if config[\"env_config\"].get(\"seed\") is not None:\n",
    "        set_random_seed(config[\"env_config\"][\"seed\"])\n",
    "\n",
    "    # Initialize the environment and wrap it with WebSocketWrapper\n",
    "    env = BeamControlEnv(config=config)\n",
    "    env = BeamVisualizationWrapper(env)\n",
    "\n",
    "    if not env.env.connected:\n",
    "        print(\"Waiting for WebSocket client to connect...\")\n",
    "        await asyncio.sleep(5.0)  # Small delay to prevent CPU overload\n",
    "\n",
    "    # Run the simulation\n",
    "    await run_simulation(env)\n",
    "\n",
    "    print(\"Simulation shutdown completed.\")"
   ]
  },
  {
   "cell_type": "code",
   "execution_count": 4,
   "id": "34a5631c-769a-4ce8-b3c9-fc40ae53c7ef",
   "metadata": {},
   "outputs": [],
   "source": [
    "# await main()"
   ]
  },
  {
   "cell_type": "code",
   "execution_count": null,
   "id": "bd72f45d-210b-4299-8b8f-e4b3f4f67352",
   "metadata": {},
   "outputs": [
    {
     "name": "stderr",
     "output_type": "stream",
     "text": [
      "INFO:beam_3d_visualizer.simulation_controller.websocket_wrapper:WebSocket server thread started on ws://localhost:8081\n",
      "INFO:beam_3d_visualizer.simulation_controller.beam_visualization_wrapper:Started JavaScript web application on http://localhost:5173\n",
      "WARNING:cheetah.utils.segment_3d_builder:Element type Marker not recognized.\n",
      "WARNING:cheetah.utils.segment_3d_builder:Element type Drift not recognized.\n",
      "INFO:cheetah.utils.segment_3d_builder:Added Quadrupole: AREAMQZM1 at position 0.17504000663757324\n",
      "WARNING:cheetah.utils.segment_3d_builder:Element type Drift not recognized.\n",
      "INFO:websockets.server:server listening on 127.0.0.1:8081\n",
      "INFO:websockets.server:server listening on [::1]:8081\n",
      "INFO:beam_3d_visualizer.simulation_controller.websocket_wrapper:WebSocket server running on ws://localhost:8081\n",
      "INFO:cheetah.utils.segment_3d_builder:Added Quadrupole: AREAMQZM2 at position 0.7250400111079216\n",
      "WARNING:cheetah.utils.segment_3d_builder:Element type Drift not recognized.\n",
      "INFO:cheetah.utils.segment_3d_builder:Added VerticalCorrector: AREAMCVM1 at position 1.0510400086641312\n",
      "WARNING:cheetah.utils.segment_3d_builder:Element type Drift not recognized.\n",
      "INFO:cheetah.utils.segment_3d_builder:Added Quadrupole: AREAMQZM3 at position 1.275040004402399\n",
      "WARNING:cheetah.utils.segment_3d_builder:Element type Drift not recognized.\n",
      "INFO:cheetah.utils.segment_3d_builder:Added HorizontalCorrector: AREAMCHM1 at position 1.5760400108993053\n",
      "WARNING:cheetah.utils.segment_3d_builder:Element type Drift not recognized.\n",
      "INFO:cheetah.utils.segment_3d_builder:Added Screen: AREABSCR1 at position 2.0460399985313416\n",
      "INFO:cheetah.utils.segment_3d_builder:Final lattice segment length: 2.0460399985313416\n"
     ]
    },
    {
     "name": "stdout",
     "output_type": "stream",
     "text": [
      "TODO: base_path: /Users/christiancontrerascampana/Desktop/hoo_project/rl4aa25-tutorial/beam_3d_visualizer/simulation_controller\n",
      "Waiting for WebSocket client to connect...\n"
     ]
    },
    {
     "name": "stderr",
     "output_type": "stream",
     "text": [
      "INFO:beam_3d_visualizer.simulation_controller.beam_visualization_wrapper:Vite stdout: \n",
      "INFO:beam_3d_visualizer.simulation_controller.beam_visualization_wrapper:Vite stdout: \u001b[32m\u001b[1mVITE\u001b[22m v6.2.1\u001b[39m  \u001b[2mready in \u001b[0m\u001b[1m106\u001b[22m\u001b[2m\u001b[0m ms\u001b[22m\n",
      "INFO:beam_3d_visualizer.simulation_controller.beam_visualization_wrapper:Vite stdout: \n",
      "INFO:beam_3d_visualizer.simulation_controller.beam_visualization_wrapper:Vite stdout: \u001b[32m➜\u001b[39m  \u001b[1mLocal\u001b[22m:   \u001b[36mhttp://localhost:\u001b[1m5173\u001b[22m/\u001b[39m\n"
     ]
    },
    {
     "name": "stdout",
     "output_type": "stream",
     "text": [
      "Simulation is running in the background. You can now run other cells.\n"
     ]
    },
    {
     "name": "stderr",
     "output_type": "stream",
     "text": [
      "INFO:websockets.server:connection open\n",
      "INFO:beam_3d_visualizer.simulation_controller.websocket_wrapper:WebSocket connection established.\n"
     ]
    },
    {
     "name": "stdout",
     "output_type": "stream",
     "text": [
      "\n",
      "--- Starting simulation loop ---\n",
      "New action received: [0. 0. 0. 0. 0.]\n",
      "Step %d: Action = %s, Reward = %s, Observation = %s 1 [0. 0. 0. 0. 0.] 100 [ 9.4665302e-07 -1.9679567e-06  1.8145077e-04  1.8178350e-04]\n",
      "Step %d: Action = %s, Reward = %s, Observation = %s 2 [0. 0. 0. 0. 0.] 100 [ 9.4665302e-07 -1.9679567e-06  1.8145077e-04  1.8178350e-04]\n",
      "Step %d: Action = %s, Reward = %s, Observation = %s 3 [0. 0. 0. 0. 0.] 100 [ 9.4665302e-07 -1.9679567e-06  1.8145077e-04  1.8178350e-04]\n",
      "Step %d: Action = %s, Reward = %s, Observation = %s 4 [0. 0. 0. 0. 0.] 100 [ 9.4665302e-07 -1.9679567e-06  1.8145077e-04  1.8178350e-04]\n",
      "Step %d: Action = %s, Reward = %s, Observation = %s 5 [0. 0. 0. 0. 0.] 100 [ 9.4665302e-07 -1.9679567e-06  1.8145077e-04  1.8178350e-04]\n",
      "Step %d: Action = %s, Reward = %s, Observation = %s 6 [0. 0. 0. 0. 0.] 100 [ 9.4665302e-07 -1.9679567e-06  1.8145077e-04  1.8178350e-04]\n",
      "Step %d: Action = %s, Reward = %s, Observation = %s 7 [0. 0. 0. 0. 0.] 100 [ 9.4665302e-07 -1.9679567e-06  1.8145077e-04  1.8178350e-04]\n",
      "Step %d: Action = %s, Reward = %s, Observation = %s 8 [0. 0. 0. 0. 0.] 100 [ 9.4665302e-07 -1.9679567e-06  1.8145077e-04  1.8178350e-04]\n",
      "Step %d: Action = %s, Reward = %s, Observation = %s 9 [0. 0. 0. 0. 0.] 100 [ 9.4665302e-07 -1.9679567e-06  1.8145077e-04  1.8178350e-04]\n",
      "Step %d: Action = %s, Reward = %s, Observation = %s 10 [0. 0. 0. 0. 0.] 100 [ 9.4665302e-07 -1.9679567e-06  1.8145077e-04  1.8178350e-04]\n",
      "Step %d: Action = %s, Reward = %s, Observation = %s 11 [0. 0. 0. 0. 0.] 100 [ 9.4665302e-07 -1.9679567e-06  1.8145077e-04  1.8178350e-04]\n",
      "Step %d: Action = %s, Reward = %s, Observation = %s 12 [0. 0. 0. 0. 0.] 100 [ 9.4665302e-07 -1.9679567e-06  1.8145077e-04  1.8178350e-04]\n",
      "Step %d: Action = %s, Reward = %s, Observation = %s 13 [0. 0. 0. 0. 0.] 100 [ 9.4665302e-07 -1.9679567e-06  1.8145077e-04  1.8178350e-04]\n",
      "Step %d: Action = %s, Reward = %s, Observation = %s 14 [0. 0. 0. 0. 0.] 100 [ 9.4665302e-07 -1.9679567e-06  1.8145077e-04  1.8178350e-04]\n",
      "Step %d: Action = %s, Reward = %s, Observation = %s 15 [0. 0. 0. 0. 0.] 100 [ 9.4665302e-07 -1.9679567e-06  1.8145077e-04  1.8178350e-04]\n",
      "Step %d: Action = %s, Reward = %s, Observation = %s 16 [0. 0. 0. 0. 0.] 100 [ 9.4665302e-07 -1.9679567e-06  1.8145077e-04  1.8178350e-04]\n",
      "Step %d: Action = %s, Reward = %s, Observation = %s 17 [0. 0. 0. 0. 0.] 100 [ 9.4665302e-07 -1.9679567e-06  1.8145077e-04  1.8178350e-04]\n",
      "Step %d: Action = %s, Reward = %s, Observation = %s 18 [0. 0. 0. 0. 0.] 100 [ 9.4665302e-07 -1.9679567e-06  1.8145077e-04  1.8178350e-04]\n",
      "Step %d: Action = %s, Reward = %s, Observation = %s 19 [0. 0. 0. 0. 0.] 100 [ 9.4665302e-07 -1.9679567e-06  1.8145077e-04  1.8178350e-04]\n",
      "Step %d: Action = %s, Reward = %s, Observation = %s 20 [0. 0. 0. 0. 0.] 100 [ 9.4665302e-07 -1.9679567e-06  1.8145077e-04  1.8178350e-04]\n",
      "Step %d: Action = %s, Reward = %s, Observation = %s 21 [0. 0. 0. 0. 0.] 100 [ 9.4665302e-07 -1.9679567e-06  1.8145077e-04  1.8178350e-04]\n",
      "Step %d: Action = %s, Reward = %s, Observation = %s 22 [0. 0. 0. 0. 0.] 100 [ 9.4665302e-07 -1.9679567e-06  1.8145077e-04  1.8178350e-04]\n",
      "Step %d: Action = %s, Reward = %s, Observation = %s 23 [0. 0. 0. 0. 0.] 100 [ 9.4665302e-07 -1.9679567e-06  1.8145077e-04  1.8178350e-04]\n",
      "Step %d: Action = %s, Reward = %s, Observation = %s 24 [0. 0. 0. 0. 0.] 100 [ 9.4665302e-07 -1.9679567e-06  1.8145077e-04  1.8178350e-04]\n",
      "Step %d: Action = %s, Reward = %s, Observation = %s 25 [0. 0. 0. 0. 0.] 100 [ 9.4665302e-07 -1.9679567e-06  1.8145077e-04  1.8178350e-04]\n",
      "Step %d: Action = %s, Reward = %s, Observation = %s 26 [0. 0. 0. 0. 0.] 100 [ 9.4665302e-07 -1.9679567e-06  1.8145077e-04  1.8178350e-04]\n",
      "Step %d: Action = %s, Reward = %s, Observation = %s 27 [0. 0. 0. 0. 0.] 100 [ 9.4665302e-07 -1.9679567e-06  1.8145077e-04  1.8178350e-04]\n",
      "Step %d: Action = %s, Reward = %s, Observation = %s 28 [0. 0. 0. 0. 0.] 100 [ 9.4665302e-07 -1.9679567e-06  1.8145077e-04  1.8178350e-04]\n",
      "Step %d: Action = %s, Reward = %s, Observation = %s 29 [0. 0. 0. 0. 0.] 100 [ 9.4665302e-07 -1.9679567e-06  1.8145077e-04  1.8178350e-04]\n",
      "Step %d: Action = %s, Reward = %s, Observation = %s 30 [0. 0. 0. 0. 0.] 100 [ 9.4665302e-07 -1.9679567e-06  1.8145077e-04  1.8178350e-04]\n",
      "Step %d: Action = %s, Reward = %s, Observation = %s 31 [0. 0. 0. 0. 0.] 100 [ 9.4665302e-07 -1.9679567e-06  1.8145077e-04  1.8178350e-04]\n",
      "Step %d: Action = %s, Reward = %s, Observation = %s 32 [0. 0. 0. 0. 0.] 100 [ 9.4665302e-07 -1.9679567e-06  1.8145077e-04  1.8178350e-04]\n",
      "Step %d: Action = %s, Reward = %s, Observation = %s 33 [0. 0. 0. 0. 0.] 100 [ 9.4665302e-07 -1.9679567e-06  1.8145077e-04  1.8178350e-04]\n",
      "Step %d: Action = %s, Reward = %s, Observation = %s 34 [0. 0. 0. 0. 0.] 100 [ 9.4665302e-07 -1.9679567e-06  1.8145077e-04  1.8178350e-04]\n",
      "Step %d: Action = %s, Reward = %s, Observation = %s 35 [0. 0. 0. 0. 0.] 100 [ 9.4665302e-07 -1.9679567e-06  1.8145077e-04  1.8178350e-04]\n",
      "Step %d: Action = %s, Reward = %s, Observation = %s 36 [0. 0. 0. 0. 0.] 100 [ 9.4665302e-07 -1.9679567e-06  1.8145077e-04  1.8178350e-04]\n",
      "Step %d: Action = %s, Reward = %s, Observation = %s 37 [0. 0. 0. 0. 0.] 100 [ 9.4665302e-07 -1.9679567e-06  1.8145077e-04  1.8178350e-04]\n",
      "Step %d: Action = %s, Reward = %s, Observation = %s 38 [0. 0. 0. 0. 0.] 100 [ 9.4665302e-07 -1.9679567e-06  1.8145077e-04  1.8178350e-04]\n",
      "Step %d: Action = %s, Reward = %s, Observation = %s 39 [0. 0. 0. 0. 0.] 100 [ 9.4665302e-07 -1.9679567e-06  1.8145077e-04  1.8178350e-04]\n",
      "Step %d: Action = %s, Reward = %s, Observation = %s 40 [0. 0. 0. 0. 0.] 100 [ 9.4665302e-07 -1.9679567e-06  1.8145077e-04  1.8178350e-04]\n",
      "Step %d: Action = %s, Reward = %s, Observation = %s 41 [0. 0. 0. 0. 0.] 100 [ 9.4665302e-07 -1.9679567e-06  1.8145077e-04  1.8178350e-04]\n",
      "Step %d: Action = %s, Reward = %s, Observation = %s 42 [0. 0. 0. 0. 0.] 100 [ 9.4665302e-07 -1.9679567e-06  1.8145077e-04  1.8178350e-04]\n",
      "Step %d: Action = %s, Reward = %s, Observation = %s 43 [0. 0. 0. 0. 0.] 100 [ 9.4665302e-07 -1.9679567e-06  1.8145077e-04  1.8178350e-04]\n",
      "Step %d: Action = %s, Reward = %s, Observation = %s 44 [0. 0. 0. 0. 0.] 100 [ 9.4665302e-07 -1.9679567e-06  1.8145077e-04  1.8178350e-04]\n",
      "Step %d: Action = %s, Reward = %s, Observation = %s 45 [0. 0. 0. 0. 0.] 100 [ 9.4665302e-07 -1.9679567e-06  1.8145077e-04  1.8178350e-04]\n",
      "Step %d: Action = %s, Reward = %s, Observation = %s 46 [0. 0. 0. 0. 0.] 100 [ 9.4665302e-07 -1.9679567e-06  1.8145077e-04  1.8178350e-04]\n",
      "Step %d: Action = %s, Reward = %s, Observation = %s 47 [0. 0. 0. 0. 0.] 100 [ 9.4665302e-07 -1.9679567e-06  1.8145077e-04  1.8178350e-04]\n",
      "Step %d: Action = %s, Reward = %s, Observation = %s 48 [0. 0. 0. 0. 0.] 100 [ 9.4665302e-07 -1.9679567e-06  1.8145077e-04  1.8178350e-04]\n",
      "Step %d: Action = %s, Reward = %s, Observation = %s 49 [0. 0. 0. 0. 0.] 100 [ 9.4665302e-07 -1.9679567e-06  1.8145077e-04  1.8178350e-04]\n",
      "Step %d: Action = %s, Reward = %s, Observation = %s 50 [0. 0. 0. 0. 0.] 100 [ 9.4665302e-07 -1.9679567e-06  1.8145077e-04  1.8178350e-04]\n",
      "Step %d: Action = %s, Reward = %s, Observation = %s 51 [0. 0. 0. 0. 0.] 100 [ 9.4665302e-07 -1.9679567e-06  1.8145077e-04  1.8178350e-04]\n",
      "Step %d: Action = %s, Reward = %s, Observation = %s 52 [0. 0. 0. 0. 0.] 100 [ 9.4665302e-07 -1.9679567e-06  1.8145077e-04  1.8178350e-04]\n",
      "Step %d: Action = %s, Reward = %s, Observation = %s 53 [0. 0. 0. 0. 0.] 100 [ 9.4665302e-07 -1.9679567e-06  1.8145077e-04  1.8178350e-04]\n",
      "Step %d: Action = %s, Reward = %s, Observation = %s 54 [0. 0. 0. 0. 0.] 100 [ 9.4665302e-07 -1.9679567e-06  1.8145077e-04  1.8178350e-04]\n",
      "Step %d: Action = %s, Reward = %s, Observation = %s 55 [0. 0. 0. 0. 0.] 100 [ 9.4665302e-07 -1.9679567e-06  1.8145077e-04  1.8178350e-04]\n",
      "Step %d: Action = %s, Reward = %s, Observation = %s 56 [0. 0. 0. 0. 0.] 100 [ 9.4665302e-07 -1.9679567e-06  1.8145077e-04  1.8178350e-04]\n",
      "Step %d: Action = %s, Reward = %s, Observation = %s 57 [0. 0. 0. 0. 0.] 100 [ 9.4665302e-07 -1.9679567e-06  1.8145077e-04  1.8178350e-04]\n",
      "Step %d: Action = %s, Reward = %s, Observation = %s 58 [0. 0. 0. 0. 0.] 100 [ 9.4665302e-07 -1.9679567e-06  1.8145077e-04  1.8178350e-04]\n",
      "Step %d: Action = %s, Reward = %s, Observation = %s 59 [0. 0. 0. 0. 0.] 100 [ 9.4665302e-07 -1.9679567e-06  1.8145077e-04  1.8178350e-04]\n",
      "Step %d: Action = %s, Reward = %s, Observation = %s 60 [0. 0. 0. 0. 0.] 100 [ 9.4665302e-07 -1.9679567e-06  1.8145077e-04  1.8178350e-04]\n",
      "Step %d: Action = %s, Reward = %s, Observation = %s 61 [0. 0. 0. 0. 0.] 100 [ 9.4665302e-07 -1.9679567e-06  1.8145077e-04  1.8178350e-04]\n",
      "Step %d: Action = %s, Reward = %s, Observation = %s 62 [0. 0. 0. 0. 0.] 100 [ 9.4665302e-07 -1.9679567e-06  1.8145077e-04  1.8178350e-04]\n",
      "Step %d: Action = %s, Reward = %s, Observation = %s 63 [0. 0. 0. 0. 0.] 100 [ 9.4665302e-07 -1.9679567e-06  1.8145077e-04  1.8178350e-04]\n",
      "Step %d: Action = %s, Reward = %s, Observation = %s 64 [0. 0. 0. 0. 0.] 100 [ 9.4665302e-07 -1.9679567e-06  1.8145077e-04  1.8178350e-04]\n",
      "Step %d: Action = %s, Reward = %s, Observation = %s 65 [0. 0. 0. 0. 0.] 100 [ 9.4665302e-07 -1.9679567e-06  1.8145077e-04  1.8178350e-04]\n",
      "Step %d: Action = %s, Reward = %s, Observation = %s 66 [0. 0. 0. 0. 0.] 100 [ 9.4665302e-07 -1.9679567e-06  1.8145077e-04  1.8178350e-04]\n",
      "Step %d: Action = %s, Reward = %s, Observation = %s 67 [0. 0. 0. 0. 0.] 100 [ 9.4665302e-07 -1.9679567e-06  1.8145077e-04  1.8178350e-04]\n",
      "Step %d: Action = %s, Reward = %s, Observation = %s 68 [0. 0. 0. 0. 0.] 100 [ 9.4665302e-07 -1.9679567e-06  1.8145077e-04  1.8178350e-04]\n",
      "Step %d: Action = %s, Reward = %s, Observation = %s 69 [0. 0. 0. 0. 0.] 100 [ 9.4665302e-07 -1.9679567e-06  1.8145077e-04  1.8178350e-04]\n",
      "Step %d: Action = %s, Reward = %s, Observation = %s 70 [0. 0. 0. 0. 0.] 100 [ 9.4665302e-07 -1.9679567e-06  1.8145077e-04  1.8178350e-04]\n",
      "Step %d: Action = %s, Reward = %s, Observation = %s 71 [0. 0. 0. 0. 0.] 100 [ 9.4665302e-07 -1.9679567e-06  1.8145077e-04  1.8178350e-04]\n",
      "Step %d: Action = %s, Reward = %s, Observation = %s 72 [0. 0. 0. 0. 0.] 100 [ 9.4665302e-07 -1.9679567e-06  1.8145077e-04  1.8178350e-04]\n",
      "Step %d: Action = %s, Reward = %s, Observation = %s 73 [0. 0. 0. 0. 0.] 100 [ 9.4665302e-07 -1.9679567e-06  1.8145077e-04  1.8178350e-04]\n",
      "Step %d: Action = %s, Reward = %s, Observation = %s 74 [0. 0. 0. 0. 0.] 100 [ 9.4665302e-07 -1.9679567e-06  1.8145077e-04  1.8178350e-04]\n",
      "Step %d: Action = %s, Reward = %s, Observation = %s 75 [0. 0. 0. 0. 0.] 100 [ 9.4665302e-07 -1.9679567e-06  1.8145077e-04  1.8178350e-04]\n",
      "Step %d: Action = %s, Reward = %s, Observation = %s 76 [0. 0. 0. 0. 0.] 100 [ 9.4665302e-07 -1.9679567e-06  1.8145077e-04  1.8178350e-04]\n",
      "Step %d: Action = %s, Reward = %s, Observation = %s 77 [0. 0. 0. 0. 0.] 100 [ 9.4665302e-07 -1.9679567e-06  1.8145077e-04  1.8178350e-04]\n",
      "Step %d: Action = %s, Reward = %s, Observation = %s 78 [0. 0. 0. 0. 0.] 100 [ 9.4665302e-07 -1.9679567e-06  1.8145077e-04  1.8178350e-04]\n",
      "Step %d: Action = %s, Reward = %s, Observation = %s 79 [0. 0. 0. 0. 0.] 100 [ 9.4665302e-07 -1.9679567e-06  1.8145077e-04  1.8178350e-04]\n",
      "Step %d: Action = %s, Reward = %s, Observation = %s 80 [0. 0. 0. 0. 0.] 100 [ 9.4665302e-07 -1.9679567e-06  1.8145077e-04  1.8178350e-04]\n",
      "Step %d: Action = %s, Reward = %s, Observation = %s 81 [0. 0. 0. 0. 0.] 100 [ 9.4665302e-07 -1.9679567e-06  1.8145077e-04  1.8178350e-04]\n",
      "Step %d: Action = %s, Reward = %s, Observation = %s 82 [0. 0. 0. 0. 0.] 100 [ 9.4665302e-07 -1.9679567e-06  1.8145077e-04  1.8178350e-04]\n",
      "Step %d: Action = %s, Reward = %s, Observation = %s 83 [0. 0. 0. 0. 0.] 100 [ 9.4665302e-07 -1.9679567e-06  1.8145077e-04  1.8178350e-04]\n",
      "Step %d: Action = %s, Reward = %s, Observation = %s 84 [0. 0. 0. 0. 0.] 100 [ 9.4665302e-07 -1.9679567e-06  1.8145077e-04  1.8178350e-04]\n",
      "Step %d: Action = %s, Reward = %s, Observation = %s 85 [0. 0. 0. 0. 0.] 100 [ 9.4665302e-07 -1.9679567e-06  1.8145077e-04  1.8178350e-04]\n",
      "Step %d: Action = %s, Reward = %s, Observation = %s 86 [0. 0. 0. 0. 0.] 100 [ 9.4665302e-07 -1.9679567e-06  1.8145077e-04  1.8178350e-04]\n",
      "Step %d: Action = %s, Reward = %s, Observation = %s 87 [0. 0. 0. 0. 0.] 100 [ 9.4665302e-07 -1.9679567e-06  1.8145077e-04  1.8178350e-04]\n",
      "Step %d: Action = %s, Reward = %s, Observation = %s 88 [0. 0. 0. 0. 0.] 100 [ 9.4665302e-07 -1.9679567e-06  1.8145077e-04  1.8178350e-04]\n",
      "Step %d: Action = %s, Reward = %s, Observation = %s 89 [0. 0. 0. 0. 0.] 100 [ 9.4665302e-07 -1.9679567e-06  1.8145077e-04  1.8178350e-04]\n",
      "Step %d: Action = %s, Reward = %s, Observation = %s 90 [0. 0. 0. 0. 0.] 100 [ 9.4665302e-07 -1.9679567e-06  1.8145077e-04  1.8178350e-04]\n",
      "Step %d: Action = %s, Reward = %s, Observation = %s 91 [0. 0. 0. 0. 0.] 100 [ 9.4665302e-07 -1.9679567e-06  1.8145077e-04  1.8178350e-04]\n",
      "Step %d: Action = %s, Reward = %s, Observation = %s 92 [0. 0. 0. 0. 0.] 100 [ 9.4665302e-07 -1.9679567e-06  1.8145077e-04  1.8178350e-04]\n",
      "Step %d: Action = %s, Reward = %s, Observation = %s 93 [0. 0. 0. 0. 0.] 100 [ 9.4665302e-07 -1.9679567e-06  1.8145077e-04  1.8178350e-04]\n",
      "Step %d: Action = %s, Reward = %s, Observation = %s 94 [0. 0. 0. 0. 0.] 100 [ 9.4665302e-07 -1.9679567e-06  1.8145077e-04  1.8178350e-04]\n",
      "Step %d: Action = %s, Reward = %s, Observation = %s 95 [0. 0. 0. 0. 0.] 100 [ 9.4665302e-07 -1.9679567e-06  1.8145077e-04  1.8178350e-04]\n",
      "Step %d: Action = %s, Reward = %s, Observation = %s 96 [0. 0. 0. 0. 0.] 100 [ 9.4665302e-07 -1.9679567e-06  1.8145077e-04  1.8178350e-04]\n",
      "Step %d: Action = %s, Reward = %s, Observation = %s 97 [0. 0. 0. 0. 0.] 100 [ 9.4665302e-07 -1.9679567e-06  1.8145077e-04  1.8178350e-04]\n",
      "Step %d: Action = %s, Reward = %s, Observation = %s 98 [0. 0. 0. 0. 0.] 100 [ 9.4665302e-07 -1.9679567e-06  1.8145077e-04  1.8178350e-04]\n",
      "Step %d: Action = %s, Reward = %s, Observation = %s 99 [0. 0. 0. 0. 0.] 100 [ 9.4665302e-07 -1.9679567e-06  1.8145077e-04  1.8178350e-04]\n",
      "Step %d: Action = %s, Reward = %s, Observation = %s 100 [0. 0. 0. 0. 0.] 100 [ 9.4665302e-07 -1.9679567e-06  1.8145077e-04  1.8178350e-04]\n",
      "Step %d: Action = %s, Reward = %s, Observation = %s 101 [0. 0. 0. 0. 0.] 100 [ 9.4665302e-07 -1.9679567e-06  1.8145077e-04  1.8178350e-04]\n",
      "Step %d: Action = %s, Reward = %s, Observation = %s 102 [0. 0. 0. 0. 0.] 100 [ 9.4665302e-07 -1.9679567e-06  1.8145077e-04  1.8178350e-04]\n",
      "Step %d: Action = %s, Reward = %s, Observation = %s 103 [0. 0. 0. 0. 0.] 100 [ 9.4665302e-07 -1.9679567e-06  1.8145077e-04  1.8178350e-04]\n",
      "Step %d: Action = %s, Reward = %s, Observation = %s 104 [0. 0. 0. 0. 0.] 100 [ 9.4665302e-07 -1.9679567e-06  1.8145077e-04  1.8178350e-04]\n",
      "Step %d: Action = %s, Reward = %s, Observation = %s 105 [0. 0. 0. 0. 0.] 100 [ 9.4665302e-07 -1.9679567e-06  1.8145077e-04  1.8178350e-04]\n",
      "Step %d: Action = %s, Reward = %s, Observation = %s 106 [0. 0. 0. 0. 0.] 100 [ 9.4665302e-07 -1.9679567e-06  1.8145077e-04  1.8178350e-04]\n",
      "Step %d: Action = %s, Reward = %s, Observation = %s 107 [0. 0. 0. 0. 0.] 100 [ 9.4665302e-07 -1.9679567e-06  1.8145077e-04  1.8178350e-04]\n",
      "Step %d: Action = %s, Reward = %s, Observation = %s 108 [0. 0. 0. 0. 0.] 100 [ 9.4665302e-07 -1.9679567e-06  1.8145077e-04  1.8178350e-04]\n",
      "Step %d: Action = %s, Reward = %s, Observation = %s 109 [0. 0. 0. 0. 0.] 100 [ 9.4665302e-07 -1.9679567e-06  1.8145077e-04  1.8178350e-04]\n",
      "Step %d: Action = %s, Reward = %s, Observation = %s 110 [0. 0. 0. 0. 0.] 100 [ 9.4665302e-07 -1.9679567e-06  1.8145077e-04  1.8178350e-04]\n",
      "Step %d: Action = %s, Reward = %s, Observation = %s 111 [0. 0. 0. 0. 0.] 100 [ 9.4665302e-07 -1.9679567e-06  1.8145077e-04  1.8178350e-04]\n",
      "Step %d: Action = %s, Reward = %s, Observation = %s 112 [0. 0. 0. 0. 0.] 100 [ 9.4665302e-07 -1.9679567e-06  1.8145077e-04  1.8178350e-04]\n",
      "Step %d: Action = %s, Reward = %s, Observation = %s 113 [0. 0. 0. 0. 0.] 100 [ 9.4665302e-07 -1.9679567e-06  1.8145077e-04  1.8178350e-04]\n",
      "Step %d: Action = %s, Reward = %s, Observation = %s 114 [0. 0. 0. 0. 0.] 100 [ 9.4665302e-07 -1.9679567e-06  1.8145077e-04  1.8178350e-04]\n",
      "Step %d: Action = %s, Reward = %s, Observation = %s 115 [0. 0. 0. 0. 0.] 100 [ 9.4665302e-07 -1.9679567e-06  1.8145077e-04  1.8178350e-04]\n",
      "Step %d: Action = %s, Reward = %s, Observation = %s 116 [0. 0. 0. 0. 0.] 100 [ 9.4665302e-07 -1.9679567e-06  1.8145077e-04  1.8178350e-04]\n",
      "Step %d: Action = %s, Reward = %s, Observation = %s 117 [0. 0. 0. 0. 0.] 100 [ 9.4665302e-07 -1.9679567e-06  1.8145077e-04  1.8178350e-04]\n",
      "Step %d: Action = %s, Reward = %s, Observation = %s 118 [0. 0. 0. 0. 0.] 100 [ 9.4665302e-07 -1.9679567e-06  1.8145077e-04  1.8178350e-04]\n",
      "Step %d: Action = %s, Reward = %s, Observation = %s 119 [0. 0. 0. 0. 0.] 100 [ 9.4665302e-07 -1.9679567e-06  1.8145077e-04  1.8178350e-04]\n",
      "Step %d: Action = %s, Reward = %s, Observation = %s 120 [0. 0. 0. 0. 0.] 100 [ 9.4665302e-07 -1.9679567e-06  1.8145077e-04  1.8178350e-04]\n",
      "Step %d: Action = %s, Reward = %s, Observation = %s 121 [0. 0. 0. 0. 0.] 100 [ 9.4665302e-07 -1.9679567e-06  1.8145077e-04  1.8178350e-04]\n",
      "Step %d: Action = %s, Reward = %s, Observation = %s 122 [0. 0. 0. 0. 0.] 100 [ 9.4665302e-07 -1.9679567e-06  1.8145077e-04  1.8178350e-04]\n",
      "Step %d: Action = %s, Reward = %s, Observation = %s 123 [0. 0. 0. 0. 0.] 100 [ 9.4665302e-07 -1.9679567e-06  1.8145077e-04  1.8178350e-04]\n",
      "Step %d: Action = %s, Reward = %s, Observation = %s 124 [0. 0. 0. 0. 0.] 100 [ 9.4665302e-07 -1.9679567e-06  1.8145077e-04  1.8178350e-04]\n",
      "Step %d: Action = %s, Reward = %s, Observation = %s 125 [0. 0. 0. 0. 0.] 100 [ 9.4665302e-07 -1.9679567e-06  1.8145077e-04  1.8178350e-04]\n",
      "Step %d: Action = %s, Reward = %s, Observation = %s 126 [0. 0. 0. 0. 0.] 100 [ 9.4665302e-07 -1.9679567e-06  1.8145077e-04  1.8178350e-04]\n",
      "Step %d: Action = %s, Reward = %s, Observation = %s 127 [0. 0. 0. 0. 0.] 100 [ 9.4665302e-07 -1.9679567e-06  1.8145077e-04  1.8178350e-04]\n",
      "Step %d: Action = %s, Reward = %s, Observation = %s 128 [0. 0. 0. 0. 0.] 100 [ 9.4665302e-07 -1.9679567e-06  1.8145077e-04  1.8178350e-04]\n",
      "Step %d: Action = %s, Reward = %s, Observation = %s 129 [0. 0. 0. 0. 0.] 100 [ 9.4665302e-07 -1.9679567e-06  1.8145077e-04  1.8178350e-04]\n",
      "Step %d: Action = %s, Reward = %s, Observation = %s 130 [0. 0. 0. 0. 0.] 100 [ 9.4665302e-07 -1.9679567e-06  1.8145077e-04  1.8178350e-04]\n",
      "Step %d: Action = %s, Reward = %s, Observation = %s 131 [0. 0. 0. 0. 0.] 100 [ 9.4665302e-07 -1.9679567e-06  1.8145077e-04  1.8178350e-04]\n",
      "Step %d: Action = %s, Reward = %s, Observation = %s 132 [0. 0. 0. 0. 0.] 100 [ 9.4665302e-07 -1.9679567e-06  1.8145077e-04  1.8178350e-04]\n",
      "Step %d: Action = %s, Reward = %s, Observation = %s 133 [0. 0. 0. 0. 0.] 100 [ 9.4665302e-07 -1.9679567e-06  1.8145077e-04  1.8178350e-04]\n",
      "Step %d: Action = %s, Reward = %s, Observation = %s 134 [0. 0. 0. 0. 0.] 100 [ 9.4665302e-07 -1.9679567e-06  1.8145077e-04  1.8178350e-04]\n",
      "Step %d: Action = %s, Reward = %s, Observation = %s 135 [0. 0. 0. 0. 0.] 100 [ 9.4665302e-07 -1.9679567e-06  1.8145077e-04  1.8178350e-04]\n",
      "Step %d: Action = %s, Reward = %s, Observation = %s 136 [0. 0. 0. 0. 0.] 100 [ 9.4665302e-07 -1.9679567e-06  1.8145077e-04  1.8178350e-04]\n",
      "Step %d: Action = %s, Reward = %s, Observation = %s 137 [0. 0. 0. 0. 0.] 100 [ 9.4665302e-07 -1.9679567e-06  1.8145077e-04  1.8178350e-04]\n",
      "Step %d: Action = %s, Reward = %s, Observation = %s 138 [0. 0. 0. 0. 0.] 100 [ 9.4665302e-07 -1.9679567e-06  1.8145077e-04  1.8178350e-04]\n",
      "Step %d: Action = %s, Reward = %s, Observation = %s 139 [0. 0. 0. 0. 0.] 100 [ 9.4665302e-07 -1.9679567e-06  1.8145077e-04  1.8178350e-04]\n",
      "Step %d: Action = %s, Reward = %s, Observation = %s 140 [0. 0. 0. 0. 0.] 100 [ 9.4665302e-07 -1.9679567e-06  1.8145077e-04  1.8178350e-04]\n",
      "Step %d: Action = %s, Reward = %s, Observation = %s 141 [0. 0. 0. 0. 0.] 100 [ 9.4665302e-07 -1.9679567e-06  1.8145077e-04  1.8178350e-04]\n",
      "Step %d: Action = %s, Reward = %s, Observation = %s 142 [0. 0. 0. 0. 0.] 100 [ 9.4665302e-07 -1.9679567e-06  1.8145077e-04  1.8178350e-04]\n",
      "Step %d: Action = %s, Reward = %s, Observation = %s 143 [0. 0. 0. 0. 0.] 100 [ 9.4665302e-07 -1.9679567e-06  1.8145077e-04  1.8178350e-04]\n",
      "Step %d: Action = %s, Reward = %s, Observation = %s 144 [0. 0. 0. 0. 0.] 100 [ 9.4665302e-07 -1.9679567e-06  1.8145077e-04  1.8178350e-04]\n",
      "Step %d: Action = %s, Reward = %s, Observation = %s 145 [0. 0. 0. 0. 0.] 100 [ 9.4665302e-07 -1.9679567e-06  1.8145077e-04  1.8178350e-04]\n",
      "Step %d: Action = %s, Reward = %s, Observation = %s 146 [0. 0. 0. 0. 0.] 100 [ 9.4665302e-07 -1.9679567e-06  1.8145077e-04  1.8178350e-04]\n",
      "Step %d: Action = %s, Reward = %s, Observation = %s 147 [0. 0. 0. 0. 0.] 100 [ 9.4665302e-07 -1.9679567e-06  1.8145077e-04  1.8178350e-04]\n"
     ]
    },
    {
     "name": "stderr",
     "output_type": "stream",
     "text": [
      "INFO:beam_3d_visualizer.simulation_controller.beam_visualization_wrapper:Vite stdout: \u001b[2m10:23:18 AM\u001b[22m \u001b[36m\u001b[1m[vite]\u001b[22m\u001b[39m \u001b[90m\u001b[2m(client)\u001b[22m\u001b[39m \u001b[32mpage reload \u001b[39m\u001b[2mmain.js\u001b[22m\n"
     ]
    },
    {
     "name": "stdout",
     "output_type": "stream",
     "text": [
      "Step %d: Action = %s, Reward = %s, Observation = %s 148 [0. 0. 0. 0. 0.] 100 [ 9.4665302e-07 -1.9679567e-06  1.8145077e-04  1.8178350e-04]\n"
     ]
    },
    {
     "name": "stderr",
     "output_type": "stream",
     "text": [
      "INFO:beam_3d_visualizer.simulation_controller.websocket_wrapper:Client cleanup completed.\n"
     ]
    },
    {
     "name": "stdout",
     "output_type": "stream",
     "text": [
      "Step %d: Action = %s, Reward = %s, Observation = %s 149 [0. 0. 0. 0. 0.] 100 [ 9.4665302e-07 -1.9679567e-06  1.8145077e-04  1.8178350e-04]\n"
     ]
    },
    {
     "name": "stderr",
     "output_type": "stream",
     "text": [
      "INFO:websockets.server:connection open\n",
      "INFO:beam_3d_visualizer.simulation_controller.websocket_wrapper:WebSocket connection established.\n",
      "INFO:beam_3d_visualizer.simulation_controller.beam_visualization_wrapper:Terminated JavaScript web application process.\n",
      "INFO:beam_3d_visualizer.simulation_controller.websocket_wrapper:WebSocket server closed.\n"
     ]
    },
    {
     "name": "stdout",
     "output_type": "stream",
     "text": [
      "Step %d: Action = %s, Reward = %s, Observation = %s 150 [0. 0. 0. 0. 0.] 100 [ 9.4665302e-07 -1.9679567e-06  1.8145077e-04  1.8178350e-04]\n",
      "Simulation completed.\n",
      "Simulation shutdown completed.\n"
     ]
    },
    {
     "name": "stderr",
     "output_type": "stream",
     "text": [
      "INFO:websockets.server:server closing\n",
      "INFO:beam_3d_visualizer.simulation_controller.websocket_wrapper:Client cleanup completed.\n",
      "INFO:websockets.server:server closed\n"
     ]
    }
   ],
   "source": [
    "# Create a background task for the simulation\n",
    "simulation_task = asyncio.create_task(main())\n",
    "\n",
    "# Add a small delay to allow the web server and WebSocket to start\n",
    "await asyncio.sleep(2.0)  # Adjust delay as needed\n",
    "\n",
    "print(\"Simulation is running in the background. You can now run other cells.\")"
   ]
  },
  {
   "cell_type": "code",
   "execution_count": 7,
   "id": "f3c8bd7d-aa00-4e46-98ff-9020647af962",
   "metadata": {},
   "outputs": [
    {
     "name": "stderr",
     "output_type": "stream",
     "text": [
      "/Users/christiancontrerascampana/anaconda3/envs/rlaa2025/lib/python3.11/site-packages/IPython/core/display.py:447: UserWarning: Consider using IPython.display.IFrame instead\n",
      "  warnings.warn(\"Consider using IPython.display.IFrame instead\")\n"
     ]
    },
    {
     "data": {
      "text/html": [
       "<iframe src=\"http://localhost:5173/\" title=\"3D Lattice Visualization\" height=\"600\" width=\"1000\"></iframe>"
      ],
      "text/plain": [
       "<IPython.core.display.HTML object>"
      ]
     },
     "metadata": {},
     "output_type": "display_data"
    }
   ],
   "source": [
    "# Define the iframe as a string\n",
    "iframe = '<iframe src=\"http://localhost:5173/\" title=\"3D Lattice Visualization\" height=\"600\" width=\"1000\"></iframe>'\n",
    "\n",
    "display(HTML(iframe))"
   ]
  },
  {
   "cell_type": "code",
   "execution_count": 8,
   "id": "f132fbe1-c01b-4b59-a69d-77d28049ff34",
   "metadata": {},
   "outputs": [],
   "source": [
    "from IPython.display import IFrame"
   ]
  },
  {
   "cell_type": "code",
   "execution_count": 9,
   "id": "0532d945-418f-4721-af14-9abdbc579313",
   "metadata": {},
   "outputs": [
    {
     "data": {
      "text/html": [
       "\n",
       "        <iframe\n",
       "            width=\"1000\"\n",
       "            height=\"600\"\n",
       "            src=\"http://localhost:5173/\"\n",
       "            frameborder=\"0\"\n",
       "            allowfullscreen\n",
       "            \n",
       "        ></iframe>\n",
       "        "
      ],
      "text/plain": [
       "<IPython.lib.display.IFrame at 0x363d24450>"
      ]
     },
     "execution_count": 9,
     "metadata": {},
     "output_type": "execute_result"
    }
   ],
   "source": [
    "IFrame(src=\"http://localhost:5173/\", width=1000, height=600)"
   ]
  },
  {
   "cell_type": "markdown",
   "id": "819390c0-5d96-4a29-a528-328ac915b629",
   "metadata": {},
   "source": [
    "<iframe src=\"http://localhost:5173/\" title=\"3D Lattice Visualization\" height=\"600\" width=\"1000\"></iframe>"
   ]
  },
  {
   "cell_type": "code",
   "execution_count": null,
   "id": "64dfbd1a-0068-4df7-adf7-9283e6362e88",
   "metadata": {},
   "outputs": [],
   "source": []
  }
 ],
 "metadata": {
  "kernelspec": {
   "display_name": "Python 3 (ipykernel)",
   "language": "python",
   "name": "python3"
  },
  "language_info": {
   "codemirror_mode": {
    "name": "ipython",
    "version": 3
   },
   "file_extension": ".py",
   "mimetype": "text/x-python",
   "name": "python",
   "nbconvert_exporter": "python",
   "pygments_lexer": "ipython3",
   "version": "3.11.11"
  }
 },
 "nbformat": 4,
 "nbformat_minor": 5
}
