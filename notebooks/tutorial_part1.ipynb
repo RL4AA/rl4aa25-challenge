{
 "cells": [
  {
   "cell_type": "code",
   "execution_count": 1,
   "metadata": {},
   "outputs": [],
   "source": [
    "import sys\n",
    "\n",
    "sys.path.append(\"..\")\n",
    "\n",
    "import yaml\n",
    "import numpy as np\n",
    "import matplotlib.pyplot as plt\n",
    "from src.environments import ea"
   ]
  },
  {
   "cell_type": "markdown",
   "metadata": {},
   "source": [
    "# RL4AA Tutorial -- Part 1\n",
    "\n",
    "Goal: Solve the ARES Experimental Area tuning problem in a standard setting."
   ]
  },
  {
   "cell_type": "code",
   "execution_count": 2,
   "metadata": {},
   "outputs": [],
   "source": [
    "# Create the Environment\n",
    "# TODO: Move this part to a utility function later\n",
    "\n",
    "from gymnasium.wrappers import TimeLimit, FlattenObservation, RescaleAction\n",
    "from src.wrappers import RecordEpisode, RescaleObservation\n",
    "\n",
    "\n",
    "def make_eval_env(config: dict):\n",
    "    wrapper_config = config[\"env_wrapper\"]\n",
    "    env = ea.TransverseTuning(**config[\"env\"])\n",
    "\n",
    "    env = TimeLimit(env, max_episode_steps=wrapper_config[\"max_episode_steps\"])\n",
    "    env = RecordEpisode(env)\n",
    "    if wrapper_config[\"normalize_observation\"]:\n",
    "        env = RescaleObservation(env, 0, 1)\n",
    "    if wrapper_config[\"rescale_action\"]:\n",
    "        env = RescaleAction(env, -1, 1)\n",
    "    env = FlattenObservation(env)\n",
    "    return env"
   ]
  },
  {
   "cell_type": "code",
   "execution_count": 3,
   "metadata": {},
   "outputs": [],
   "source": [
    "config = yaml.safe_load(open(\"../config/ea_eval_config.yaml\", \"r\"))\n",
    "\n",
    "env = make_eval_env(config)"
   ]
  },
  {
   "cell_type": "code",
   "execution_count": 4,
   "metadata": {},
   "outputs": [
    {
     "data": {
      "text/plain": [
       "(array([3.6796455 , 4.1047115 , 0.9648144 , 0.19523343, 0.18531075,\n",
       "        0.27844745, 0.8176104 , 0.2145333 , 0.5664935 , 0.5       ,\n",
       "        0.        , 0.5       , 0.        ], dtype=float32),\n",
       " {'binning': array(1),\n",
       "  'is_on_screen': False,\n",
       "  'pixel_size': array([3.3198e-06, 2.4469e-06], dtype=float32),\n",
       "  'screen_resolution': array([2448., 2040.]),\n",
       "  'magnet_names': ['AREAMQZM1',\n",
       "   'AREAMQZM2',\n",
       "   'AREAMCVM1',\n",
       "   'AREAMQZM3',\n",
       "   'AREAMCHM1'],\n",
       "  'screen_name': 'AREABSCR1',\n",
       "  'beam_reward': None,\n",
       "  'on_screen_reward': None,\n",
       "  'magnet_change_reward': None,\n",
       "  'backend_info': {'incoming_beam': array([ 1.0140050e+08,  6.3369895e-04, -5.1670620e-05,  4.5974180e-04,\n",
       "          -3.0431343e-05,  4.2834834e-04,  1.9168965e-05,  4.8964191e-04,\n",
       "           5.4929465e-06,  4.4421968e-06,  5.6506909e-04], dtype=float32),\n",
       "   'misalignments': array([-2.0561318e-05,  1.7460827e-05, -6.7109155e-05,  7.0289789e-05,\n",
       "          -9.9992969e-05, -7.4051997e-05, -5.9633945e-05,  7.4094787e-05],\n",
       "         dtype=float32)}})"
      ]
     },
     "execution_count": 4,
     "metadata": {},
     "output_type": "execute_result"
    }
   ],
   "source": [
    "env.reset()"
   ]
  },
  {
   "cell_type": "code",
   "execution_count": 5,
   "metadata": {},
   "outputs": [],
   "source": [
    "env.unwrapped.get_beam_difference(metric=\"mae\")\n",
    "unwrapped_env = env.unwrapped"
   ]
  },
  {
   "cell_type": "markdown",
   "metadata": {},
   "source": [
    "## The EA Tuning Task Setup\n",
    "\n",
    "Observation:\n",
    "\n",
    "Actions:\n"
   ]
  },
  {
   "cell_type": "code",
   "execution_count": 6,
   "metadata": {},
   "outputs": [
    {
     "data": {
      "text/plain": [
       "<matplotlib.image.AxesImage at 0x14fd536d0>"
      ]
     },
     "execution_count": 6,
     "metadata": {},
     "output_type": "execute_result"
    },
    {
     "data": {
      "image/png": "[encoded data removed]",
      "text/plain": [
       "<Figure size 330x250 with 1 Axes>"
      ]
     },
     "metadata": {},
     "output_type": "display_data"
    }
   ],
   "source": [
    "plt.imshow(unwrapped_env.render())"
   ]
  },
  {
   "cell_type": "markdown",
   "metadata": {},
   "source": [
    "## Trying to solve the EA problem\n",
    "\n",
    "Implement a controller or optimization method, that can bring the observed electron beam $\\bm{b}$ to the target beam parameters $\\bm{b}'$.\n",
    "\n",
    "The difference between the beam parameters can be characterized by the mean absolute error (MAE):\n",
    "\n",
    "$$\n",
    "d_\\text{MAE} (\\bm{b}, \\bm{b}') = \\frac{1}{4} \\sum_{i=1}^{4} |\\bm{b}_i - \\bm{b}'_i|\n",
    "$$\n",
    "\n",
    "The algorithm is allowed to interact with the environment for in total $T$ steps. ($T=200$ in this example)\n",
    "\n",
    "The performance of the method will be evaluated by the following metrics:\n",
    "\n",
    "- Best MAE achieved by the method $\\min d_i, i=1,\\dots, T$\n",
    "- Cumulated MAE differences over the episode $\\sum_{i=1}^{T} d_i$"
   ]
  },
  {
   "cell_type": "markdown",
   "metadata": {},
   "source": [
    "### Baseline Method\n",
    "\n",
    "To help you get started, below we provide a simple example with the Nelder-Mead optimizer to show how to interact with the env."
   ]
  },
  {
   "cell_type": "code",
   "execution_count": 7,
   "metadata": {},
   "outputs": [
    {
     "name": "stderr",
     "output_type": "stream",
     "text": [
      "/var/folders/35/tl4qn9hx1c59cv7hmzsrrbd00000gn/T/ipykernel_4556/3673414813.py:16: RuntimeWarning: Maximum number of function evaluations has been exceeded.\n",
      "  res = minimize(\n"
     ]
    }
   ],
   "source": [
    "# Here we provide the baseline Nelder-Mead simplex Method\n",
    "from scipy.optimize import minimize\n",
    "\n",
    "\n",
    "# Wrap the env interaction in an objective function for optimization\n",
    "def objective(x):\n",
    "    env.step(x)\n",
    "    return env.unwrapped.get_beam_difference(metric=\"mae\")\n",
    "\n",
    "\n",
    "# Reset the Environment\n",
    "obs, _ = env.reset()\n",
    "\n",
    "x0 = obs[4:9]\n",
    "\n",
    "res = minimize(\n",
    "    objective,\n",
    "    x0,\n",
    "    method=\"nelder-mead\",\n",
    "    options={\n",
    "        \"xatol\": 1e-8,\n",
    "        \"disp\": True,\n",
    "        \"maxfev\": config[\"env_wrapper\"][\n",
    "            \"max_episode_steps\"\n",
    "        ],  # Maximum number of function evaluations\n",
    "    },\n",
    ")"
   ]
  },
  {
   "cell_type": "markdown",
   "metadata": {},
   "source": [
    "## Look into the result\n",
    "\n",
    "TODO: Move the following part in a utility function and hide from participants"
   ]
  },
  {
   "cell_type": "code",
   "execution_count": 8,
   "metadata": {},
   "outputs": [
    {
     "name": "stdout",
     "output_type": "stream",
     "text": [
      "Minimum MAE:                -3.139  mm\n",
      "Sum of MAE over all steps:  127.922 mm\n"
     ]
    },
    {
     "data": {
      "image/png": "[encoded data removed]",
      "text/plain": [
       "<Figure size 330x250 with 1 Axes>"
      ]
     },
     "metadata": {},
     "output_type": "display_data"
    }
   ],
   "source": [
    "observations = env.get_wrapper_attr(\"observations\")\n",
    "\n",
    "maes = np.array([np.mean(obs[\"beam\"] - obs[\"target\"]) for obs in observations])\n",
    "\n",
    "plt.plot(maes * 1000)\n",
    "# set y to logscale\n",
    "plt.yscale(\"log\")\n",
    "plt.ylabel(\"Mean Absolute Error (mm)\")\n",
    "plt.xlabel(\"Step\")\n",
    "\n",
    "print(f\"Minimum MAE:                {min(maes) * 1000:.3f}  mm\")\n",
    "print(f\"Sum of MAE over all steps:  {np.sum(maes) * 1000:.3f} mm\")"
   ]
  },
  {
   "cell_type": "markdown",
   "metadata": {},
   "source": [
    "### Now it is time to develop your own controller!\n",
    "\n"
   ]
  },
  {
   "cell_type": "code",
   "execution_count": null,
   "metadata": {},
   "outputs": [],
   "source": []
  },
  {
   "cell_type": "markdown",
   "metadata": {},
   "source": [
    "## Development Ideas:\n",
    "\n",
    "In the challenge, \n",
    "\n",
    "- Have a utility function to prepare the basic env setup (should not be modified) (cheetah backend, magnet range, ...)\n",
    "  - The users can change the \n",
    "  - \n",
    "- Create a new env wrapper to log the necessary statistics for the evaluation, e.g.\n",
    "  - MAEs over steps\n",
    "  - Wall-time used for each step\n",
    "- Evaluation Script that runs the control on several tasks and save the results\n",
    "  - Use argparse to decide which tasks to load, we provide the `train_tasks` in the beginning\n",
    "  - In the end, we provide the `test_tasks` for the final evaluation\n"
   ]
  },
  {
   "cell_type": "markdown",
   "metadata": {},
   "source": []
  }
 ],
 "metadata": {
  "kernelspec": {
   "display_name": "rl-tutorial",
   "language": "python",
   "name": "python3"
  },
  "language_info": {
   "codemirror_mode": {
    "name": "ipython",
    "version": 3
   },
   "file_extension": ".py",
   "mimetype": "text/x-python",
   "name": "python",
   "nbconvert_exporter": "python",
   "pygments_lexer": "ipython3",
   "version": "3.10.14"
  }
 },
 "nbformat": 4,
 "nbformat_minor": 2
}
