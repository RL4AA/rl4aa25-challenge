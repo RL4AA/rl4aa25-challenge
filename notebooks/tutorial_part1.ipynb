{
 "cells": [
  {
   "cell_type": "code",
   "execution_count": null,
   "metadata": {},
   "outputs": [],
   "source": [
    "import sys\n",
    "\n",
    "sys.path.append(\"..\")\n",
    "\n",
    "import yaml\n",
    "import matplotlib.pyplot as plt\n",
    "\n",
    "from src.environments import ea\n",
    "from src.environments.ea_auxiliary import make_eval_env\n",
    "from src.utils import evaluate_mae"
   ]
  },
  {
   "cell_type": "markdown",
   "metadata": {},
   "source": [
    "# RL4AA Tutorial -- Part 1\n",
    "\n",
    "Goal: Solve the ARES Experimental Area tuning problem in a standard setting."
   ]
  },
  {
   "cell_type": "code",
   "execution_count": 3,
   "metadata": {},
   "outputs": [],
   "source": [
    "config = yaml.safe_load(open(\"../config/ea_eval_config.yaml\", \"r\"))\n",
    "env = make_eval_env(config, ea)"
   ]
  },
  {
   "cell_type": "markdown",
   "metadata": {},
   "source": [
    "## The EA Tuning Task Setup\n",
    "\n",
    "Observation:\n",
    "\n",
    "Actions:\n"
   ]
  },
  {
   "cell_type": "code",
   "execution_count": 4,
   "metadata": {},
   "outputs": [
    {
     "data": {
      "text/plain": [
       "<matplotlib.image.AxesImage at 0x2c4b7d39ac0>"
      ]
     },
     "execution_count": 4,
     "metadata": {},
     "output_type": "execute_result"
    },
    {
     "data": {
      "image/png": "[encoded data removed]",
      "text/plain": [
       "<Figure size 330x250 with 1 Axes>"
      ]
     },
     "metadata": {},
     "output_type": "display_data"
    }
   ],
   "source": [
    "env.reset()\n",
    "env.unwrapped.get_beam_difference(metric=\"mae\")\n",
    "plt.imshow(env.unwrapped.render())"
   ]
  },
  {
   "cell_type": "markdown",
   "metadata": {},
   "source": [
    "## Trying to solve the EA problem\n",
    "\n",
    "Implement a controller or optimization method, that can bring the observed electron beam $\\bm{b}$ to the target beam parameters $\\bm{b}'$.\n",
    "\n",
    "The difference between the beam parameters can be characterized by the mean absolute error (MAE):\n",
    "\n",
    "$$\n",
    "d_\\text{MAE} (\\bm{b}, \\bm{b}') = \\frac{1}{4} \\sum_{i=1}^{4} |\\bm{b}_i - \\bm{b}'_i|\n",
    "$$\n",
    "\n",
    "The algorithm is allowed to interact with the environment for in total $T$ steps. ($T=200$ in this example)\n",
    "\n",
    "The performance of the method will be evaluated by the following metrics:\n",
    "\n",
    "- Best MAE achieved by the method $\\min d_i, i=1,\\dots, T$\n",
    "- Cumulated MAE differences over the episode $\\sum_{i=1}^{T} d_i$"
   ]
  },
  {
   "cell_type": "markdown",
   "metadata": {},
   "source": [
    "### Baseline Method\n",
    "\n",
    "To help you get started, below we provide a simple example with the Nelder-Mead optimizer to show how to interact with the env."
   ]
  },
  {
   "cell_type": "code",
   "execution_count": 5,
   "metadata": {},
   "outputs": [
    {
     "name": "stderr",
     "output_type": "stream",
     "text": [
      "C:\\Users\\hespe\\AppData\\Local\\Temp\\ipykernel_15496\\3673414813.py:16: RuntimeWarning: Maximum number of function evaluations has been exceeded.\n",
      "  res = minimize(\n"
     ]
    }
   ],
   "source": [
    "# Here we provide the baseline Nelder-Mead simplex Method\n",
    "from scipy.optimize import minimize\n",
    "\n",
    "\n",
    "# Wrap the env interaction in an objective function for optimization\n",
    "def objective(x):\n",
    "    env.step(x)\n",
    "    return env.unwrapped.get_beam_difference(metric=\"mae\")\n",
    "\n",
    "\n",
    "# Reset the Environment\n",
    "obs, _ = env.reset()\n",
    "\n",
    "x0 = obs[4:9]\n",
    "\n",
    "res = minimize(\n",
    "    objective,\n",
    "    x0,\n",
    "    method=\"nelder-mead\",\n",
    "    options={\n",
    "        \"xatol\": 1e-8,\n",
    "        \"disp\": True,\n",
    "        \"maxfev\": config[\"env_wrapper\"][\n",
    "            \"max_episode_steps\"\n",
    "        ],  # Maximum number of function evaluations\n",
    "    },\n",
    ")"
   ]
  },
  {
   "cell_type": "markdown",
   "metadata": {},
   "source": [
    "## Look into the result"
   ]
  },
  {
   "cell_type": "code",
   "execution_count": 6,
   "metadata": {},
   "outputs": [
    {
     "name": "stdout",
     "output_type": "stream",
     "text": [
      "Minimum MAE:                0.466  mm\n",
      "Sum of MAE over all steps:  223.984 mm\n"
     ]
    },
    {
     "data": {
      "text/plain": [
       "(<Figure size 330x250 with 1 Axes>,\n",
       " <Axes: xlabel='Step', ylabel='Mean Absolute Error (mm)'>)"
      ]
     },
     "execution_count": 6,
     "metadata": {},
     "output_type": "execute_result"
    },
    {
     "data": {
      "image/png": "[encoded data removed]",
      "text/plain": [
       "<Figure size 330x250 with 1 Axes>"
      ]
     },
     "metadata": {},
     "output_type": "display_data"
    }
   ],
   "source": [
    "observations = env.get_wrapper_attr(\"observations\")\n",
    "evaluate_mae(observations)"
   ]
  },
  {
   "cell_type": "markdown",
   "metadata": {},
   "source": [
    "### Now it is time to develop your own controller!\n",
    "\n"
   ]
  },
  {
   "cell_type": "code",
   "execution_count": null,
   "metadata": {},
   "outputs": [],
   "source": []
  },
  {
   "cell_type": "markdown",
   "metadata": {},
   "source": [
    "## Development Ideas:\n",
    "\n",
    "In the challenge, \n",
    "\n",
    "- Have a utility function to prepare the basic env setup (should not be modified) (cheetah backend, magnet range, ...)\n",
    "  - The users can change the \n",
    "  - \n",
    "- Create a new env wrapper to log the necessary statistics for the evaluation, e.g.\n",
    "  - MAEs over steps\n",
    "  - Wall-time used for each step\n",
    "- Evaluation Script that runs the control on several tasks and save the results\n",
    "  - Use argparse to decide which tasks to load, we provide the `train_tasks` in the beginning\n",
    "  - In the end, we provide the `test_tasks` for the final evaluation\n"
   ]
  },
  {
   "cell_type": "markdown",
   "metadata": {},
   "source": []
  },
  {
   "cell_type": "code",
   "execution_count": null,
   "metadata": {},
   "outputs": [],
   "source": []
  }
 ],
 "metadata": {
  "kernelspec": {
   "display_name": "tutorial",
   "language": "python",
   "name": "python3"
  },
  "language_info": {
   "codemirror_mode": {
    "name": "ipython",
    "version": 3
   },
   "file_extension": ".py",
   "mimetype": "text/x-python",
   "name": "python",
   "nbconvert_exporter": "python",
   "pygments_lexer": "ipython3",
   "version": "3.12.9"
  }
 },
 "nbformat": 4,
 "nbformat_minor": 2
}
