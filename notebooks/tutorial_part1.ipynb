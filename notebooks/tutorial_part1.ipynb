{
 "cells": [
  {
   "cell_type": "code",
   "execution_count": 22,
   "metadata": {},
   "outputs": [],
   "source": [
    "import sys\n",
    "\n",
    "sys.path.append(\"..\")\n",
    "\n",
    "import yaml\n",
    "import numpy as np\n",
    "import matplotlib.pyplot as plt\n",
    "from src.environments import ea"
   ]
  },
  {
   "cell_type": "markdown",
   "metadata": {},
   "source": [
    "# RL4AA Tutorial -- Part 1\n",
    "\n",
    "Goal: Solve the ARES Experimental Area tuning problem in a standard setting."
   ]
  },
  {
   "cell_type": "code",
   "execution_count": 2,
   "metadata": {},
   "outputs": [],
   "source": [
    "# Create the Environment\n",
    "# TODO: Move this part to a utility function later\n",
    "\n",
    "from gymnasium.wrappers import TimeLimit, FlattenObservation, RescaleAction\n",
    "from src.wrappers import RecordEpisode, RescaleObservation\n",
    "\n",
    "\n",
    "def make_eval_env(config: dict):\n",
    "    wrapper_config = config[\"env_wrapper\"]\n",
    "    env = ea.TransverseTuning(**config[\"env\"])\n",
    "\n",
    "    env = TimeLimit(env, max_episode_steps=wrapper_config[\"max_episode_steps\"])\n",
    "    env = RecordEpisode(env)\n",
    "    if wrapper_config[\"normalize_observation\"]:\n",
    "        env = RescaleObservation(env, 0, 1)\n",
    "    if wrapper_config[\"rescale_action\"]:\n",
    "        env = RescaleAction(env, -1, 1)\n",
    "    env = FlattenObservation(env)\n",
    "    return env"
   ]
  },
  {
   "cell_type": "code",
   "execution_count": 3,
   "metadata": {},
   "outputs": [],
   "source": [
    "config = yaml.safe_load(open(\"../config/ea_eval_config.yaml\", \"r\"))\n",
    "\n",
    "env = make_eval_env(config)"
   ]
  },
  {
   "cell_type": "code",
   "execution_count": 4,
   "metadata": {},
   "outputs": [
    {
     "data": {
      "text/plain": [
       "(array([-1.5692047 ,  1.646749  ,  0.5564025 ,  0.54640764,  0.8222494 ,\n",
       "         0.13888127,  0.4423622 ,  0.1953454 ,  0.17270067,  0.5       ,\n",
       "         0.        ,  0.5       ,  0.        ], dtype=float32),\n",
       " {'binning': array(1),\n",
       "  'is_on_screen': False,\n",
       "  'pixel_size': array([3.3198e-06, 2.4469e-06], dtype=float32),\n",
       "  'screen_resolution': array([2448., 2040.]),\n",
       "  'magnet_names': ['AREAMQZM1',\n",
       "   'AREAMQZM2',\n",
       "   'AREAMCVM1',\n",
       "   'AREAMQZM3',\n",
       "   'AREAMCHM1'],\n",
       "  'screen_name': 'AREABSCR1',\n",
       "  'beam_reward': None,\n",
       "  'on_screen_reward': None,\n",
       "  'magnet_change_reward': None,\n",
       "  'backend_info': {'incoming_beam': array([ 8.9221248e+07,  6.2942225e-04, -7.7964280e-05, -2.2459489e-04,\n",
       "          -7.9526224e-05,  4.7598398e-04,  4.6226640e-05,  4.0731969e-04,\n",
       "           1.3777382e-05,  3.7240861e-05,  5.5650092e-04], dtype=float32),\n",
       "   'misalignments': array([-8.6626977e-05,  1.3867175e-06,  3.1859563e-05, -1.2523483e-05,\n",
       "           5.5042485e-05, -4.3142711e-05,  6.9185618e-05, -2.3745260e-05],\n",
       "         dtype=float32)}})"
      ]
     },
     "execution_count": 4,
     "metadata": {},
     "output_type": "execute_result"
    }
   ],
   "source": [
    "env.reset()"
   ]
  },
  {
   "cell_type": "code",
   "execution_count": 5,
   "metadata": {},
   "outputs": [
    {
     "data": {
      "text/plain": [
       "0.0032221857181866653"
      ]
     },
     "execution_count": 5,
     "metadata": {},
     "output_type": "execute_result"
    }
   ],
   "source": [
    "env.unwrapped.get_beam_difference(metric=\"mae\")"
   ]
  },
  {
   "cell_type": "markdown",
   "metadata": {},
   "source": [
    "## The EA Tuning Task Setup\n",
    "\n",
    "Observation:\n"
   ]
  },
  {
   "cell_type": "code",
   "execution_count": null,
   "metadata": {},
   "outputs": [],
   "source": []
  },
  {
   "cell_type": "markdown",
   "metadata": {},
   "source": [
    "## Trying to solve the EA problem\n",
    "\n",
    "Implement a controller or optimization method, that can bring the observed electron beam $\\bm{b}$ to the target beam parameters $\\bm{b}'$.\n",
    "\n",
    "The difference between the beam parameters can be characterized by the mean absolute error (MAE):\n",
    "\n",
    "$$\n",
    "d_\\text{MAE} (\\bm{b}, \\bm{b}') = \\frac{1}{4} \\sum_{i=1}^{4} |\\bm{b}_i - \\bm{b}'_i|\n",
    "$$\n",
    "\n",
    "The algorithm is allowed to interact with the environment for in total $T$ steps. ($T=200$ in this example)\n",
    "\n",
    "The performance of the method will be evaluated by the following metrics:\n",
    "\n",
    "- Best MAE achieved by the method $\\min d_i, i=1,\\dots, T$\n",
    "- Cumulated MAE differences over the episode $\\sum_{i=1}^{T} d_i$"
   ]
  },
  {
   "cell_type": "code",
   "execution_count": 31,
   "metadata": {},
   "outputs": [
    {
     "name": "stderr",
     "output_type": "stream",
     "text": [
      "/var/folders/35/tl4qn9hx1c59cv7hmzsrrbd00000gn/T/ipykernel_4817/513448258.py:13: RuntimeWarning: Maximum number of function evaluations has been exceeded.\n",
      "  res = minimize(\n"
     ]
    }
   ],
   "source": [
    "# Here we provide the baseline Nelder-Mead Simplex Method\n",
    "from scipy.optimize import minimize\n",
    "\n",
    "\n",
    "def objective(x):\n",
    "    env.step(x)\n",
    "    return env.unwrapped.get_beam_difference(metric=\"mae\")\n",
    "\n",
    "\n",
    "# Reset the Environment\n",
    "obs, _ = env.reset()\n",
    "\n",
    "x0 = obs[4:9]\n",
    "\n",
    "res = minimize(\n",
    "    objective,\n",
    "    x0,\n",
    "    method=\"nelder-mead\",\n",
    "    options={\n",
    "        \"xatol\": 1e-8,\n",
    "        \"disp\": True,\n",
    "        \"maxfev\": config[\"env_wrapper\"][\n",
    "            \"max_episode_steps\"\n",
    "        ],  # Maximum number of function evaluations\n",
    "    },\n",
    ")"
   ]
  },
  {
   "cell_type": "markdown",
   "metadata": {},
   "source": [
    "## Look into the result\n",
    "\n",
    "TODO: Move the following part in a utility function and hide from participants"
   ]
  },
  {
   "cell_type": "code",
   "execution_count": 39,
   "metadata": {},
   "outputs": [
    {
     "name": "stdout",
     "output_type": "stream",
     "text": [
      "Minimum MAE:                0.197 mm\n",
      "Sum of MAE over all steps:  164.920 mm\n"
     ]
    },
    {
     "data": {
      "image/png": "[encoded data removed]",
      "text/plain": [
       "<Figure size 330x250 with 1 Axes>"
      ]
     },
     "metadata": {},
     "output_type": "display_data"
    }
   ],
   "source": [
    "observations = env.get_wrapper_attr(\"observations\")\n",
    "\n",
    "maes = np.array([np.mean(obs[\"beam\"] - obs[\"target\"]) for obs in observations])\n",
    "\n",
    "plt.plot(maes * 1000)\n",
    "# set y to logscale\n",
    "plt.yscale(\"log\")\n",
    "plt.ylabel(\"Mean Absolute Error (mm)\")\n",
    "plt.xlabel(\"Step\")\n",
    "\n",
    "print(f\"Minimum MAE:                {min(maes) * 1000:.3f}  mm\")\n",
    "print(f\"Sum of MAE over all steps:  {np.sum(maes) * 1000:.3f} mm\")"
   ]
  },
  {
   "cell_type": "markdown",
   "metadata": {},
   "source": []
  }
 ],
 "metadata": {
  "kernelspec": {
   "display_name": "rl-tutorial",
   "language": "python",
   "name": "python3"
  },
  "language_info": {
   "codemirror_mode": {
    "name": "ipython",
    "version": 3
   },
   "file_extension": ".py",
   "mimetype": "text/x-python",
   "name": "python",
   "nbconvert_exporter": "python",
   "pygments_lexer": "ipython3",
   "version": "3.10.14"
  }
 },
 "nbformat": 4,
 "nbformat_minor": 2
}
